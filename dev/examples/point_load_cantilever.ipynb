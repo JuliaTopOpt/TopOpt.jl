{
 "cells": [
  {
   "cell_type": "markdown",
   "source": [
    "# PointLoadCantilever"
   ],
   "metadata": {}
  },
  {
   "cell_type": "markdown",
   "source": [
    "## Commented Program\n",
    "\n",
    "Now we solve the problem in JuAFEM. What follows is a program spliced with comments."
   ],
   "metadata": {}
  },
  {
   "outputs": [
    {
     "name": "stdout",
     "output_type": "stream",
     "text": [
      "┌ Warning: Loaded OpenGL Backend, but OpenGL isn't working\n",
      "└ @ GLMakie ~/.julia/packages/GLMakie/5aJEt/src/GLMakie.jl:73\n",
      "┌ Warning: Loaded OpenGL Backend, but OpenGL isn't working\n",
      "└ @ GLMakie /home/travis/.julia/packages/GLMakie/5aJEt/src/GLMakie.jl:73\n"
     ]
    }
   ],
   "cell_type": "code",
   "source": [
    "using TopOpt, Makie\n",
    "import GeometryBasics"
   ],
   "metadata": {},
   "execution_count": 1
  },
  {
   "cell_type": "markdown",
   "source": [
    "### Define the problem"
   ],
   "metadata": {}
  },
  {
   "outputs": [],
   "cell_type": "code",
   "source": [
    "E = 1.0 # Young’s modulus\n",
    "v = 0.3 # Poisson’s ratio\n",
    "f = 1.0; # downward force\n",
    "\n",
    "nels = (12, 6, 6) # change to (40, 20, 20) for a more high-res result\n",
    "problem = PointLoadCantilever(Val{:Linear}, nels, (1.0, 1.0, 1.0), E, v, f);"
   ],
   "metadata": {},
   "execution_count": 2
  },
  {
   "cell_type": "markdown",
   "source": [
    "### Parameter settings"
   ],
   "metadata": {}
  },
  {
   "outputs": [],
   "cell_type": "code",
   "source": [
    "V = 0.3 # volume fraction\n",
    "xmin = 0.001 # minimum density\n",
    "rmin = 4.0; # density filter radius"
   ],
   "metadata": {},
   "execution_count": 3
  },
  {
   "cell_type": "markdown",
   "source": [
    "### Define a finite element solver"
   ],
   "metadata": {}
  },
  {
   "outputs": [],
   "cell_type": "code",
   "source": [
    "penalty = TopOpt.PowerPenalty(3.0)\n",
    "solver = FEASolver(Displacement, Direct, problem, xmin = xmin,\n",
    "    penalty = penalty);"
   ],
   "metadata": {},
   "execution_count": 4
  },
  {
   "cell_type": "markdown",
   "source": [
    "### Define compliance objective"
   ],
   "metadata": {}
  },
  {
   "outputs": [],
   "cell_type": "code",
   "source": [
    "obj = Objective(TopOpt.Compliance(problem, solver, filterT = DensityFilter,\n",
    "    rmin = rmin, tracing = true, logarithm = false));"
   ],
   "metadata": {},
   "execution_count": 5
  },
  {
   "cell_type": "markdown",
   "source": [
    "### Define volume constraint"
   ],
   "metadata": {}
  },
  {
   "outputs": [],
   "cell_type": "code",
   "source": [
    "constr = Constraint(TopOpt.Volume(problem, solver, filterT = DensityFilter, rmin = rmin), V);"
   ],
   "metadata": {},
   "execution_count": 6
  },
  {
   "cell_type": "markdown",
   "source": [
    "### Define subproblem optimizer"
   ],
   "metadata": {}
  },
  {
   "outputs": [
    {
     "name": "stdout",
     "output_type": "stream",
     "text": [
      "kkt residual: 0.6999999999999984\n",
      "ipopt residual: 0.6999999999999984\n"
     ]
    }
   ],
   "cell_type": "code",
   "source": [
    "mma_options = options = MMA.Options(maxiter = 3000,\n",
    "    tol = MMA.Tolerances(kkttol = 0.001))\n",
    "convcriteria = MMA.KKTCriteria()\n",
    "optimizer = MMAOptimizer(obj, constr, MMA.MMA87(),\n",
    "    ConjugateGradient(), options = mma_options,\n",
    "    convcriteria = convcriteria);"
   ],
   "metadata": {},
   "execution_count": 7
  },
  {
   "cell_type": "markdown",
   "source": [
    "### Define SIMP optimizer"
   ],
   "metadata": {}
  },
  {
   "outputs": [],
   "cell_type": "code",
   "source": [
    "simp = SIMP(optimizer, penalty.p);"
   ],
   "metadata": {},
   "execution_count": 8
  },
  {
   "cell_type": "markdown",
   "source": [
    "### Solve"
   ],
   "metadata": {}
  },
  {
   "outputs": [
    {
     "name": "stdout",
     "output_type": "stream",
     "text": [
      "kkt residual: 0.6999999999999984\n",
      "ipopt residual: 0.6999999999999984\n",
      "kkt residual: 3.351836465773589\n",
      "ipopt residual: 3.351836465773589\n",
      "kkt residual: 559.6972566557297\n",
      "ipopt residual: 138.10925876464105\n",
      "kkt residual: 18.504209525362583\n",
      "ipopt residual: 18.504209525362583\n",
      "kkt residual: 3.9032361707277814\n",
      "ipopt residual: 3.9032361707277814\n",
      "kkt residual: 3.3087979891761545\n",
      "ipopt residual: 3.3087979891761545\n",
      "kkt residual: 3.2556777429958723\n",
      "ipopt residual: 3.2556777429958723\n",
      "kkt residual: 2.6396304914560282\n",
      "ipopt residual: 2.6396304914560282\n",
      "kkt residual: 2.4517684982577856\n",
      "ipopt residual: 2.4517684982577856\n",
      "kkt residual: 1.9706682233656232\n",
      "ipopt residual: 1.9706682233656232\n",
      "kkt residual: 1.4411492880930563\n",
      "ipopt residual: 1.4411492880930563\n",
      "kkt residual: 1.0884521181240758\n",
      "ipopt residual: 1.0884521181240758\n",
      "kkt residual: 0.7356097609906984\n",
      "ipopt residual: 0.7356097609906984\n",
      "kkt residual: 0.5721839530094559\n",
      "ipopt residual: 0.5721839530094559\n",
      "kkt residual: 0.3715484174080763\n",
      "ipopt residual: 0.3715484174080763\n",
      "kkt residual: 0.31987779976830955\n",
      "ipopt residual: 0.31987779976830955\n",
      "kkt residual: 0.28126244385108023\n",
      "ipopt residual: 0.28126244385108023\n",
      "kkt residual: 0.22557255272005627\n",
      "ipopt residual: 0.22557255272005627\n",
      "kkt residual: 0.13573754454737563\n",
      "ipopt residual: 0.13573754454737563\n",
      "kkt residual: 0.12287521607366947\n",
      "ipopt residual: 0.12287521607366947\n",
      "kkt residual: 0.11617461496071635\n",
      "ipopt residual: 0.11617461496071635\n",
      "kkt residual: 0.05000808165127313\n",
      "ipopt residual: 0.05000808165127313\n",
      "kkt residual: 0.04611993035741557\n",
      "ipopt residual: 0.04611993035741557\n",
      "kkt residual: 0.03884706403938232\n",
      "ipopt residual: 0.03884706403938232\n",
      "kkt residual: 0.03764074801176365\n",
      "ipopt residual: 0.03764074801176365\n",
      "kkt residual: 0.034059116512064946\n",
      "ipopt residual: 0.034059116512064946\n",
      "kkt residual: 0.03376973722353638\n",
      "ipopt residual: 0.03376973722353638\n",
      "kkt residual: 0.033596517751565136\n",
      "ipopt residual: 0.033596517751565136\n",
      "kkt residual: 0.03132991187234957\n",
      "ipopt residual: 0.03132991187234957\n",
      "kkt residual: 0.026038797449077666\n",
      "ipopt residual: 0.026038797449077666\n",
      "kkt residual: 0.023043353906764485\n",
      "ipopt residual: 0.023043353906764485\n",
      "kkt residual: 0.021183936746009824\n",
      "ipopt residual: 0.021183936746009824\n",
      "kkt residual: 0.01957791757833882\n",
      "ipopt residual: 0.01957791757833882\n",
      "kkt residual: 0.021138740706851955\n",
      "ipopt residual: 0.021138740706851955\n",
      "kkt residual: 0.02248864240130488\n",
      "ipopt residual: 0.02248864240130488\n",
      "kkt residual: 0.021653530591440262\n",
      "ipopt residual: 0.021653530591440262\n",
      "kkt residual: 0.020564952282413396\n",
      "ipopt residual: 0.020564952282413396\n",
      "kkt residual: 0.020118638476253503\n",
      "ipopt residual: 0.020118638476253503\n",
      "kkt residual: 0.019831886041201008\n",
      "ipopt residual: 0.019831886041201008\n",
      "kkt residual: 0.01971455541151257\n",
      "ipopt residual: 0.01971455541151257\n",
      "kkt residual: 0.0197059227054468\n",
      "ipopt residual: 0.0197059227054468\n",
      "kkt residual: 0.019028534509682338\n",
      "ipopt residual: 0.019028534509682338\n",
      "kkt residual: 0.018431159215669846\n",
      "ipopt residual: 0.018431159215669846\n",
      "kkt residual: 0.004686890758739848\n",
      "ipopt residual: 0.004686890758739848\n",
      "kkt residual: 0.002724755876919005\n",
      "ipopt residual: 0.002724755876919005\n",
      "kkt residual: 0.0016989112679319796\n",
      "ipopt residual: 0.0016989112679319796\n",
      "kkt residual: 0.0009621528063210594\n",
      "ipopt residual: 0.0009621528063210594\n"
     ]
    }
   ],
   "cell_type": "code",
   "source": [
    "x0 = fill(1.0, length(solver.vars))\n",
    "result = simp(x0);"
   ],
   "metadata": {},
   "execution_count": 9
  },
  {
   "cell_type": "markdown",
   "source": [
    "### Visualize the result using Makie.jl"
   ],
   "metadata": {}
  },
  {
   "outputs": [
    {
     "name": "stdout",
     "output_type": "stream",
     "text": [
      "┌ Info: Makie/AbstractPlotting is caching fonts, this may take a while. Needed only on first run!\n",
      "└ @ AbstractPlotting /home/travis/.julia/packages/AbstractPlotting/Q2ju2/src/utilities/texture_atlas.jl:115\n"
     ]
    }
   ],
   "cell_type": "code",
   "source": [
    "result_mesh = GeometryBasics.Mesh(problem, result.topology);\n",
    "\n",
    "mesh(result_mesh);"
   ],
   "metadata": {},
   "execution_count": 10
  },
  {
   "cell_type": "markdown",
   "source": [
    "---\n",
    "\n",
    "*This notebook was generated using [Literate.jl](https://github.com/fredrikekre/Literate.jl).*"
   ],
   "metadata": {}
  }
 ],
 "nbformat_minor": 3,
 "metadata": {
  "language_info": {
   "file_extension": ".jl",
   "mimetype": "application/julia",
   "name": "julia",
   "version": "1.5.0"
  },
  "kernelspec": {
   "name": "julia-1.5",
   "display_name": "Julia 1.5.0",
   "language": "julia"
  }
 },
 "nbformat": 4
}
