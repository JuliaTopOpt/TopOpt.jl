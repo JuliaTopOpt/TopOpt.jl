{
 "cells": [
  {
   "cell_type": "markdown",
   "source": [
    "using Revise"
   ],
   "metadata": {}
  },
  {
   "outputs": [
    {
     "output_type": "execute_result",
     "data": {
      "text/plain": "3.0"
     },
     "metadata": {},
     "execution_count": 1
    }
   ],
   "cell_type": "code",
   "source": [
    "using TopOpt, LinearAlgebra, StatsFuns\n",
    "using StatsFuns: logsumexp\n",
    "\n",
    "E = 1.0 # Young’s modulus\n",
    "v = 0.3 # Poisson’s ratio\n",
    "f = 1.0 # downward force\n",
    "rmin = 3.0"
   ],
   "metadata": {},
   "execution_count": 1
  },
  {
   "cell_type": "markdown",
   "source": [
    "### Define the problem"
   ],
   "metadata": {}
  },
  {
   "outputs": [
    {
     "output_type": "execute_result",
     "data": {
      "text/plain": ""
     },
     "metadata": {},
     "execution_count": 2
    }
   ],
   "cell_type": "code",
   "source": [
    "problem = PointLoadCantilever(Val{:Linear}, (160, 40), (1.0, 1.0), E, v, f)"
   ],
   "metadata": {},
   "execution_count": 2
  },
  {
   "cell_type": "markdown",
   "source": [
    "### Parameter settings"
   ],
   "metadata": {}
  },
  {
   "outputs": [
    {
     "output_type": "execute_result",
     "data": {
      "text/plain": "40"
     },
     "metadata": {},
     "execution_count": 3
    }
   ],
   "cell_type": "code",
   "source": [
    "V = 0.5 # volume fraction\n",
    "xmin = 0.0001 # minimum density\n",
    "steps = 40 # maximum number of penalty steps, delta_p0 = 0.1"
   ],
   "metadata": {},
   "execution_count": 3
  },
  {
   "cell_type": "markdown",
   "source": [
    "### Continuation SIMP"
   ],
   "metadata": {}
  },
  {
   "outputs": [
    {
     "name": "stdout",
     "output_type": "stream",
     "text": [
      "[ Info:   iter        fx    normgp    normcx         μ     normy    sumc     inner_status        iter_type  \n",
      "[ Info:      0  -3.3e-16   8.0e+01   1.3e+00   1.0e+01   8.0e+01       5\n",
      "[ Info:      1   1.8e-15   8.0e+01   1.3e+00   1.0e+02   8.0e+01       9      first_order         update_μ\n",
      "[ Info:      2  -3.4e-04   8.0e+01   8.0e-01   1.0e+03   8.0e+01      21      first_order         update_μ\n",
      "[ Info:      3  -1.7e-04   1.3e-02   8.0e-02   1.0e+03   4.3e-03      32      first_order         update_y\n",
      "[ Info:      4  -9.8e-02   5.3e-01   5.4e-04   1.0e+03   5.4e-01     600         max_eval         update_y\n",
      "[ Info:      5  -9.8e-02   5.3e-01   5.4e-04   1.0e+04   5.4e-01     604         max_eval         update_μ\n",
      "[ Info:      6  -9.8e-02   5.9e+00   5.4e-04   1.0e+04   6.0e+00     608         max_eval         update_y\n",
      "[ Info:      7  -9.8e-02   5.9e+00   5.4e-04   1.0e+05   6.0e+00     612         max_eval         update_μ\n",
      "[ Info:      8  -9.8e-02   5.8e+01   5.4e-04   1.0e+05   6.0e+01     616         max_eval         update_y\n",
      "[ Info:      9  -9.8e-02   5.8e+01   5.4e-04   1.0e+06   6.0e+01     620         max_eval         update_μ\n",
      "[ Info:     10  -9.8e-02   5.8e+02   5.4e-04   1.0e+06   6.0e+02     624         max_eval         update_y\n",
      "[ Info:     11  -9.8e-02   5.8e+02   5.4e-04   1.0e+07   6.0e+02     628         max_eval         update_μ\n",
      "[ Info:     12  -9.8e-02   5.8e+03   5.4e-04   1.0e+07   6.0e+03     632         max_eval         update_y\n",
      "[ Info:     13  -9.8e-02   5.8e+03   5.4e-04   1.0e+08   6.0e+03     636         max_eval         update_μ\n",
      "[ Info:     14  -9.8e-02   5.8e+04   5.4e-04   1.0e+08   6.0e+04     640         max_eval         update_y\n",
      "[ Info:     15  -9.8e-02   5.8e+04   5.4e-04   1.0e+09   6.0e+04     644         max_eval         update_μ\n",
      "[ Info:     16  -9.8e-02   5.8e+05   5.4e-04   1.0e+09   6.0e+05     648         max_eval         update_y\n",
      "[ Info:     17  -9.8e-02   5.8e+05   5.4e-04   1.0e+10   6.0e+05     652         max_eval         update_μ\n",
      "[ Info:     18  -9.8e-02   5.8e+06   5.4e-04   1.0e+10   6.0e+06     656         max_eval         update_y\n",
      "[ Info:     19  -9.8e-02   5.8e+06   5.4e-04   1.0e+11   6.0e+06     660         max_eval         update_μ\n",
      "[ Info:     20  -9.8e-02   5.8e+07   5.4e-04   1.0e+11   6.0e+07     664         max_eval         update_y\n",
      "[ Info:     21  -9.8e-02   5.8e+07   5.4e-04   1.0e+12   6.0e+07     668         max_eval         update_μ\n",
      "[ Info:     22  -9.8e-02   5.8e+08   5.4e-04   1.0e+12   6.0e+08     672         max_eval         update_y\n",
      "[ Info:     23  -9.8e-02   5.8e+08   5.4e-04   1.0e+13   6.0e+08     676         max_eval         update_μ\n",
      "[ Info:     24  -9.8e-02   5.8e+09   5.4e-04   1.0e+13   6.0e+09     680         max_eval         update_y\n",
      "[ Info:     25  -9.8e-02   5.8e+09   5.4e-04   1.0e+14   6.0e+09     684         max_eval         update_μ\n",
      "[ Info:     26  -9.8e-02   5.8e+10   5.4e-04   1.0e+14   6.0e+10     688         max_eval         update_y\n",
      "[ Info:     27  -9.8e-02   5.8e+10   5.4e-04   1.0e+15   6.0e+10     692         max_eval         update_μ\n",
      "[ Info:     28  -9.8e-02   5.8e+11   5.4e-04   1.0e+15   6.0e+11     696         max_eval         update_y\n",
      "[ Info:     29  -9.8e-02   5.8e+11   5.4e-04   1.0e+16   6.0e+11     700         max_eval         update_μ\n",
      "[ Info:     30  -9.8e-02   5.8e+12   5.4e-04   1.0e+16   6.0e+12     704         max_eval         update_y\n",
      "[ Info:     31  -9.8e-02   5.8e+12   5.4e-04   1.0e+17   6.0e+12     708         max_eval         update_μ\n",
      "[ Info:   iter        fx    normgp    normcx         μ     normy    sumc     inner_status        iter_type  \n",
      "[ Info:      0  -9.8e-02   8.0e+01   1.3e+00   1.0e+01   8.0e+01       5\n",
      "[ Info:      1  -9.8e-02   8.0e+01   1.3e+00   1.0e+02   8.0e+01       9      first_order         update_μ\n",
      "[ Info:      2  -9.8e-02   8.0e+01   8.2e-01   1.0e+03   8.0e+01      22      first_order         update_μ\n",
      "[ Info:      3  -2.1e-02   1.6e-02   8.0e-02   1.0e+03   1.9e+00     175      first_order         update_y\n",
      "[ Info:      4  -1.8e-02   1.6e-02   1.4e-03   1.0e+04   1.9e+00     596         max_eval         update_μ\n",
      "[ Info:      5  -1.8e-02   2.5e+00   1.4e-03   1.0e+04   1.6e+01     600         max_eval         update_y\n",
      "[ Info:      6  -1.8e-02   2.5e+00   1.4e-03   1.0e+05   1.6e+01     604         max_eval         update_μ\n",
      "[ Info:      7  -1.8e-02   2.8e+01   1.4e-03   1.0e+05   1.6e+02     608         max_eval         update_y\n",
      "[ Info:      8  -1.8e-02   2.8e+01   1.4e-03   1.0e+06   1.6e+02     612         max_eval         update_μ\n",
      "[ Info:      9  -1.8e-02   2.8e+02   1.4e-03   1.0e+06   1.6e+03     616         max_eval         update_y\n",
      "[ Info:     10  -1.8e-02   2.8e+02   1.4e-03   1.0e+07   1.6e+03     620         max_eval         update_μ\n",
      "[ Info:     11  -1.8e-02   2.8e+03   1.4e-03   1.0e+07   1.6e+04     624         max_eval         update_y\n",
      "[ Info:     12  -1.8e-02   2.8e+03   1.4e-03   1.0e+08   1.6e+04     628         max_eval         update_μ\n",
      "[ Info:     13  -1.8e-02   2.8e+04   1.4e-03   1.0e+08   1.6e+05     632         max_eval         update_y\n",
      "[ Info:     14  -1.8e-02   2.8e+04   1.4e-03   1.0e+09   1.6e+05     636         max_eval         update_μ\n",
      "[ Info:     15  -1.8e-02   2.8e+05   1.4e-03   1.0e+09   1.6e+06     640         max_eval         update_y\n",
      "[ Info:     16  -1.8e-02   2.8e+05   1.4e-03   1.0e+10   1.6e+06     644         max_eval         update_μ\n",
      "[ Info:     17  -1.8e-02   2.8e+06   1.4e-03   1.0e+10   1.6e+07     648         max_eval         update_y\n",
      "[ Info:     18  -1.8e-02   2.8e+06   1.4e-03   1.0e+11   1.6e+07     652         max_eval         update_μ\n",
      "[ Info:     19  -1.8e-02   2.8e+07   1.4e-03   1.0e+11   1.6e+08     656         max_eval         update_y\n",
      "[ Info:     20  -1.8e-02   2.8e+07   1.4e-03   1.0e+12   1.6e+08     660         max_eval         update_μ\n",
      "[ Info:     21  -1.8e-02   2.8e+08   1.4e-03   1.0e+12   1.6e+09     664         max_eval         update_y\n",
      "[ Info:     22  -1.8e-02   2.8e+08   1.4e-03   1.0e+13   1.6e+09     668         max_eval         update_μ\n",
      "[ Info:     23  -1.8e-02   2.8e+09   1.4e-03   1.0e+13   1.6e+10     672         max_eval         update_y\n",
      "[ Info:     24  -1.8e-02   2.8e+09   1.4e-03   1.0e+14   1.6e+10     676         max_eval         update_μ\n",
      "[ Info:     25  -1.8e-02   2.8e+10   1.4e-03   1.0e+14   1.6e+11     680         max_eval         update_y\n",
      "[ Info:     26  -1.8e-02   2.8e+10   1.4e-03   1.0e+15   1.6e+11     684         max_eval         update_μ\n",
      "[ Info:     27  -1.8e-02   2.8e+11   1.4e-03   1.0e+15   1.6e+12     688         max_eval         update_y\n",
      "[ Info:     28  -1.8e-02   2.8e+11   1.4e-03   1.0e+16   1.6e+12     692         max_eval         update_μ\n",
      "[ Info:     29  -1.8e-02   2.8e+12   1.4e-03   1.0e+16   1.6e+13     696         max_eval         update_y\n",
      "[ Info:     30  -1.8e-02   2.8e+12   1.4e-03   1.0e+17   1.6e+13     700         max_eval         update_μ\n",
      "[ Info:   iter        fx    normgp    normcx         μ     normy    sumc     inner_status        iter_type  \n",
      "[ Info:      0  -1.8e-02   8.0e+01   1.2e+00   1.0e+01   8.0e+01       5\n",
      "[ Info:      1  -1.8e-02   8.0e+01   1.2e+00   1.0e+02   8.0e+01       9      first_order         update_μ\n",
      "[ Info:      2  -1.9e-02   8.0e+01   8.1e-01   1.0e+03   8.0e+01      22      first_order         update_μ\n",
      "[ Info:      3   6.2e-02   2.2e-02   8.0e-02   1.0e+03   3.6e+00     163      first_order         update_y\n",
      "[ Info:      4   7.3e-02   1.9e-02   1.2e-03   1.0e+04   3.6e+00     596         max_eval         update_μ\n",
      "[ Info:      5   7.3e-02   3.7e+00   1.2e-03   1.0e+04   1.5e+01     600         max_eval         update_y\n",
      "[ Info:      6   7.3e-02   3.7e+00   1.2e-03   1.0e+05   1.5e+01     604         max_eval         update_μ\n",
      "[ Info:      7   7.3e-02   4.8e+01   1.2e-03   1.0e+05   1.3e+02     608         max_eval         update_y\n",
      "[ Info:      8   7.3e-02   4.8e+01   1.2e-03   1.0e+06   1.3e+02     612         max_eval         update_μ\n",
      "[ Info:      9   7.3e-02   4.9e+02   1.2e-03   1.0e+06   1.3e+03     616         max_eval         update_y\n",
      "[ Info:     10   7.3e-02   4.9e+02   1.2e-03   1.0e+07   1.3e+03     620         max_eval         update_μ\n",
      "[ Info:     11   7.3e-02   4.9e+03   1.2e-03   1.0e+07   1.3e+04     624         max_eval         update_y\n",
      "[ Info:     12   7.3e-02   4.9e+03   1.2e-03   1.0e+08   1.3e+04     628         max_eval         update_μ\n",
      "[ Info:     13   7.3e-02   4.9e+04   1.2e-03   1.0e+08   1.3e+05     632         max_eval         update_y\n",
      "[ Info:     14   7.3e-02   4.9e+04   1.2e-03   1.0e+09   1.3e+05     636         max_eval         update_μ\n",
      "[ Info:     15   7.3e-02   4.9e+05   1.2e-03   1.0e+09   1.3e+06     640         max_eval         update_y\n",
      "[ Info:     16   7.3e-02   4.9e+05   1.2e-03   1.0e+10   1.3e+06     644         max_eval         update_μ\n",
      "[ Info:     17   7.3e-02   4.9e+06   1.2e-03   1.0e+10   1.3e+07     648         max_eval         update_y\n",
      "[ Info:     18   7.3e-02   4.9e+06   1.2e-03   1.0e+11   1.3e+07     652         max_eval         update_μ\n",
      "[ Info:     19   7.3e-02   4.9e+07   1.2e-03   1.0e+11   1.3e+08     656         max_eval         update_y\n",
      "[ Info:     20   7.3e-02   4.9e+07   1.2e-03   1.0e+12   1.3e+08     660         max_eval         update_μ\n",
      "[ Info:     21   7.3e-02   4.9e+08   1.2e-03   1.0e+12   1.3e+09     664         max_eval         update_y\n",
      "[ Info:     22   7.3e-02   4.9e+08   1.2e-03   1.0e+13   1.3e+09     668         max_eval         update_μ\n",
      "[ Info:     23   7.3e-02   4.9e+09   1.2e-03   1.0e+13   1.3e+10     672         max_eval         update_y\n",
      "[ Info:     24   7.3e-02   4.9e+09   1.2e-03   1.0e+14   1.3e+10     676         max_eval         update_μ\n",
      "[ Info:     25   7.3e-02   4.9e+10   1.2e-03   1.0e+14   1.3e+11     680         max_eval         update_y\n",
      "[ Info:     26   7.3e-02   4.9e+10   1.2e-03   1.0e+15   1.3e+11     684         max_eval         update_μ\n",
      "[ Info:     27   7.3e-02   4.9e+11   1.2e-03   1.0e+15   1.3e+12     688         max_eval         update_y\n",
      "[ Info:     28   7.3e-02   4.9e+11   1.2e-03   1.0e+16   1.3e+12     692         max_eval         update_μ\n",
      "[ Info:     29   7.3e-02   4.9e+12   1.2e-03   1.0e+16   1.3e+13     696         max_eval         update_y\n",
      "[ Info:     30   7.3e-02   4.9e+12   1.2e-03   1.0e+17   1.3e+13     700         max_eval         update_μ\n"
     ]
    },
    {
     "output_type": "execute_result",
     "data": {
      "text/plain": "153.0449350608972"
     },
     "metadata": {},
     "execution_count": 4
    }
   ],
   "cell_type": "code",
   "source": [
    "x0 = fill(0.5, 160 * 40) # initial design\n",
    "N = length(x0)\n",
    "penalty = TopOpt.PowerPenalty(1.0)\n",
    "solver = FEASolver(Direct, problem; xmin=xmin, penalty=penalty)\n",
    "stress = TopOpt.von_mises_stress_function(solver)\n",
    "filter = DensityFilter(solver; rmin=rmin)\n",
    "volfrac = TopOpt.Volume(solver)\n",
    "\n",
    "obj = x -> volfrac(filter(PseudoDensities(x))) - V\n",
    "thr = 150 # stress threshold\n",
    "constr = x -> begin\n",
    "    s = stress(filter(PseudoDensities(x)))\n",
    "    return (s .- thr) / length(s)\n",
    "end\n",
    "alg = PercivalAlg()\n",
    "options = PercivalOptions()\n",
    "model = Model(obj)\n",
    "addvar!(model, zeros(N), ones(N))\n",
    "add_ineq_constraint!(model, constr)\n",
    "\n",
    "x = copy(x0)\n",
    "for p in [1.0, 2.0, 3.0]\n",
    "    TopOpt.setpenalty!(solver, p)\n",
    "    global r = optimize(model, alg, x; options)\n",
    "    global x = r.minimizer\n",
    "end\n",
    "\n",
    "maximum(stress(filter(PseudoDensities(x0))))\n",
    "maximum(stress(filter(PseudoDensities(x))))"
   ],
   "metadata": {},
   "execution_count": 4
  },
  {
   "cell_type": "markdown",
   "source": [
    "### (Optional) Visualize the result using Makie.jl\n",
    "Need to run `using Pkg; Pkg.add(Makie)` first\n",
    "```julia\n",
    "using Makie\n",
    "using TopOpt.TopOptProblems.Visualization: visualize\n",
    "fig = visualize(\n",
    "   problem; topology = r.minimizer, default_exagg_scale = 0.07,\n",
    "   scale_range = 10.0, vector_linewidth = 3, vector_arrowsize = 0.5,\n",
    ")\n",
    "Makie.display(fig)\n",
    "```"
   ],
   "metadata": {}
  },
  {
   "cell_type": "markdown",
   "source": [
    "---\n",
    "\n",
    "*This notebook was generated using [Literate.jl](https://github.com/fredrikekre/Literate.jl).*"
   ],
   "metadata": {}
  }
 ],
 "nbformat_minor": 3,
 "metadata": {
  "language_info": {
   "file_extension": ".jl",
   "mimetype": "application/julia",
   "name": "julia",
   "version": "1.8.5"
  },
  "kernelspec": {
   "name": "julia-1.8",
   "display_name": "Julia 1.8.5",
   "language": "julia"
  }
 },
 "nbformat": 4
}
