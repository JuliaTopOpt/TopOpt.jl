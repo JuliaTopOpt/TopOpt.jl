{
 "cells": [
  {
   "cell_type": "markdown",
   "source": [
    "using Revise"
   ],
   "metadata": {}
  },
  {
   "outputs": [
    {
     "output_type": "execute_result",
     "data": {
      "text/plain": "3.0"
     },
     "metadata": {},
     "execution_count": 1
    }
   ],
   "cell_type": "code",
   "source": [
    "using TopOpt, LinearAlgebra, StatsFuns\n",
    "using StatsFuns: logsumexp\n",
    "\n",
    "E = 1.0 # Young’s modulus\n",
    "v = 0.3 # Poisson’s ratio\n",
    "f = 1.0 # downward force\n",
    "rmin = 3.0"
   ],
   "metadata": {},
   "execution_count": 1
  },
  {
   "cell_type": "markdown",
   "source": [
    "### Define the problem"
   ],
   "metadata": {}
  },
  {
   "outputs": [
    {
     "output_type": "execute_result",
     "data": {
      "text/plain": ""
     },
     "metadata": {},
     "execution_count": 2
    }
   ],
   "cell_type": "code",
   "source": [
    "problem = PointLoadCantilever(Val{:Linear}, (160, 40), (1.0, 1.0), E, v, f)"
   ],
   "metadata": {},
   "execution_count": 2
  },
  {
   "cell_type": "markdown",
   "source": [
    "### Parameter settings"
   ],
   "metadata": {}
  },
  {
   "outputs": [
    {
     "output_type": "execute_result",
     "data": {
      "text/plain": "40"
     },
     "metadata": {},
     "execution_count": 3
    }
   ],
   "cell_type": "code",
   "source": [
    "V = 0.5 # volume fraction\n",
    "xmin = 0.0001 # minimum density\n",
    "steps = 40 # maximum number of penalty steps, delta_p0 = 0.1"
   ],
   "metadata": {},
   "execution_count": 3
  },
  {
   "cell_type": "markdown",
   "source": [
    "### Continuation SIMP"
   ],
   "metadata": {}
  },
  {
   "outputs": [
    {
     "name": "stdout",
     "output_type": "stream",
     "text": [
      "[ Info:   iter        fx    normgp    normcx         μ     normy    sumc     inner_status        iter_type  \n",
      "[ Info:      0  -3.3e-16   8.0e+01   1.9e+00   1.0e+01   8.0e+01       5\n",
      "[ Info:      1   3.6e-15   8.0e+01   1.9e+00   1.0e+02   8.0e+01       9      first_order         update_μ\n",
      "[ Info:      2  -6.6e-06   8.0e+01   8.0e-01   1.0e+03   8.0e+01      22      first_order         update_μ\n",
      "[ Info:      3  -4.9e-01   7.0e-01   8.0e-02   1.0e+03   7.2e-01     589         max_eval         update_y\n",
      "[ Info:      4  -4.9e-01   7.0e-01   8.0e-02   1.0e+04   7.2e-01     593         max_eval         update_μ\n",
      "[ Info:      5  -4.9e-01   7.9e+01   8.0e-02   1.0e+04   8.0e+02     597         max_eval         update_y\n",
      "[ Info:      6  -4.9e-01   7.9e+01   8.0e-02   1.0e+05   8.0e+02     601         max_eval         update_μ\n",
      "[ Info:      7  -4.9e-01   7.9e+01   8.0e-02   1.0e+05   8.8e+03     605         max_eval         update_y\n",
      "[ Info:      8  -4.9e-01   7.9e+01   8.0e-02   1.0e+06   8.8e+03     609         max_eval         update_μ\n",
      "[ Info:      9  -4.9e-01   7.9e+01   8.0e-02   1.0e+06   8.8e+04     613         max_eval         update_y\n",
      "[ Info:     10  -4.9e-01   7.9e+01   8.0e-02   1.0e+07   8.8e+04     617         max_eval         update_μ\n",
      "[ Info:     11  -4.9e-01   7.9e+01   8.0e-02   1.0e+07   8.8e+05     621         max_eval         update_y\n",
      "[ Info:     12  -4.9e-01   7.9e+01   8.0e-02   1.0e+08   8.8e+05     625         max_eval         update_μ\n",
      "[ Info:     13  -4.9e-01   7.9e+01   8.0e-02   1.0e+08   8.8e+06     629         max_eval         update_y\n",
      "[ Info:     14  -4.9e-01   7.9e+01   8.0e-02   1.0e+09   8.8e+06     633         max_eval         update_μ\n",
      "[ Info:     15  -4.9e-01   7.9e+01   8.0e-02   1.0e+09   8.8e+07     637         max_eval         update_y\n",
      "[ Info:     16  -4.9e-01   7.9e+01   8.0e-02   1.0e+10   8.8e+07     641         max_eval         update_μ\n",
      "[ Info:     17  -4.9e-01   7.9e+01   8.0e-02   1.0e+10   8.8e+08     645         max_eval         update_y\n",
      "[ Info:     18  -4.9e-01   7.9e+01   8.0e-02   1.0e+11   8.8e+08     649         max_eval         update_μ\n",
      "[ Info:     19  -4.9e-01   7.9e+01   8.0e-02   1.0e+12   8.8e+08     653         max_eval         update_μ\n",
      "[ Info:     20  -4.9e-01   7.9e+01   8.0e-02   1.0e+13   8.8e+08     657         max_eval         update_μ\n",
      "[ Info:     21  -4.9e-01   7.9e+01   8.0e-02   1.0e+14   8.8e+08     661         max_eval         update_μ\n",
      "[ Info:     22  -4.9e-01   7.9e+01   8.0e-02   1.0e+15   8.8e+08     665         max_eval         update_μ\n",
      "[ Info:     23  -4.9e-01   7.9e+01   8.0e-02   1.0e+16   8.8e+08     669         max_eval         update_μ\n",
      "[ Info:     24  -4.9e-01   7.9e+01   8.0e-02   1.0e+17   8.8e+08     673         max_eval         update_μ\n",
      "[ Info:   iter        fx    normgp    normcx         μ     normy    sumc     inner_status        iter_type  \n",
      "[ Info:      0  -4.9e-01   8.0e+01   5.6e+00   1.0e+01   8.0e+01       5\n",
      "[ Info:      1  -4.9e-01   8.0e+01   5.6e+00   1.0e+02   8.0e+01       9      first_order         update_μ\n",
      "[ Info:      2  -4.1e-01   8.0e+01   8.0e-01   1.0e+03   8.0e+01      37      first_order         update_μ\n",
      "[ Info:      3  -4.0e-01   2.7e-02   8.0e-02   1.0e+03   2.2e-02      71      first_order         update_y\n",
      "[ Info:      4  -4.2e-01   2.7e-01   3.5e-04   1.0e+03   3.5e-01     600         max_eval         update_y\n",
      "[ Info:      5  -4.2e-01   2.7e-01   3.5e-04   1.0e+04   3.5e-01     604         max_eval         update_μ\n",
      "[ Info:      6  -4.2e-01   2.8e+00   3.5e-04   1.0e+04   3.8e+00     608         max_eval         update_y\n",
      "[ Info:      7  -4.2e-01   2.8e+00   3.5e-04   1.0e+05   3.8e+00     612         max_eval         update_μ\n",
      "[ Info:      8  -4.2e-01   2.7e+01   3.5e-04   1.0e+05   3.9e+01     616         max_eval         update_y\n",
      "[ Info:      9  -4.2e-01   2.7e+01   3.5e-04   1.0e+06   3.9e+01     620         max_eval         update_μ\n",
      "[ Info:     10  -4.2e-01   2.6e+02   3.5e-04   1.0e+06   3.9e+02     624         max_eval         update_y\n",
      "[ Info:     11  -4.2e-01   2.6e+02   3.5e-04   1.0e+07   3.9e+02     628         max_eval         update_μ\n",
      "[ Info:     12  -4.2e-01   2.5e+03   3.5e-04   1.0e+07   3.9e+03     632         max_eval         update_y\n",
      "[ Info:     13  -4.2e-01   2.5e+03   3.5e-04   1.0e+08   3.9e+03     636         max_eval         update_μ\n",
      "[ Info:     14  -4.2e-01   2.5e+04   3.5e-04   1.0e+08   3.9e+04     640         max_eval         update_y\n",
      "[ Info:     15  -4.2e-01   2.5e+04   3.5e-04   1.0e+09   3.9e+04     644         max_eval         update_μ\n",
      "[ Info:     16  -4.2e-01   2.5e+05   3.5e-04   1.0e+09   3.9e+05     648         max_eval         update_y\n",
      "[ Info:     17  -4.2e-01   2.5e+05   3.5e-04   1.0e+10   3.9e+05     652         max_eval         update_μ\n",
      "[ Info:     18  -4.2e-01   2.5e+06   3.5e-04   1.0e+10   3.9e+06     656         max_eval         update_y\n",
      "[ Info:     19  -4.2e-01   2.5e+06   3.5e-04   1.0e+11   3.9e+06     660         max_eval         update_μ\n",
      "[ Info:     20  -4.2e-01   2.5e+07   3.5e-04   1.0e+11   3.9e+07     664         max_eval         update_y\n",
      "[ Info:     21  -4.2e-01   2.5e+07   3.5e-04   1.0e+12   3.9e+07     668         max_eval         update_μ\n",
      "[ Info:     22  -4.2e-01   2.5e+08   3.5e-04   1.0e+12   3.9e+08     672         max_eval         update_y\n",
      "[ Info:     23  -4.2e-01   2.5e+08   3.5e-04   1.0e+13   3.9e+08     676         max_eval         update_μ\n",
      "[ Info:     24  -4.2e-01   2.5e+09   3.5e-04   1.0e+13   3.9e+09     680         max_eval         update_y\n",
      "[ Info:     25  -4.2e-01   2.5e+09   3.5e-04   1.0e+14   3.9e+09     684         max_eval         update_μ\n",
      "[ Info:     26  -4.2e-01   2.5e+10   3.5e-04   1.0e+14   3.9e+10     688         max_eval         update_y\n",
      "[ Info:     27  -4.2e-01   2.5e+10   3.5e-04   1.0e+15   3.9e+10     692         max_eval         update_μ\n",
      "[ Info:     28  -4.2e-01   2.5e+11   3.5e-04   1.0e+15   3.9e+11     696         max_eval         update_y\n",
      "[ Info:     29  -4.2e-01   2.5e+11   3.5e-04   1.0e+16   3.9e+11     700         max_eval         update_μ\n",
      "[ Info:     30  -4.2e-01   2.5e+12   3.5e-04   1.0e+16   3.9e+12     704         max_eval         update_y\n",
      "[ Info:     31  -4.2e-01   2.5e+12   3.5e-04   1.0e+17   3.9e+12     708         max_eval         update_μ\n",
      "[ Info:   iter        fx    normgp    normcx         μ     normy    sumc     inner_status        iter_type  \n",
      "[ Info:      0  -4.2e-01   8.0e+01   3.6e+00   1.0e+01   8.0e+01       5\n",
      "[ Info:      1  -4.2e-01   8.0e+01   3.6e+00   1.0e+02   8.0e+01       9      first_order         update_μ\n",
      "[ Info:      2  -3.4e-01   8.0e+01   8.0e-01   1.0e+03   8.0e+01      28      first_order         update_μ\n",
      "[ Info:      3  -3.3e-01   2.3e-02   8.0e-02   1.0e+03   1.2e-01      95      first_order         update_y\n",
      "[ Info:      4  -3.4e-01   2.9e-01   6.0e-04   1.0e+03   5.9e-01     600         max_eval         update_y\n",
      "[ Info:      5  -3.4e-01   2.9e-01   6.0e-04   1.0e+04   5.9e-01     604         max_eval         update_μ\n",
      "[ Info:      6  -3.4e-01   3.4e+00   6.0e-04   1.0e+04   6.5e+00     608         max_eval         update_y\n",
      "[ Info:      7  -3.4e-01   3.4e+00   6.0e-04   1.0e+05   6.5e+00     612         max_eval         update_μ\n",
      "[ Info:      8  -3.4e-01   3.5e+01   6.0e-04   1.0e+05   6.6e+01     616         max_eval         update_y\n",
      "[ Info:      9  -3.4e-01   3.5e+01   6.0e-04   1.0e+06   6.6e+01     620         max_eval         update_μ\n",
      "[ Info:     10  -3.4e-01   3.4e+02   6.0e-04   1.0e+06   6.6e+02     624         max_eval         update_y\n",
      "[ Info:     11  -3.4e-01   3.4e+02   6.0e-04   1.0e+07   6.6e+02     628         max_eval         update_μ\n",
      "[ Info:     12  -3.4e-01   3.4e+03   6.0e-04   1.0e+07   6.6e+03     632         max_eval         update_y\n",
      "[ Info:     13  -3.4e-01   3.4e+03   6.0e-04   1.0e+08   6.6e+03     636         max_eval         update_μ\n",
      "[ Info:     14  -3.4e-01   3.4e+04   6.0e-04   1.0e+08   6.6e+04     640         max_eval         update_y\n",
      "[ Info:     15  -3.4e-01   3.4e+04   6.0e-04   1.0e+09   6.6e+04     644         max_eval         update_μ\n",
      "[ Info:     16  -3.4e-01   3.4e+05   6.0e-04   1.0e+09   6.6e+05     648         max_eval         update_y\n",
      "[ Info:     17  -3.4e-01   3.4e+05   6.0e-04   1.0e+10   6.6e+05     652         max_eval         update_μ\n",
      "[ Info:     18  -3.4e-01   3.4e+06   6.0e-04   1.0e+10   6.6e+06     656         max_eval         update_y\n",
      "[ Info:     19  -3.4e-01   3.4e+06   6.0e-04   1.0e+11   6.6e+06     660         max_eval         update_μ\n",
      "[ Info:     20  -3.4e-01   3.4e+07   6.0e-04   1.0e+11   6.6e+07     664         max_eval         update_y\n",
      "[ Info:     21  -3.4e-01   3.4e+07   6.0e-04   1.0e+12   6.6e+07     668         max_eval         update_μ\n",
      "[ Info:     22  -3.4e-01   3.4e+08   6.0e-04   1.0e+12   6.6e+08     672         max_eval         update_y\n",
      "[ Info:     23  -3.4e-01   3.4e+08   6.0e-04   1.0e+13   6.6e+08     676         max_eval         update_μ\n",
      "[ Info:     24  -3.4e-01   3.4e+09   6.0e-04   1.0e+13   6.6e+09     680         max_eval         update_y\n",
      "[ Info:     25  -3.4e-01   3.4e+09   6.0e-04   1.0e+14   6.6e+09     684         max_eval         update_μ\n",
      "[ Info:     26  -3.4e-01   3.4e+10   6.0e-04   1.0e+14   6.6e+10     688         max_eval         update_y\n",
      "[ Info:     27  -3.4e-01   3.4e+10   6.0e-04   1.0e+15   6.6e+10     692         max_eval         update_μ\n",
      "[ Info:     28  -3.4e-01   3.4e+11   6.0e-04   1.0e+15   6.6e+11     696         max_eval         update_y\n",
      "[ Info:     29  -3.4e-01   3.4e+11   6.0e-04   1.0e+16   6.6e+11     700         max_eval         update_μ\n",
      "[ Info:     30  -3.4e-01   3.4e+12   6.0e-04   1.0e+16   6.6e+12     704         max_eval         update_y\n",
      "[ Info:     31  -3.4e-01   3.4e+12   6.0e-04   1.0e+17   6.6e+12     708         max_eval         update_μ\n"
     ]
    },
    {
     "output_type": "execute_result",
     "data": {
      "text/plain": "151.7884771703217"
     },
     "metadata": {},
     "execution_count": 4
    }
   ],
   "cell_type": "code",
   "source": [
    "x0 = fill(0.5, 160 * 40) # initial design\n",
    "N = length(x0)\n",
    "penalty = TopOpt.PowerPenalty(1.0)\n",
    "solver = FEASolver(Direct, problem; xmin=xmin, penalty=penalty)\n",
    "stress = TopOpt.von_mises_stress_function(solver)\n",
    "filter = DensityFilter(solver; rmin=rmin)\n",
    "volfrac = TopOpt.Volume(solver)\n",
    "\n",
    "obj = x -> volfrac(filter(PseudoDensities(x))) - V\n",
    "thr = 150 # stress threshold\n",
    "constr = x -> begin\n",
    "    s = stress(filter(PseudoDensities(x)))\n",
    "    return (s .- thr) / length(s)\n",
    "end\n",
    "alg = PercivalAlg()\n",
    "options = PercivalOptions()\n",
    "model = Model(obj)\n",
    "addvar!(model, zeros(N), ones(N))\n",
    "add_ineq_constraint!(model, constr)\n",
    "\n",
    "x = copy(x0)\n",
    "for p in [1.0, 2.0, 3.0]\n",
    "    TopOpt.setpenalty!(solver, p)\n",
    "    global r = optimize(model, alg, x; options)\n",
    "    global x = r.minimizer\n",
    "end\n",
    "\n",
    "maximum(stress(filter(PseudoDensities(x0))))\n",
    "maximum(stress(filter(PseudoDensities(x))))"
   ],
   "metadata": {},
   "execution_count": 4
  },
  {
   "cell_type": "markdown",
   "source": [
    "### (Optional) Visualize the result using Makie.jl\n",
    "Need to run `using Pkg; Pkg.add([\"Makie\", \"GLMakie\"])` first\n",
    "```julia\n",
    "using Makie, GLMakie\n",
    "using TopOpt.TopOptProblems.Visualization: visualize\n",
    "fig = visualize(\n",
    "   problem; topology = r.minimizer, default_exagg_scale = 0.07,\n",
    "   scale_range = 10.0, vector_linewidth = 3, vector_arrowsize = 0.5,\n",
    ")\n",
    "Makie.display(fig)\n",
    "```"
   ],
   "metadata": {}
  },
  {
   "cell_type": "markdown",
   "source": [
    "---\n",
    "\n",
    "*This notebook was generated using [Literate.jl](https://github.com/fredrikekre/Literate.jl).*"
   ],
   "metadata": {}
  }
 ],
 "nbformat_minor": 3,
 "metadata": {
  "language_info": {
   "file_extension": ".jl",
   "mimetype": "application/julia",
   "name": "julia",
   "version": "1.10.5"
  },
  "kernelspec": {
   "name": "julia-1.10",
   "display_name": "Julia 1.10.5",
   "language": "julia"
  }
 },
 "nbformat": 4
}
