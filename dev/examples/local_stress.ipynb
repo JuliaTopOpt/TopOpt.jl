{
 "cells": [
  {
   "cell_type": "markdown",
   "source": [
    "using Revise"
   ],
   "metadata": {}
  },
  {
   "outputs": [
    {
     "output_type": "execute_result",
     "data": {
      "text/plain": "3.0"
     },
     "metadata": {},
     "execution_count": 1
    }
   ],
   "cell_type": "code",
   "source": [
    "using TopOpt, LinearAlgebra, StatsFuns\n",
    "using StatsFuns: logsumexp\n",
    "\n",
    "E = 1.0 # Young’s modulus\n",
    "v = 0.3 # Poisson’s ratio\n",
    "f = 1.0 # downward force\n",
    "rmin = 3.0"
   ],
   "metadata": {},
   "execution_count": 1
  },
  {
   "cell_type": "markdown",
   "source": [
    "### Define the problem"
   ],
   "metadata": {}
  },
  {
   "outputs": [
    {
     "output_type": "execute_result",
     "data": {
      "text/plain": ""
     },
     "metadata": {},
     "execution_count": 2
    }
   ],
   "cell_type": "code",
   "source": [
    "problem = PointLoadCantilever(Val{:Linear}, (160, 40), (1.0, 1.0), E, v, f)"
   ],
   "metadata": {},
   "execution_count": 2
  },
  {
   "cell_type": "markdown",
   "source": [
    "### Parameter settings"
   ],
   "metadata": {}
  },
  {
   "outputs": [
    {
     "output_type": "execute_result",
     "data": {
      "text/plain": "40"
     },
     "metadata": {},
     "execution_count": 3
    }
   ],
   "cell_type": "code",
   "source": [
    "V = 0.5 # volume fraction\n",
    "xmin = 0.0001 # minimum density\n",
    "steps = 40 # maximum number of penalty steps, delta_p0 = 0.1"
   ],
   "metadata": {},
   "execution_count": 3
  },
  {
   "cell_type": "markdown",
   "source": [
    "### Continuation SIMP"
   ],
   "metadata": {}
  },
  {
   "outputs": [
    {
     "name": "stdout",
     "output_type": "stream",
     "text": [
      "[ Info:   iter        fx    normgp    normcx         μ     normy    sumc     inner_status        iter_type  \n",
      "[ Info:      0   5.0e-01   8.0e+01   1.3e+01   1.0e+01   8.0e+01       5\n",
      "[ Info:      1   5.0e-01   8.0e+01   1.3e+01   1.0e+02   8.0e+01       9      first_order         update_μ\n",
      "[ Info:      2   5.0e-01   8.0e+01   8.0e-01   1.0e+03   8.0e+01      21      first_order         update_μ\n",
      "[ Info:      3   5.0e-01   1.3e-02   8.0e-02   1.0e+03   1.9e-05      32      first_order         update_y\n",
      "[ Info:      4  -4.3e-01   1.0e-01   9.5e-05   1.0e+03   9.5e-02     542         max_eval         update_y\n",
      "[ Info:      5  -4.3e-01   1.0e-01   9.5e-05   1.0e+04   9.5e-02     546         max_eval         update_μ\n",
      "[ Info:      6  -4.3e-01   9.4e-01   9.5e-05   1.0e+04   1.0e+00     550         max_eval         update_y\n",
      "[ Info:      7  -4.3e-01   1.6e+00   9.5e-05   1.0e+04   2.0e+00     554         max_eval         update_y\n",
      "[ Info:      8  -4.3e-01   1.6e+00   9.5e-05   1.0e+05   2.0e+00     558         max_eval         update_μ\n",
      "[ Info:      9  -4.3e-01   8.3e+00   9.5e-05   1.0e+05   1.1e+01     562         max_eval         update_y\n",
      "[ Info:     10  -4.3e-01   8.3e+00   9.5e-05   1.0e+06   1.1e+01     566         max_eval         update_μ\n",
      "[ Info:     11  -4.3e-01   6.3e+01   9.5e-05   1.0e+06   1.1e+02     570         max_eval         update_y\n",
      "[ Info:     12  -4.3e-01   6.3e+01   9.5e-05   1.0e+07   1.1e+02     574         max_eval         update_μ\n",
      "[ Info:     13  -4.3e-01   6.0e+02   9.5e-05   1.0e+07   1.1e+03     578         max_eval         update_y\n",
      "[ Info:     14  -4.3e-01   6.0e+02   9.5e-05   1.0e+08   1.1e+03     582         max_eval         update_μ\n",
      "[ Info:     15  -4.3e-01   6.0e+03   9.5e-05   1.0e+08   1.1e+04     586         max_eval         update_y\n",
      "[ Info:     16  -4.3e-01   6.0e+03   9.5e-05   1.0e+09   1.1e+04     590         max_eval         update_μ\n",
      "[ Info:     17  -4.3e-01   6.0e+04   9.5e-05   1.0e+09   1.1e+05     594         max_eval         update_y\n",
      "[ Info:     18  -4.3e-01   6.0e+04   9.5e-05   1.0e+10   1.1e+05     598         max_eval         update_μ\n",
      "[ Info:     19  -4.3e-01   6.0e+05   9.5e-05   1.0e+10   1.1e+06     602         max_eval         update_y\n",
      "[ Info:     20  -4.3e-01   6.0e+05   9.5e-05   1.0e+11   1.1e+06     606         max_eval         update_μ\n",
      "[ Info:     21  -4.3e-01   6.0e+06   9.5e-05   1.0e+11   1.1e+07     610         max_eval         update_y\n",
      "[ Info:     22  -4.3e-01   6.0e+06   9.5e-05   1.0e+12   1.1e+07     614         max_eval         update_μ\n",
      "[ Info:     23  -4.3e-01   6.0e+07   9.5e-05   1.0e+12   1.1e+08     618         max_eval         update_y\n",
      "[ Info:     24  -4.3e-01   6.0e+07   9.5e-05   1.0e+13   1.1e+08     622         max_eval         update_μ\n",
      "[ Info:     25  -4.3e-01   6.0e+08   9.5e-05   1.0e+13   1.1e+09     626         max_eval         update_y\n",
      "[ Info:     26  -4.3e-01   6.0e+08   9.5e-05   1.0e+14   1.1e+09     630         max_eval         update_μ\n",
      "[ Info:     27  -4.3e-01   6.0e+09   9.5e-05   1.0e+14   1.1e+10     634         max_eval         update_y\n",
      "[ Info:     28  -4.3e-01   6.0e+09   9.5e-05   1.0e+15   1.1e+10     638         max_eval         update_μ\n",
      "[ Info:     29  -4.3e-01   6.0e+10   9.5e-05   1.0e+15   1.1e+11     642         max_eval         update_y\n",
      "[ Info:     30  -4.3e-01   6.0e+10   9.5e-05   1.0e+16   1.1e+11     646         max_eval         update_μ\n",
      "[ Info:     31  -4.3e-01   6.0e+11   9.5e-05   1.0e+16   1.1e+12     650         max_eval         update_y\n",
      "[ Info:     32  -4.3e-01   6.0e+11   9.5e-05   1.0e+17   1.1e+12     654         max_eval         update_μ\n",
      "[ Info:   iter        fx    normgp    normcx         μ     normy    sumc     inner_status        iter_type  \n",
      "[ Info:      0  -4.3e-01   8.0e+01   4.8e+01   1.0e+01   8.0e+01       5\n",
      "[ Info:      1  -4.3e-01   8.0e+01   4.8e+01   1.0e+02   8.0e+01       9      first_order         update_μ\n",
      "[ Info:      2  -4.0e-01   8.0e+01   8.0e-01   1.0e+03   8.0e+01     174      first_order         update_μ\n",
      "[ Info:      3  -4.0e-01   6.3e-02   8.0e-02   1.0e+03   8.7e-02     421      first_order         update_y\n",
      "[ Info:      4  -4.0e-01   3.2e-01   3.2e-04   1.0e+03   3.4e-01     560         max_eval         update_y\n",
      "[ Info:      5  -4.0e-01   3.2e-01   3.2e-04   1.0e+04   3.4e-01     564         max_eval         update_μ\n",
      "[ Info:      6  -4.0e-01   3.8e+00   3.2e-04   1.0e+04   3.5e+00     568         max_eval         update_y\n",
      "[ Info:      7  -4.0e-01   3.8e+00   3.2e-04   1.0e+05   3.5e+00     572         max_eval         update_μ\n",
      "[ Info:      8  -4.0e-01   3.6e+01   3.2e-04   1.0e+05   3.5e+01     576         max_eval         update_y\n",
      "[ Info:      9  -4.0e-01   3.6e+01   3.2e-04   1.0e+06   3.5e+01     580         max_eval         update_μ\n",
      "[ Info:     10  -4.0e-01   1.7e+02   3.2e-04   1.0e+06   3.5e+02     584         max_eval         update_y\n",
      "[ Info:     11  -4.0e-01   1.7e+02   3.2e-04   1.0e+07   3.5e+02     588         max_eval         update_μ\n",
      "[ Info:     12  -4.0e-01   1.5e+03   3.2e-04   1.0e+07   3.5e+03     592         max_eval         update_y\n",
      "[ Info:     13  -4.0e-01   1.5e+03   3.2e-04   1.0e+08   3.5e+03     596         max_eval         update_μ\n",
      "[ Info:     14  -4.0e-01   1.5e+04   3.2e-04   1.0e+08   3.5e+04     600         max_eval         update_y\n",
      "[ Info:     15  -4.0e-01   1.5e+04   3.2e-04   1.0e+09   3.5e+04     604         max_eval         update_μ\n",
      "[ Info:     16  -4.0e-01   1.5e+05   3.2e-04   1.0e+09   3.5e+05     608         max_eval         update_y\n",
      "[ Info:     17  -4.0e-01   1.5e+05   3.2e-04   1.0e+10   3.5e+05     612         max_eval         update_μ\n",
      "[ Info:     18  -4.0e-01   1.5e+06   3.2e-04   1.0e+10   3.5e+06     616         max_eval         update_y\n",
      "[ Info:     19  -4.0e-01   1.5e+06   3.2e-04   1.0e+11   3.5e+06     620         max_eval         update_μ\n",
      "[ Info:     20  -4.0e-01   1.5e+07   3.2e-04   1.0e+11   3.5e+07     624         max_eval         update_y\n",
      "[ Info:     21  -4.0e-01   1.5e+07   3.2e-04   1.0e+12   3.5e+07     628         max_eval         update_μ\n",
      "[ Info:     22  -4.0e-01   1.5e+08   3.2e-04   1.0e+12   3.5e+08     632         max_eval         update_y\n",
      "[ Info:     23  -4.0e-01   1.5e+08   3.2e-04   1.0e+13   3.5e+08     636         max_eval         update_μ\n",
      "[ Info:     24  -4.0e-01   1.5e+09   3.2e-04   1.0e+13   3.5e+09     640         max_eval         update_y\n",
      "[ Info:     25  -4.0e-01   1.5e+09   3.2e-04   1.0e+14   3.5e+09     644         max_eval         update_μ\n",
      "[ Info:     26  -4.0e-01   1.5e+10   3.2e-04   1.0e+14   3.5e+10     648         max_eval         update_y\n",
      "[ Info:     27  -4.0e-01   1.5e+10   3.2e-04   1.0e+15   3.5e+10     652         max_eval         update_μ\n",
      "[ Info:     28  -4.0e-01   1.5e+11   3.2e-04   1.0e+15   3.5e+11     656         max_eval         update_y\n",
      "[ Info:     29  -4.0e-01   1.5e+11   3.2e-04   1.0e+16   3.5e+11     660         max_eval         update_μ\n",
      "[ Info:     30  -4.0e-01   1.5e+12   3.2e-04   1.0e+16   3.5e+12     664         max_eval         update_y\n",
      "[ Info:     31  -4.0e-01   1.5e+12   3.2e-04   1.0e+17   3.5e+12     668         max_eval         update_μ\n",
      "[ Info:   iter        fx    normgp    normcx         μ     normy    sumc     inner_status        iter_type  \n",
      "[ Info:      0  -4.0e-01   8.1e+01   1.1e+02   1.0e+01   8.0e+01       5\n",
      "[ Info:      1  -4.0e-01   8.1e+01   1.1e+02   1.0e+02   8.0e+01       9      first_order         update_μ\n",
      "[ Info:      2  -2.2e-01   8.2e+01   8.2e-01   1.0e+03   8.0e+01     218      first_order         update_μ\n",
      "[ Info:      3  -2.2e-01   1.5e+01   1.4e-01   1.0e+03   1.1e+02     529         max_eval         update_y\n",
      "[ Info:      4  -2.2e-01   1.5e+01   1.4e-01   1.0e+04   1.1e+02     533         max_eval         update_μ\n",
      "[ Info:      5  -2.2e-01   7.7e+01   1.4e-01   1.0e+04   1.5e+03     537         max_eval         update_y\n",
      "[ Info:      6  -2.2e-01   7.7e+01   1.4e-01   1.0e+05   1.5e+03     541         max_eval         update_μ\n",
      "[ Info:      7  -2.2e-01   4.8e+02   1.4e-01   1.0e+05   1.6e+04     545         max_eval         update_y\n",
      "[ Info:      8  -2.2e-01   4.8e+02   1.4e-01   1.0e+06   1.6e+04     549         max_eval         update_μ\n",
      "[ Info:      9  -2.2e-01   4.7e+03   1.4e-01   1.0e+06   1.6e+05     553         max_eval         update_y\n",
      "[ Info:     10  -2.2e-01   4.7e+03   1.4e-01   1.0e+07   1.6e+05     557         max_eval         update_μ\n",
      "[ Info:     11  -2.2e-01   4.7e+04   1.4e-01   1.0e+07   1.6e+06     561         max_eval         update_y\n",
      "[ Info:     12  -2.2e-01   4.7e+04   1.4e-01   1.0e+08   1.6e+06     565         max_eval         update_μ\n",
      "[ Info:     13  -2.2e-01   4.7e+05   1.4e-01   1.0e+08   1.6e+07     569         max_eval         update_y\n",
      "[ Info:     14  -2.2e-01   4.7e+05   1.4e-01   1.0e+09   1.6e+07     573         max_eval         update_μ\n",
      "[ Info:     15  -2.2e-01   4.7e+05   1.4e-01   1.0e+10   1.6e+07     577         max_eval         update_μ\n",
      "[ Info:     16  -2.2e-01   4.7e+05   1.4e-01   1.0e+11   1.6e+07     581         max_eval         update_μ\n",
      "[ Info:     17  -2.2e-01   4.7e+05   1.4e-01   1.0e+12   1.6e+07     585         max_eval         update_μ\n",
      "[ Info:     18  -2.2e-01   4.7e+05   1.4e-01   1.0e+13   1.6e+07     589         max_eval         update_μ\n",
      "[ Info:     19  -2.2e-01   4.7e+05   1.4e-01   1.0e+14   1.6e+07     593         max_eval         update_μ\n",
      "[ Info:     20  -2.2e-01   4.7e+05   1.4e-01   1.0e+15   1.6e+07     597         max_eval         update_μ\n",
      "[ Info:     21  -2.2e-01   4.7e+05   1.4e-01   1.0e+16   1.6e+07     601         max_eval         update_μ\n",
      "[ Info:     22  -2.7e-01   4.7e+05   1.4e-01   1.0e+17   1.6e+07     605         max_eval         update_μ\n"
     ]
    },
    {
     "output_type": "execute_result",
     "data": {
      "text/plain": "18.033627104406477"
     },
     "metadata": {},
     "execution_count": 4
    }
   ],
   "cell_type": "code",
   "source": [
    "x0 = fill(1.0, 160 * 40) # initial design\n",
    "x = copy(x0)\n",
    "for p in [1.0, 2.0, 3.0]\n",
    "    global penalty, stress, filter, result, stress, x\n",
    "    penalty = TopOpt.PowerPenalty(p)\n",
    "    solver = FEASolver(Direct, problem; xmin=xmin, penalty=penalty)\n",
    "    stress = TopOpt.MicroVonMisesStress(solver)\n",
    "    filter = DensityFilter(solver; rmin=rmin)\n",
    "    volfrac = TopOpt.Volume(problem, solver)\n",
    "\n",
    "    obj = x -> volfrac(filter(x)) - V\n",
    "    thr = 10 # stress threshold\n",
    "    constr = x -> begin\n",
    "        s = stress(filter(x))\n",
    "        vcat((s .- thr) / 100, logsumexp(s) - log(length(s)) - thr)\n",
    "    end\n",
    "    alg = PercivalAlg()\n",
    "    options = PercivalOptions()\n",
    "    optimizer = Optimizer(obj, constr, x, alg; options=options)\n",
    "    simp = SIMP(optimizer, solver, p)\n",
    "    result = simp(x)\n",
    "    x = result.topology\n",
    "end\n",
    "\n",
    "maximum(stress(filter(x0))) # 0.51\n",
    "maximum(stress(filter(x))) # 10.01"
   ],
   "metadata": {},
   "execution_count": 4
  },
  {
   "cell_type": "markdown",
   "source": [
    "### (Optional) Visualize the result using Makie.jl\n",
    "Need to run `using Pkg; Pkg.add(Makie)` first\n",
    "```julia\n",
    "using Makie\n",
    "using TopOpt.TopOptProblems.Visualization: visualize\n",
    "fig = visualize(\n",
    "   problem; topology = penalty.(filter(result.topology)), default_exagg_scale = 0.07,\n",
    "   scale_range = 10.0, vector_linewidth = 3, vector_arrowsize = 0.5,\n",
    ")\n",
    "Makie.display(fig)\n",
    "```"
   ],
   "metadata": {}
  },
  {
   "cell_type": "markdown",
   "source": [
    "---\n",
    "\n",
    "*This notebook was generated using [Literate.jl](https://github.com/fredrikekre/Literate.jl).*"
   ],
   "metadata": {}
  }
 ],
 "nbformat_minor": 3,
 "metadata": {
  "language_info": {
   "file_extension": ".jl",
   "mimetype": "application/julia",
   "name": "julia",
   "version": "1.7.2"
  },
  "kernelspec": {
   "name": "julia-1.7",
   "display_name": "Julia 1.7.2",
   "language": "julia"
  }
 },
 "nbformat": 4
}
