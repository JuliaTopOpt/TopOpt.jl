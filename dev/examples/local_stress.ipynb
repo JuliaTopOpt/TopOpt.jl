{
 "cells": [
  {
   "cell_type": "markdown",
   "source": [
    "using Revise"
   ],
   "metadata": {}
  },
  {
   "outputs": [
    {
     "output_type": "execute_result",
     "data": {
      "text/plain": "3.0"
     },
     "metadata": {},
     "execution_count": 1
    }
   ],
   "cell_type": "code",
   "source": [
    "using TopOpt, LinearAlgebra, StatsFuns\n",
    "using StatsFuns: logsumexp\n",
    "\n",
    "E = 1.0 # Young’s modulus\n",
    "v = 0.3 # Poisson’s ratio\n",
    "f = 1.0 # downward force\n",
    "rmin = 3.0"
   ],
   "metadata": {},
   "execution_count": 1
  },
  {
   "cell_type": "markdown",
   "source": [
    "### Define the problem"
   ],
   "metadata": {}
  },
  {
   "outputs": [
    {
     "output_type": "execute_result",
     "data": {
      "text/plain": ""
     },
     "metadata": {},
     "execution_count": 2
    }
   ],
   "cell_type": "code",
   "source": [
    "problem = PointLoadCantilever(Val{:Linear}, (160, 40), (1.0, 1.0), E, v, f)"
   ],
   "metadata": {},
   "execution_count": 2
  },
  {
   "cell_type": "markdown",
   "source": [
    "### Parameter settings"
   ],
   "metadata": {}
  },
  {
   "outputs": [
    {
     "output_type": "execute_result",
     "data": {
      "text/plain": "40"
     },
     "metadata": {},
     "execution_count": 3
    }
   ],
   "cell_type": "code",
   "source": [
    "V = 0.5 # volume fraction\n",
    "xmin = 0.0001 # minimum density\n",
    "steps = 40 # maximum number of penalty steps, delta_p0 = 0.1"
   ],
   "metadata": {},
   "execution_count": 3
  },
  {
   "cell_type": "markdown",
   "source": [
    "### Continuation SIMP"
   ],
   "metadata": {}
  },
  {
   "outputs": [
    {
     "name": "stdout",
     "output_type": "stream",
     "text": [
      "[ Info:   iter        fx    normgp    normcx         μ     normy    sumc     inner_status        iter_type  \n",
      "[ Info:      0   5.0e-01   8.0e+01   1.3e+01   1.0e+01   8.0e+01       5\n",
      "[ Info:      1   5.0e-01   8.0e+01   1.3e+01   1.0e+02   8.0e+01       9      first_order         update_μ\n",
      "[ Info:      2   5.0e-01   8.0e+01   8.0e-01   1.0e+03   8.0e+01      21      first_order         update_μ\n",
      "[ Info:      3   5.0e-01   1.3e-02   8.0e-02   1.0e+03   1.9e-05      32      first_order         update_y\n",
      "[ Info:      4  -4.3e-01   6.4e-02   5.9e-05   1.0e+03   5.9e-02     530         max_eval         update_y\n",
      "[ Info:      5  -4.3e-01   6.4e-02   5.9e-05   1.0e+04   5.9e-02     534         max_eval         update_μ\n",
      "[ Info:      6  -4.3e-01   7.2e-01   5.9e-05   1.0e+04   6.5e-01     538         max_eval         update_y\n",
      "[ Info:      7  -4.3e-01   1.4e+00   5.9e-05   1.0e+04   1.2e+00     542         max_eval         update_y\n",
      "[ Info:      8  -4.3e-01   1.4e+00   5.9e-05   1.0e+05   1.2e+00     546         max_eval         update_μ\n",
      "[ Info:      9  -4.3e-01   7.1e+00   5.9e-05   1.0e+05   7.2e+00     550         max_eval         update_y\n",
      "[ Info:     10  -4.3e-01   7.1e+00   5.9e-05   1.0e+06   7.2e+00     554         max_eval         update_μ\n",
      "[ Info:     11  -4.3e-01   4.1e+01   5.9e-05   1.0e+06   6.7e+01     558         max_eval         update_y\n",
      "[ Info:     12  -4.3e-01   4.1e+01   5.9e-05   1.0e+07   6.7e+01     562         max_eval         update_μ\n",
      "[ Info:     13  -4.3e-01   2.8e+02   5.9e-05   1.0e+07   6.6e+02     566         max_eval         update_y\n",
      "[ Info:     14  -4.3e-01   2.8e+02   5.9e-05   1.0e+08   6.6e+02     570         max_eval         update_μ\n",
      "[ Info:     15  -4.3e-01   2.7e+03   5.9e-05   1.0e+08   6.6e+03     574         max_eval         update_y\n",
      "[ Info:     16  -4.3e-01   2.7e+03   5.9e-05   1.0e+09   6.6e+03     578         max_eval         update_μ\n",
      "[ Info:     17  -4.3e-01   2.7e+04   5.9e-05   1.0e+09   6.6e+04     582         max_eval         update_y\n",
      "[ Info:     18  -4.3e-01   2.7e+04   5.9e-05   1.0e+10   6.6e+04     586         max_eval         update_μ\n",
      "[ Info:     19  -4.3e-01   2.7e+05   5.9e-05   1.0e+10   6.6e+05     590         max_eval         update_y\n",
      "[ Info:     20  -4.3e-01   2.7e+05   5.9e-05   1.0e+11   6.6e+05     594         max_eval         update_μ\n",
      "[ Info:     21  -4.3e-01   2.7e+06   5.9e-05   1.0e+11   6.6e+06     598         max_eval         update_y\n",
      "[ Info:     22  -4.3e-01   2.7e+06   5.9e-05   1.0e+12   6.6e+06     602         max_eval         update_μ\n",
      "[ Info:     23  -4.3e-01   2.7e+07   5.9e-05   1.0e+12   6.6e+07     606         max_eval         update_y\n",
      "[ Info:     24  -4.3e-01   2.7e+07   5.9e-05   1.0e+13   6.6e+07     610         max_eval         update_μ\n",
      "[ Info:     25  -4.3e-01   2.7e+08   5.9e-05   1.0e+13   6.6e+08     614         max_eval         update_y\n",
      "[ Info:     26  -4.3e-01   2.7e+08   5.9e-05   1.0e+14   6.6e+08     618         max_eval         update_μ\n",
      "[ Info:     27  -4.3e-01   2.7e+09   5.9e-05   1.0e+14   6.6e+09     622         max_eval         update_y\n",
      "[ Info:     28  -4.3e-01   2.7e+09   5.9e-05   1.0e+15   6.6e+09     626         max_eval         update_μ\n",
      "[ Info:     29  -4.3e-01   2.7e+10   5.9e-05   1.0e+15   6.6e+10     630         max_eval         update_y\n",
      "[ Info:     30  -4.3e-01   2.7e+10   5.9e-05   1.0e+16   6.6e+10     634         max_eval         update_μ\n",
      "[ Info:     31  -4.3e-01   2.7e+11   5.9e-05   1.0e+16   6.6e+11     638         max_eval         update_y\n",
      "[ Info:     32  -4.3e-01   2.7e+11   5.9e-05   1.0e+17   6.6e+11     642         max_eval         update_μ\n",
      "[ Info:   iter        fx    normgp    normcx         μ     normy    sumc     inner_status        iter_type  \n",
      "[ Info:      0  -4.3e-01   8.0e+01   4.3e+01   1.0e+01   8.0e+01       5\n",
      "[ Info:      1  -4.3e-01   8.0e+01   4.3e+01   1.0e+02   8.0e+01       9      first_order         update_μ\n",
      "[ Info:      2  -4.2e-01   8.0e+01   8.1e-01   1.0e+03   8.0e+01     172      first_order         update_μ\n",
      "[ Info:      3  -4.2e-01   6.5e-02   8.0e-02   1.0e+03   8.8e-02     379      first_order         update_y\n",
      "[ Info:      4  -4.2e-01   1.9e-01   8.7e-05   1.0e+03   4.3e-02     568         max_eval         update_y\n",
      "[ Info:      5  -4.2e-01   1.9e-01   8.7e-05   1.0e+04   4.3e-02     572         max_eval         update_μ\n",
      "[ Info:      6  -4.2e-01   2.4e+00   8.7e-05   1.0e+04   8.8e-01     576         max_eval         update_y\n",
      "[ Info:      7  -4.2e-01   4.7e+00   8.7e-05   1.0e+04   1.7e+00     580         max_eval         update_y\n",
      "[ Info:      8  -4.2e-01   4.7e+00   8.7e-05   1.0e+05   1.7e+00     584         max_eval         update_μ\n",
      "[ Info:      9  -4.2e-01   2.7e+01   8.7e-05   1.0e+05   1.0e+01     588         max_eval         update_y\n",
      "[ Info:     10  -4.2e-01   2.7e+01   8.7e-05   1.0e+06   1.0e+01     592         max_eval         update_μ\n",
      "[ Info:     11  -4.2e-01   9.6e+01   8.7e-05   1.0e+06   9.7e+01     596         max_eval         update_y\n",
      "[ Info:     12  -4.2e-01   9.6e+01   8.7e-05   1.0e+07   9.7e+01     600         max_eval         update_μ\n",
      "[ Info:     13  -4.2e-01   7.5e+02   8.7e-05   1.0e+07   9.6e+02     604         max_eval         update_y\n",
      "[ Info:     14  -4.2e-01   7.5e+02   8.7e-05   1.0e+08   9.6e+02     608         max_eval         update_μ\n",
      "[ Info:     15  -4.2e-01   7.4e+03   8.7e-05   1.0e+08   9.6e+03     612         max_eval         update_y\n",
      "[ Info:     16  -4.2e-01   7.4e+03   8.7e-05   1.0e+09   9.6e+03     616         max_eval         update_μ\n",
      "[ Info:     17  -4.2e-01   7.4e+04   8.7e-05   1.0e+09   9.6e+04     620         max_eval         update_y\n",
      "[ Info:     18  -4.2e-01   7.4e+04   8.7e-05   1.0e+10   9.6e+04     624         max_eval         update_μ\n",
      "[ Info:     19  -4.2e-01   7.4e+05   8.7e-05   1.0e+10   9.6e+05     628         max_eval         update_y\n",
      "[ Info:     20  -4.2e-01   7.4e+05   8.7e-05   1.0e+11   9.6e+05     632         max_eval         update_μ\n",
      "[ Info:     21  -4.2e-01   7.4e+06   8.7e-05   1.0e+11   9.6e+06     636         max_eval         update_y\n",
      "[ Info:     22  -4.2e-01   7.4e+06   8.7e-05   1.0e+12   9.6e+06     640         max_eval         update_μ\n",
      "[ Info:     23  -4.2e-01   7.4e+07   8.7e-05   1.0e+12   9.6e+07     644         max_eval         update_y\n",
      "[ Info:     24  -4.2e-01   7.4e+07   8.7e-05   1.0e+13   9.6e+07     648         max_eval         update_μ\n",
      "[ Info:     25  -4.2e-01   7.4e+08   8.7e-05   1.0e+13   9.6e+08     652         max_eval         update_y\n",
      "[ Info:     26  -4.2e-01   7.4e+08   8.7e-05   1.0e+14   9.6e+08     656         max_eval         update_μ\n",
      "[ Info:     27  -4.2e-01   7.4e+09   8.7e-05   1.0e+14   9.6e+09     660         max_eval         update_y\n",
      "[ Info:     28  -4.2e-01   7.4e+09   8.7e-05   1.0e+15   9.6e+09     664         max_eval         update_μ\n",
      "[ Info:     29  -4.2e-01   7.4e+10   8.7e-05   1.0e+15   9.6e+10     668         max_eval         update_y\n",
      "[ Info:     30  -4.2e-01   7.4e+10   8.7e-05   1.0e+16   9.6e+10     672         max_eval         update_μ\n",
      "[ Info:     31  -4.2e-01   7.4e+11   8.7e-05   1.0e+16   9.6e+11     676         max_eval         update_y\n",
      "[ Info:     32  -4.2e-01   7.4e+11   8.7e-05   1.0e+17   9.6e+11     680         max_eval         update_μ\n",
      "[ Info:   iter        fx    normgp    normcx         μ     normy    sumc     inner_status        iter_type  \n",
      "[ Info:      0  -4.2e-01   8.1e+01   1.1e+02   1.0e+01   8.0e+01       5\n",
      "[ Info:      1  -4.2e-01   8.1e+01   1.1e+02   1.0e+02   8.0e+01       9      first_order         update_μ\n",
      "[ Info:      2  -2.6e-01   8.2e+01   8.1e-01   1.0e+03   8.0e+01     560         max_eval         update_μ\n",
      "[ Info:      3  -2.6e-01   8.2e+01   8.1e-01   1.0e+04   8.0e+01     564         max_eval         update_μ\n",
      "[ Info:      4  -2.6e-01   8.2e+01   8.1e-01   1.0e+05   8.0e+01     568         max_eval         update_μ\n",
      "[ Info:      5  -2.6e-01   8.2e+01   8.1e-01   1.0e+06   8.0e+01     572         max_eval         update_μ\n",
      "[ Info:      6  -2.6e-01   8.2e+01   8.1e-01   1.0e+07   8.0e+01     576         max_eval         update_μ\n",
      "[ Info:      7  -2.6e-01   8.2e+01   8.1e-01   1.0e+08   8.0e+01     580         max_eval         update_μ\n",
      "[ Info:      8  -2.6e-01   8.2e+01   8.1e-01   1.0e+09   8.0e+01     584         max_eval         update_μ\n",
      "[ Info:      9  -2.6e-01   8.2e+01   8.1e-01   1.0e+10   8.0e+01     588         max_eval         update_μ\n",
      "[ Info:     10  -2.6e-01   8.2e+01   8.1e-01   1.0e+11   8.0e+01     592         max_eval         update_μ\n",
      "[ Info:     11  -2.6e-01   8.2e+01   8.1e-01   1.0e+12   8.0e+01     596         max_eval         update_μ\n",
      "[ Info:     12  -2.6e-01   8.2e+01   8.1e-01   1.0e+13   8.0e+01     600         max_eval         update_μ\n",
      "[ Info:     13  -2.6e-01   8.2e+01   8.1e-01   1.0e+14   8.0e+01     604         max_eval         update_μ\n",
      "[ Info:     14  -2.6e-01   8.2e+01   8.1e-01   1.0e+15   8.0e+01     608         max_eval         update_μ\n",
      "[ Info:     15  -3.1e-01   8.2e+01   8.1e-01   1.0e+16   8.0e+01     612         max_eval         update_μ\n",
      "[ Info:     16  -1.0e+00   8.2e+01   8.1e-01   1.0e+17   8.0e+01     616         max_eval         update_μ\n"
     ]
    },
    {
     "output_type": "execute_result",
     "data": {
      "text/plain": "17.771315897497438"
     },
     "metadata": {},
     "execution_count": 4
    }
   ],
   "cell_type": "code",
   "source": [
    "x0 = fill(1.0, 160 * 40) # initial design\n",
    "x = copy(x0)\n",
    "for p in [1.0, 2.0, 3.0]\n",
    "    global penalty, stress, filter, result, stress, x\n",
    "    penalty = TopOpt.PowerPenalty(p)\n",
    "    solver = FEASolver(Direct, problem; xmin=xmin, penalty=penalty)\n",
    "    stress = TopOpt.MicroVonMisesStress(solver)\n",
    "    filter = DensityFilter(solver; rmin=rmin)\n",
    "    volfrac = TopOpt.Volume(problem, solver)\n",
    "\n",
    "    obj = x -> volfrac(filter(x)) - V\n",
    "    thr = 10 # stress threshold\n",
    "    constr = x -> begin\n",
    "        s = stress(filter(x))\n",
    "        vcat((s .- thr) / 100, logsumexp(s) - log(length(s)) - thr)\n",
    "    end\n",
    "    alg = PercivalAlg()\n",
    "    options = PercivalOptions()\n",
    "    optimizer = Optimizer(obj, constr, x, alg; options=options)\n",
    "    simp = SIMP(optimizer, solver, p)\n",
    "    result = simp(x)\n",
    "    x = result.topology\n",
    "end\n",
    "\n",
    "maximum(stress(filter(x0))) # 0.51\n",
    "maximum(stress(filter(x))) # 10.01"
   ],
   "metadata": {},
   "execution_count": 4
  },
  {
   "cell_type": "markdown",
   "source": [
    "### (Optional) Visualize the result using Makie.jl\n",
    "Need to run `using Pkg; Pkg.add(Makie)` first\n",
    "```julia\n",
    "using Makie\n",
    "using TopOpt.TopOptProblems.Visualization: visualize\n",
    "fig = visualize(\n",
    "   problem; topology = penalty.(filter(result.topology)), default_exagg_scale = 0.07,\n",
    "   scale_range = 10.0, vector_linewidth = 3, vector_arrowsize = 0.5,\n",
    ")\n",
    "Makie.display(fig)\n",
    "```"
   ],
   "metadata": {}
  },
  {
   "cell_type": "markdown",
   "source": [
    "---\n",
    "\n",
    "*This notebook was generated using [Literate.jl](https://github.com/fredrikekre/Literate.jl).*"
   ],
   "metadata": {}
  }
 ],
 "nbformat_minor": 3,
 "metadata": {
  "language_info": {
   "file_extension": ".jl",
   "mimetype": "application/julia",
   "name": "julia",
   "version": "1.7.2"
  },
  "kernelspec": {
   "name": "julia-1.7",
   "display_name": "Julia 1.7.2",
   "language": "julia"
  }
 },
 "nbformat": 4
}
