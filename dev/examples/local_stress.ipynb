{
 "cells": [
  {
   "cell_type": "markdown",
   "source": [
    "using Revise"
   ],
   "metadata": {}
  },
  {
   "outputs": [
    {
     "output_type": "execute_result",
     "data": {
      "text/plain": "3.0"
     },
     "metadata": {},
     "execution_count": 1
    }
   ],
   "cell_type": "code",
   "source": [
    "using TopOpt, LinearAlgebra, StatsFuns\n",
    "using StatsFuns: logsumexp\n",
    "\n",
    "E = 1.0 # Young’s modulus\n",
    "v = 0.3 # Poisson’s ratio\n",
    "f = 1.0 # downward force\n",
    "rmin = 3.0"
   ],
   "metadata": {},
   "execution_count": 1
  },
  {
   "cell_type": "markdown",
   "source": [
    "### Define the problem"
   ],
   "metadata": {}
  },
  {
   "outputs": [
    {
     "output_type": "execute_result",
     "data": {
      "text/plain": ""
     },
     "metadata": {},
     "execution_count": 2
    }
   ],
   "cell_type": "code",
   "source": [
    "problem = PointLoadCantilever(Val{:Linear}, (160, 40), (1.0, 1.0), E, v, f)"
   ],
   "metadata": {},
   "execution_count": 2
  },
  {
   "cell_type": "markdown",
   "source": [
    "### Parameter settings"
   ],
   "metadata": {}
  },
  {
   "outputs": [
    {
     "output_type": "execute_result",
     "data": {
      "text/plain": "40"
     },
     "metadata": {},
     "execution_count": 3
    }
   ],
   "cell_type": "code",
   "source": [
    "V = 0.5 # volume fraction\n",
    "xmin = 0.0001 # minimum density\n",
    "steps = 40 # maximum number of penalty steps, delta_p0 = 0.1"
   ],
   "metadata": {},
   "execution_count": 3
  },
  {
   "cell_type": "markdown",
   "source": [
    "### Continuation SIMP"
   ],
   "metadata": {}
  },
  {
   "outputs": [
    {
     "name": "stdout",
     "output_type": "stream",
     "text": [
      "[ Info:   iter        fx    normgp    normcx         μ     normy    sumc     inner_status        iter_type  \n",
      "[ Info:      0   5.0e-01   8.0e+01   1.3e+01   1.0e+01   8.0e+01       5\n",
      "[ Info:      1   5.0e-01   8.0e+01   1.3e+01   1.0e+02   8.0e+01      10      first_order         update_μ\n",
      "[ Info:      2   5.0e-01   8.0e+01   8.0e-01   1.0e+03   8.0e+01      23      first_order         update_μ\n",
      "[ Info:      3   5.0e-01   1.3e-02   8.0e-02   1.0e+03   1.9e-05      35      first_order         update_y\n",
      "[ Info:      4  -4.2e-01   1.3e-01   1.3e-04   1.0e+03   1.3e-01     520         max_eval         update_y\n",
      "[ Info:      5  -4.2e-01   1.3e-01   1.3e-04   1.0e+04   1.3e-01     525         max_eval         update_μ\n",
      "[ Info:      6  -4.2e-01   1.5e+00   1.3e-04   1.0e+04   1.4e+00     530         max_eval         update_y\n",
      "[ Info:      7  -4.2e-01   1.5e+00   1.3e-04   1.0e+05   1.4e+00     535         max_eval         update_μ\n",
      "[ Info:      8  -4.2e-01   1.2e+01   1.3e-04   1.0e+05   1.4e+01     540         max_eval         update_y\n",
      "[ Info:      9  -4.2e-01   1.2e+01   1.3e-04   1.0e+06   1.4e+01     545         max_eval         update_μ\n",
      "[ Info:     10  -4.2e-01   6.7e+01   1.3e-04   1.0e+06   1.4e+02     550         max_eval         update_y\n",
      "[ Info:     11  -4.2e-01   6.7e+01   1.3e-04   1.0e+07   1.4e+02     555         max_eval         update_μ\n",
      "[ Info:     12  -4.2e-01   5.6e+02   1.3e-04   1.0e+07   1.4e+03     560         max_eval         update_y\n",
      "[ Info:     13  -4.2e-01   5.6e+02   1.3e-04   1.0e+08   1.4e+03     565         max_eval         update_μ\n",
      "[ Info:     14  -4.2e-01   5.6e+03   1.3e-04   1.0e+08   1.4e+04     570         max_eval         update_y\n",
      "[ Info:     15  -4.2e-01   5.6e+03   1.3e-04   1.0e+09   1.4e+04     575         max_eval         update_μ\n",
      "[ Info:     16  -4.2e-01   5.6e+04   1.3e-04   1.0e+09   1.4e+05     580         max_eval         update_y\n",
      "[ Info:     17  -4.2e-01   5.6e+04   1.3e-04   1.0e+10   1.4e+05     585         max_eval         update_μ\n",
      "[ Info:     18  -4.2e-01   5.6e+05   1.3e-04   1.0e+10   1.4e+06     590         max_eval         update_y\n",
      "[ Info:     19  -4.2e-01   5.6e+05   1.3e-04   1.0e+11   1.4e+06     595         max_eval         update_μ\n",
      "[ Info:     20  -4.2e-01   5.6e+06   1.3e-04   1.0e+11   1.4e+07     600         max_eval         update_y\n",
      "[ Info:     21  -4.2e-01   5.6e+06   1.3e-04   1.0e+12   1.4e+07     605         max_eval         update_μ\n",
      "[ Info:     22  -4.2e-01   5.6e+07   1.3e-04   1.0e+12   1.4e+08     610         max_eval         update_y\n",
      "[ Info:     23  -4.2e-01   5.6e+07   1.3e-04   1.0e+13   1.4e+08     615         max_eval         update_μ\n",
      "[ Info:     24  -4.2e-01   5.6e+08   1.3e-04   1.0e+13   1.4e+09     620         max_eval         update_y\n",
      "[ Info:     25  -4.2e-01   5.6e+08   1.3e-04   1.0e+14   1.4e+09     625         max_eval         update_μ\n",
      "[ Info:     26  -4.2e-01   5.6e+09   1.3e-04   1.0e+14   1.4e+10     630         max_eval         update_y\n",
      "[ Info:     27  -4.2e-01   5.6e+09   1.3e-04   1.0e+15   1.4e+10     635         max_eval         update_μ\n",
      "[ Info:     28  -4.2e-01   5.6e+10   1.3e-04   1.0e+15   1.4e+11     640         max_eval         update_y\n",
      "[ Info:     29  -4.2e-01   5.6e+10   1.3e-04   1.0e+16   1.4e+11     645         max_eval         update_μ\n",
      "[ Info:     30  -4.2e-01   5.6e+11   1.3e-04   1.0e+16   1.4e+12     650         max_eval         update_y\n",
      "[ Info:     31  -4.2e-01   5.6e+11   1.3e-04   1.0e+17   1.4e+12     655         max_eval         update_μ\n",
      "[ Info:   iter        fx    normgp    normcx         μ     normy    sumc     inner_status        iter_type  \n",
      "[ Info:      0  -4.2e-01   8.0e+01   1.7e+01   1.0e+01   8.0e+01       5\n",
      "[ Info:      1  -4.2e-01   8.0e+01   1.7e+01   1.0e+02   8.0e+01      10      first_order         update_μ\n",
      "[ Info:      2  -1.9e-01   8.0e+01   8.1e-01   1.0e+03   8.0e+01     462      first_order         update_μ\n",
      "[ Info:      3  -1.9e-01   1.1e+02   3.5e-01   1.0e+03   3.1e+02     530         max_eval         update_y\n",
      "[ Info:      4  -1.9e-01   1.1e+02   3.5e-01   1.0e+04   3.1e+02     535         max_eval         update_μ\n",
      "[ Info:      5  -1.9e-01   8.3e+02   3.5e-01   1.0e+04   3.8e+03     540         max_eval         update_y\n",
      "[ Info:      6  -1.9e-01   8.3e+02   3.5e-01   1.0e+05   3.8e+03     545         max_eval         update_μ\n",
      "[ Info:      7  -1.9e-01   8.3e+02   3.5e-01   1.0e+06   3.8e+03     550         max_eval         update_μ\n",
      "[ Info:      8  -1.9e-01   8.3e+02   3.5e-01   1.0e+07   3.8e+03     555         max_eval         update_μ\n",
      "[ Info:      9  -1.9e-01   8.3e+02   3.5e-01   1.0e+08   3.8e+03     560         max_eval         update_μ\n",
      "[ Info:     10  -1.9e-01   8.3e+02   3.5e-01   1.0e+09   3.8e+03     565         max_eval         update_μ\n",
      "[ Info:     11  -1.9e-01   8.3e+02   3.5e-01   1.0e+10   3.8e+03     570         max_eval         update_μ\n",
      "[ Info:     12  -1.9e-01   8.3e+02   3.5e-01   1.0e+11   3.8e+03     575         max_eval         update_μ\n",
      "[ Info:     13  -1.9e-01   8.3e+02   3.5e-01   1.0e+12   3.8e+03     580         max_eval         update_μ\n",
      "[ Info:     14  -1.9e-01   8.3e+02   3.5e-01   1.0e+13   3.8e+03     585         max_eval         update_μ\n",
      "[ Info:     15  -1.9e-01   8.3e+02   3.5e-01   1.0e+14   3.8e+03     590         max_eval         update_μ\n",
      "[ Info:     16  -1.9e-01   8.3e+02   3.5e-01   1.0e+15   3.8e+03     595         max_eval         update_μ\n",
      "[ Info:     17  -1.9e-01   8.3e+02   3.5e-01   1.0e+16   3.8e+03     600         max_eval         update_μ\n",
      "[ Info:     18  -2.5e-01   8.3e+02   3.5e-01   1.0e+17   3.8e+03     605         max_eval         update_μ\n",
      "[ Info:   iter        fx    normgp    normcx         μ     normy    sumc     inner_status        iter_type  \n",
      "[ Info:      0  -1.9e-01   8.1e+01   1.5e+02   1.0e+01   8.0e+01       5\n",
      "[ Info:      1  -1.9e-01   8.1e+01   1.5e+02   1.0e+02   8.0e+01      10      first_order         update_μ\n",
      "[ Info:      2  -4.0e-02   8.1e+01   8.2e-01   1.0e+03   8.0e+01     218      first_order         update_μ\n",
      "[ Info:      3  -3.7e-02   1.1e+01   1.4e-01   1.0e+03   1.1e+02     560         max_eval         update_y\n",
      "[ Info:      4  -3.7e-02   1.1e+01   1.4e-01   1.0e+04   1.1e+02     565         max_eval         update_μ\n",
      "[ Info:      5  -3.7e-02   4.5e+01   1.4e-01   1.0e+04   1.5e+03     570         max_eval         update_y\n",
      "[ Info:      6  -3.7e-02   4.5e+01   1.4e-01   1.0e+05   1.5e+03     575         max_eval         update_μ\n",
      "[ Info:      7  -3.7e-02   1.3e+02   1.4e-01   1.0e+05   1.5e+04     580         max_eval         update_y\n",
      "[ Info:      8  -3.7e-02   1.3e+02   1.4e-01   1.0e+06   1.5e+04     585         max_eval         update_μ\n",
      "[ Info:      9  -3.7e-02   1.2e+03   1.4e-01   1.0e+06   1.5e+05     590         max_eval         update_y\n",
      "[ Info:     10  -3.7e-02   1.2e+03   1.4e-01   1.0e+07   1.5e+05     595         max_eval         update_μ\n",
      "[ Info:     11  -3.7e-02   1.2e+04   1.4e-01   1.0e+07   1.5e+06     600         max_eval         update_y\n",
      "[ Info:     12  -3.7e-02   1.2e+04   1.4e-01   1.0e+08   1.5e+06     605         max_eval         update_μ\n",
      "[ Info:     13  -3.7e-02   1.2e+05   1.4e-01   1.0e+08   1.5e+07     610         max_eval         update_y\n",
      "[ Info:     14  -3.7e-02   1.2e+05   1.4e-01   1.0e+09   1.5e+07     615         max_eval         update_μ\n",
      "[ Info:     15  -3.7e-02   1.2e+05   1.4e-01   1.0e+10   1.5e+07     620         max_eval         update_μ\n",
      "[ Info:     16  -3.7e-02   1.2e+05   1.4e-01   1.0e+11   1.5e+07     625         max_eval         update_μ\n",
      "[ Info:     17  -3.7e-02   1.2e+05   1.4e-01   1.0e+12   1.5e+07     630         max_eval         update_μ\n",
      "[ Info:     18  -3.7e-02   1.2e+05   1.4e-01   1.0e+13   1.5e+07     635         max_eval         update_μ\n",
      "[ Info:     19  -3.7e-02   1.2e+05   1.4e-01   1.0e+14   1.5e+07     640         max_eval         update_μ\n",
      "[ Info:     20  -3.6e-02   1.2e+05   1.4e-01   1.0e+15   1.5e+07     645         max_eval         update_μ\n",
      "[ Info:     21  -2.7e-02   1.2e+05   1.4e-01   1.0e+16   1.5e+07     650         max_eval         update_μ\n",
      "[ Info:     22   6.2e-02   1.2e+05   1.4e-01   1.0e+17   1.5e+07     655         max_eval         update_μ\n"
     ]
    },
    {
     "output_type": "execute_result",
     "data": {
      "text/plain": "18.55813758992988"
     },
     "metadata": {},
     "execution_count": 4
    }
   ],
   "cell_type": "code",
   "source": [
    "x0 = fill(1.0, 160 * 40) # initial design\n",
    "x = copy(x0)\n",
    "for p in [1.0, 2.0, 3.0]\n",
    "    global penalty, stress, filter, result, stress, x\n",
    "    penalty = TopOpt.PowerPenalty(p)\n",
    "    solver = FEASolver(Direct, problem; xmin=xmin, penalty=penalty)\n",
    "    stress = TopOpt.MicroVonMisesStress(solver)\n",
    "    filter = DensityFilter(solver; rmin=rmin)\n",
    "    volfrac = TopOpt.Volume(problem, solver)\n",
    "\n",
    "    obj = x -> volfrac(filter(x)) - V\n",
    "    thr = 10 # stress threshold\n",
    "    constr = x -> begin\n",
    "        s = stress(filter(x))\n",
    "        vcat((s .- thr) / 100, logsumexp(s) - log(length(s)) - thr)\n",
    "    end\n",
    "    alg = PercivalAlg()\n",
    "    options = PercivalOptions()\n",
    "    optimizer = Optimizer(obj, constr, x, alg; options=options)\n",
    "    simp = SIMP(optimizer, solver, p)\n",
    "    result = simp(x)\n",
    "    x = result.topology\n",
    "end\n",
    "\n",
    "maximum(stress(filter(x0))) # 0.51\n",
    "maximum(stress(filter(x))) # 10.01"
   ],
   "metadata": {},
   "execution_count": 4
  },
  {
   "cell_type": "markdown",
   "source": [
    "### (Optional) Visualize the result using Makie.jl\n",
    "Need to run `using Pkg; Pkg.add(Makie)` first\n",
    "```julia\n",
    "using Makie\n",
    "using TopOpt.TopOptProblems.Visualization: visualize\n",
    "fig = visualize(\n",
    "   problem; topology = penalty.(filter(result.topology)), default_exagg_scale = 0.07,\n",
    "   scale_range = 10.0, vector_linewidth = 3, vector_arrowsize = 0.5,\n",
    ")\n",
    "Makie.display(fig)\n",
    "```"
   ],
   "metadata": {}
  },
  {
   "cell_type": "markdown",
   "source": [
    "---\n",
    "\n",
    "*This notebook was generated using [Literate.jl](https://github.com/fredrikekre/Literate.jl).*"
   ],
   "metadata": {}
  }
 ],
 "nbformat_minor": 3,
 "metadata": {
  "language_info": {
   "file_extension": ".jl",
   "mimetype": "application/julia",
   "name": "julia",
   "version": "1.7.2"
  },
  "kernelspec": {
   "name": "julia-1.7",
   "display_name": "Julia 1.7.2",
   "language": "julia"
  }
 },
 "nbformat": 4
}
