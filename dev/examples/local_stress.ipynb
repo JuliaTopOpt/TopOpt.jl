{
 "cells": [
  {
   "cell_type": "markdown",
   "source": [
    "using Revise"
   ],
   "metadata": {}
  },
  {
   "outputs": [
    {
     "output_type": "execute_result",
     "data": {
      "text/plain": "3.0"
     },
     "metadata": {},
     "execution_count": 1
    }
   ],
   "cell_type": "code",
   "source": [
    "using TopOpt, LinearAlgebra, StatsFuns\n",
    "using StatsFuns: logsumexp\n",
    "\n",
    "E = 1.0 # Young’s modulus\n",
    "v = 0.3 # Poisson’s ratio\n",
    "f = 1.0 # downward force\n",
    "rmin = 3.0"
   ],
   "metadata": {},
   "execution_count": 1
  },
  {
   "cell_type": "markdown",
   "source": [
    "### Define the problem"
   ],
   "metadata": {}
  },
  {
   "outputs": [
    {
     "output_type": "execute_result",
     "data": {
      "text/plain": ""
     },
     "metadata": {},
     "execution_count": 2
    }
   ],
   "cell_type": "code",
   "source": [
    "problem = PointLoadCantilever(Val{:Linear}, (160, 40), (1.0, 1.0), E, v, f)"
   ],
   "metadata": {},
   "execution_count": 2
  },
  {
   "cell_type": "markdown",
   "source": [
    "### Parameter settings"
   ],
   "metadata": {}
  },
  {
   "outputs": [
    {
     "output_type": "execute_result",
     "data": {
      "text/plain": "40"
     },
     "metadata": {},
     "execution_count": 3
    }
   ],
   "cell_type": "code",
   "source": [
    "V = 0.5 # volume fraction\n",
    "xmin = 0.0001 # minimum density\n",
    "steps = 40 # maximum number of penalty steps, delta_p0 = 0.1"
   ],
   "metadata": {},
   "execution_count": 3
  },
  {
   "cell_type": "markdown",
   "source": [
    "### Continuation SIMP"
   ],
   "metadata": {}
  },
  {
   "outputs": [
    {
     "name": "stdout",
     "output_type": "stream",
     "text": [
      "[ Info:   iter        fx    normgp    normcx         μ     normy    sumc     inner_status        iter_type  \n",
      "[ Info:      0   5.0e-01   8.0e+01   1.3e+01   1.0e+01   8.0e+01       5\n",
      "[ Info:      1   5.0e-01   8.0e+01   1.3e+01   1.0e+02   8.0e+01      10      first_order         update_μ\n",
      "[ Info:      2   5.0e-01   8.0e+01   8.0e-01   1.0e+03   8.0e+01      23      first_order         update_μ\n",
      "[ Info:      3   5.0e-01   1.3e-02   8.0e-02   1.0e+03   1.9e-05      35      first_order         update_y\n",
      "[ Info:      4  -4.2e-01   6.7e-02   6.0e-05   1.0e+03   6.0e-02     538         max_eval         update_y\n",
      "[ Info:      5  -4.2e-01   6.7e-02   6.0e-05   1.0e+04   6.0e-02     543         max_eval         update_μ\n",
      "[ Info:      6  -4.2e-01   7.0e-01   6.0e-05   1.0e+04   6.6e-01     548         max_eval         update_y\n",
      "[ Info:      7  -4.2e-01   1.3e+00   6.0e-05   1.0e+04   1.3e+00     553         max_eval         update_y\n",
      "[ Info:      8  -4.2e-01   1.3e+00   6.0e-05   1.0e+05   1.3e+00     558         max_eval         update_μ\n",
      "[ Info:      9  -4.2e-01   6.9e+00   6.0e-05   1.0e+05   7.3e+00     563         max_eval         update_y\n",
      "[ Info:     10  -4.2e-01   6.9e+00   6.0e-05   1.0e+06   7.3e+00     568         max_eval         update_μ\n",
      "[ Info:     11  -4.2e-01   5.9e+01   6.0e-05   1.0e+06   6.7e+01     573         max_eval         update_y\n",
      "[ Info:     12  -4.2e-01   5.9e+01   6.0e-05   1.0e+07   6.7e+01     578         max_eval         update_μ\n",
      "[ Info:     13  -4.2e-01   5.8e+02   6.0e-05   1.0e+07   6.7e+02     583         max_eval         update_y\n",
      "[ Info:     14  -4.2e-01   5.8e+02   6.0e-05   1.0e+08   6.7e+02     588         max_eval         update_μ\n",
      "[ Info:     15  -4.2e-01   5.8e+03   6.0e-05   1.0e+08   6.7e+03     593         max_eval         update_y\n",
      "[ Info:     16  -4.2e-01   5.8e+03   6.0e-05   1.0e+09   6.7e+03     598         max_eval         update_μ\n",
      "[ Info:     17  -4.2e-01   5.8e+04   6.0e-05   1.0e+09   6.7e+04     603         max_eval         update_y\n",
      "[ Info:     18  -4.2e-01   5.8e+04   6.0e-05   1.0e+10   6.7e+04     608         max_eval         update_μ\n",
      "[ Info:     19  -4.2e-01   5.8e+05   6.0e-05   1.0e+10   6.7e+05     613         max_eval         update_y\n",
      "[ Info:     20  -4.2e-01   5.8e+05   6.0e-05   1.0e+11   6.7e+05     618         max_eval         update_μ\n",
      "[ Info:     21  -4.2e-01   5.8e+06   6.0e-05   1.0e+11   6.7e+06     623         max_eval         update_y\n",
      "[ Info:     22  -4.2e-01   5.8e+06   6.0e-05   1.0e+12   6.7e+06     628         max_eval         update_μ\n",
      "[ Info:     23  -4.2e-01   5.8e+07   6.0e-05   1.0e+12   6.7e+07     633         max_eval         update_y\n",
      "[ Info:     24  -4.2e-01   5.8e+07   6.0e-05   1.0e+13   6.7e+07     638         max_eval         update_μ\n",
      "[ Info:     25  -4.2e-01   5.8e+08   6.0e-05   1.0e+13   6.7e+08     643         max_eval         update_y\n",
      "[ Info:     26  -4.2e-01   5.8e+08   6.0e-05   1.0e+14   6.7e+08     648         max_eval         update_μ\n",
      "[ Info:     27  -4.2e-01   5.8e+09   6.0e-05   1.0e+14   6.7e+09     653         max_eval         update_y\n",
      "[ Info:     28  -4.2e-01   5.8e+09   6.0e-05   1.0e+15   6.7e+09     658         max_eval         update_μ\n",
      "[ Info:     29  -4.2e-01   5.8e+10   6.0e-05   1.0e+15   6.7e+10     663         max_eval         update_y\n",
      "[ Info:     30  -4.2e-01   5.8e+10   6.0e-05   1.0e+16   6.7e+10     668         max_eval         update_μ\n",
      "[ Info:     31  -4.2e-01   5.8e+11   6.0e-05   1.0e+16   6.7e+11     673         max_eval         update_y\n",
      "[ Info:     32  -4.2e-01   5.8e+11   6.0e-05   1.0e+17   6.7e+11     678         max_eval         update_μ\n",
      "[ Info:   iter        fx    normgp    normcx         μ     normy    sumc     inner_status        iter_type  \n",
      "[ Info:      0  -4.2e-01   8.0e+01   3.5e+01   1.0e+01   8.0e+01       5\n",
      "[ Info:      1  -4.2e-01   8.0e+01   3.5e+01   1.0e+02   8.0e+01      10      first_order         update_μ\n",
      "[ Info:      2  -4.1e-01   8.0e+01   8.2e-01   1.0e+03   8.0e+01     214      first_order         update_μ\n",
      "[ Info:      3  -5.3e-01   3.5e+01   1.3e-01   1.0e+03   1.0e+02     502         max_eval         update_y\n",
      "[ Info:      4  -4.1e-01   3.5e+01   1.3e-01   1.0e+04   1.0e+02     507         max_eval         update_μ\n",
      "[ Info:      5  -4.1e-01   1.1e+02   1.3e-01   1.0e+04   1.4e+03     512         max_eval         update_y\n",
      "[ Info:      6  -4.1e-01   1.1e+02   1.3e-01   1.0e+05   1.4e+03     517         max_eval         update_μ\n",
      "[ Info:      7  -4.1e-01   7.7e+02   1.3e-01   1.0e+05   1.4e+04     522         max_eval         update_y\n",
      "[ Info:      8  -4.1e-01   7.7e+02   1.3e-01   1.0e+06   1.4e+04     527         max_eval         update_μ\n",
      "[ Info:      9  -4.1e-01   7.6e+03   1.3e-01   1.0e+06   1.4e+05     532         max_eval         update_y\n",
      "[ Info:     10  -4.1e-01   7.6e+03   1.3e-01   1.0e+07   1.4e+05     537         max_eval         update_μ\n",
      "[ Info:     11  -4.1e-01   7.6e+04   1.3e-01   1.0e+07   1.4e+06     542         max_eval         update_y\n",
      "[ Info:     12  -4.1e-01   7.6e+04   1.3e-01   1.0e+08   1.4e+06     547         max_eval         update_μ\n",
      "[ Info:     13  -4.1e-01   7.6e+05   1.3e-01   1.0e+08   1.4e+07     552         max_eval         update_y\n",
      "[ Info:     14  -4.1e-01   7.6e+05   1.3e-01   1.0e+09   1.4e+07     557         max_eval         update_μ\n",
      "[ Info:     15  -4.1e-01   7.6e+05   1.3e-01   1.0e+10   1.4e+07     562         max_eval         update_μ\n",
      "[ Info:     16  -4.1e-01   7.6e+05   1.3e-01   1.0e+11   1.4e+07     567         max_eval         update_μ\n",
      "[ Info:     17  -4.1e-01   7.6e+05   1.3e-01   1.0e+12   1.4e+07     572         max_eval         update_μ\n",
      "[ Info:     18  -4.1e-01   7.6e+05   1.3e-01   1.0e+13   1.4e+07     577         max_eval         update_μ\n",
      "[ Info:     19  -4.1e-01   7.6e+05   1.3e-01   1.0e+14   1.4e+07     582         max_eval         update_μ\n",
      "[ Info:     20  -4.1e-01   7.6e+05   1.3e-01   1.0e+15   1.4e+07     587         max_eval         update_μ\n",
      "[ Info:     21  -4.1e-01   7.6e+05   1.3e-01   1.0e+16   1.4e+07     592         max_eval         update_μ\n",
      "[ Info:     22  -4.2e-01   7.6e+05   1.3e-01   1.0e+17   1.4e+07     597         max_eval         update_μ\n",
      "[ Info:   iter        fx    normgp    normcx         μ     normy    sumc     inner_status        iter_type  \n",
      "[ Info:      0  -4.1e-01   8.1e+01   1.2e+02   1.0e+01   8.0e+01       5\n",
      "[ Info:      1  -4.1e-01   8.1e+01   1.2e+02   1.0e+02   8.0e+01      10      first_order         update_μ\n",
      "[ Info:      2  -2.8e-01   8.2e+01   8.0e-01   1.0e+03   8.0e+01     250      first_order         update_μ\n",
      "[ Info:      3  -2.8e-01   2.5e-02   8.0e-02   1.0e+03   2.3e-02     423      first_order         update_y\n",
      "[ Info:      4  -2.8e-01   2.5e-02   3.5e-05   1.0e+03   3.2e-02     570         max_eval         update_y\n",
      "[ Info:      5  -2.8e-01   2.5e-02   3.5e-05   1.0e+04   3.2e-02     575         max_eval         update_μ\n",
      "[ Info:      6  -2.8e-01   3.1e-01   3.5e-05   1.0e+04   3.7e-01     580         max_eval         update_y\n",
      "[ Info:      7  -2.8e-01   5.9e-01   3.5e-05   1.0e+04   7.2e-01     585         max_eval         update_y\n",
      "[ Info:      8  -2.8e-01   5.9e-01   3.5e-05   1.0e+05   7.2e-01     590         max_eval         update_μ\n",
      "[ Info:      9  -2.8e-01   3.4e+00   3.5e-05   1.0e+05   4.2e+00     595         max_eval         update_y\n",
      "[ Info:     10  -2.8e-01   3.4e+00   3.5e-05   1.0e+06   4.2e+00     600         max_eval         update_μ\n",
      "[ Info:     11  -2.8e-01   2.7e+01   3.5e-05   1.0e+06   3.9e+01     605         max_eval         update_y\n",
      "[ Info:     12  -2.8e-01   2.7e+01   3.5e-05   1.0e+07   3.9e+01     610         max_eval         update_μ\n",
      "[ Info:     13  -2.8e-01   2.4e+02   3.5e-05   1.0e+07   3.9e+02     615         max_eval         update_y\n",
      "[ Info:     14  -2.8e-01   2.4e+02   3.5e-05   1.0e+08   3.9e+02     620         max_eval         update_μ\n",
      "[ Info:     15  -2.8e-01   2.4e+03   3.5e-05   1.0e+08   3.9e+03     625         max_eval         update_y\n",
      "[ Info:     16  -2.8e-01   2.4e+03   3.5e-05   1.0e+09   3.9e+03     630         max_eval         update_μ\n",
      "[ Info:     17  -2.8e-01   2.4e+04   3.5e-05   1.0e+09   3.9e+04     635         max_eval         update_y\n",
      "[ Info:     18  -2.8e-01   2.4e+04   3.5e-05   1.0e+10   3.9e+04     640         max_eval         update_μ\n",
      "[ Info:     19  -2.8e-01   2.4e+05   3.5e-05   1.0e+10   3.9e+05     645         max_eval         update_y\n",
      "[ Info:     20  -2.8e-01   2.4e+05   3.5e-05   1.0e+11   3.9e+05     650         max_eval         update_μ\n",
      "[ Info:     21  -2.8e-01   2.4e+06   3.5e-05   1.0e+11   3.9e+06     655         max_eval         update_y\n",
      "[ Info:     22  -2.8e-01   2.4e+06   3.5e-05   1.0e+12   3.9e+06     660         max_eval         update_μ\n",
      "[ Info:     23  -2.8e-01   2.4e+07   3.5e-05   1.0e+12   3.9e+07     665         max_eval         update_y\n",
      "[ Info:     24  -2.8e-01   2.4e+07   3.5e-05   1.0e+13   3.9e+07     670         max_eval         update_μ\n",
      "[ Info:     25  -2.8e-01   2.4e+08   3.5e-05   1.0e+13   3.9e+08     675         max_eval         update_y\n",
      "[ Info:     26  -2.8e-01   2.4e+08   3.5e-05   1.0e+14   3.9e+08     680         max_eval         update_μ\n",
      "[ Info:     27  -2.8e-01   2.4e+09   3.5e-05   1.0e+14   3.9e+09     685         max_eval         update_y\n",
      "[ Info:     28  -2.8e-01   2.4e+09   3.5e-05   1.0e+15   3.9e+09     690         max_eval         update_μ\n",
      "[ Info:     29  -2.8e-01   2.4e+10   3.5e-05   1.0e+15   3.9e+10     695         max_eval         update_y\n",
      "[ Info:     30  -2.8e-01   2.4e+10   3.5e-05   1.0e+16   3.9e+10     700         max_eval         update_μ\n",
      "[ Info:     31  -2.8e-01   2.4e+11   3.5e-05   1.0e+16   3.9e+11     705         max_eval         update_y\n",
      "[ Info:     32  -2.8e-01   2.4e+11   3.5e-05   1.0e+17   3.9e+11     710         max_eval         update_μ\n"
     ]
    },
    {
     "output_type": "execute_result",
     "data": {
      "text/plain": "10.001802110321766"
     },
     "metadata": {},
     "execution_count": 4
    }
   ],
   "cell_type": "code",
   "source": [
    "x0 = fill(1.0, 160 * 40) # initial design\n",
    "x = copy(x0)\n",
    "for p in [1.0, 2.0, 3.0]\n",
    "    global penalty, stress, filter, result, stress, x\n",
    "    penalty = TopOpt.PowerPenalty(p)\n",
    "    solver = FEASolver(Direct, problem; xmin=xmin, penalty=penalty)\n",
    "    stress = TopOpt.MicroVonMisesStress(solver)\n",
    "    filter = DensityFilter(solver; rmin=rmin)\n",
    "    volfrac = TopOpt.Volume(problem, solver)\n",
    "\n",
    "    obj = x -> volfrac(filter(x)) - V\n",
    "    thr = 10 # stress threshold\n",
    "    constr = x -> begin\n",
    "        s = stress(filter(x))\n",
    "        vcat((s .- thr) / 100, logsumexp(s) - log(length(s)) - thr)\n",
    "    end\n",
    "    alg = PercivalAlg()\n",
    "    options = PercivalOptions()\n",
    "    optimizer = Optimizer(obj, constr, x, alg; options=options)\n",
    "    simp = SIMP(optimizer, solver, p)\n",
    "    result = simp(x)\n",
    "    x = result.topology\n",
    "end\n",
    "\n",
    "maximum(stress(filter(x0))) # 0.51\n",
    "maximum(stress(filter(x))) # 10.01"
   ],
   "metadata": {},
   "execution_count": 4
  },
  {
   "cell_type": "markdown",
   "source": [
    "### (Optional) Visualize the result using Makie.jl\n",
    "Need to run `using Pkg; Pkg.add(Makie)` first\n",
    "```julia\n",
    "using Makie\n",
    "using TopOpt.TopOptProblems.Visualization: visualize\n",
    "fig = visualize(\n",
    "   problem; topology = penalty.(filter(result.topology)), default_exagg_scale = 0.07,\n",
    "   scale_range = 10.0, vector_linewidth = 3, vector_arrowsize = 0.5,\n",
    ")\n",
    "Makie.display(fig)\n",
    "```"
   ],
   "metadata": {}
  },
  {
   "cell_type": "markdown",
   "source": [
    "---\n",
    "\n",
    "*This notebook was generated using [Literate.jl](https://github.com/fredrikekre/Literate.jl).*"
   ],
   "metadata": {}
  }
 ],
 "nbformat_minor": 3,
 "metadata": {
  "language_info": {
   "file_extension": ".jl",
   "mimetype": "application/julia",
   "name": "julia",
   "version": "1.7.1"
  },
  "kernelspec": {
   "name": "julia-1.7",
   "display_name": "Julia 1.7.1",
   "language": "julia"
  }
 },
 "nbformat": 4
}
