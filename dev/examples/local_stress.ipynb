{
 "cells": [
  {
   "cell_type": "markdown",
   "source": [
    "using Revise"
   ],
   "metadata": {}
  },
  {
   "outputs": [
    {
     "output_type": "execute_result",
     "data": {
      "text/plain": "3.0"
     },
     "metadata": {},
     "execution_count": 1
    }
   ],
   "cell_type": "code",
   "source": [
    "using TopOpt, LinearAlgebra, StatsFuns\n",
    "\n",
    "E = 1.0 # Young’s modulus\n",
    "v = 0.3 # Poisson’s ratio\n",
    "f = 1.0 # downward force\n",
    "rmin = 3.0"
   ],
   "metadata": {},
   "execution_count": 1
  },
  {
   "cell_type": "markdown",
   "source": [
    "### Define the problem"
   ],
   "metadata": {}
  },
  {
   "outputs": [
    {
     "output_type": "execute_result",
     "data": {
      "text/plain": ""
     },
     "metadata": {},
     "execution_count": 2
    }
   ],
   "cell_type": "code",
   "source": [
    "problem = PointLoadCantilever(Val{:Linear}, (160, 40), (1.0, 1.0), E, v, f)"
   ],
   "metadata": {},
   "execution_count": 2
  },
  {
   "cell_type": "markdown",
   "source": [
    "### Parameter settings"
   ],
   "metadata": {}
  },
  {
   "outputs": [
    {
     "output_type": "execute_result",
     "data": {
      "text/plain": "40"
     },
     "metadata": {},
     "execution_count": 3
    }
   ],
   "cell_type": "code",
   "source": [
    "V = 0.5 # volume fraction\n",
    "xmin = 0.0001 # minimum density\n",
    "steps = 40 # maximum number of penalty steps, delta_p0 = 0.1"
   ],
   "metadata": {},
   "execution_count": 3
  },
  {
   "cell_type": "markdown",
   "source": [
    "### Continuation SIMP"
   ],
   "metadata": {}
  },
  {
   "outputs": [
    {
     "name": "stdout",
     "output_type": "stream",
     "text": [
      "[ Info:   iter        fx    normgp    normcx         μ     normy    sumc     inner_status        iter_type  \n",
      "[ Info:      0   5.0e-01   8.0e+01   1.3e+01   1.0e+01   8.0e+01       5\n",
      "[ Info:      1   5.0e-01   8.0e+01   1.3e+01   1.0e+02   8.0e+01      10      first_order         update_μ\n",
      "[ Info:      2   5.0e-01   8.0e+01   8.0e-01   1.0e+03   8.0e+01      23      first_order         update_μ\n",
      "[ Info:      3   5.0e-01   1.3e-02   8.0e-02   1.0e+03   1.9e-05      35      first_order         update_y\n",
      "[ Info:      4  -4.3e-01   1.0e-01   1.0e-04   1.0e+03   1.0e-01     524         max_eval         update_y\n",
      "[ Info:      5  -4.3e-01   1.0e-01   1.0e-04   1.0e+04   1.0e-01     529         max_eval         update_μ\n",
      "[ Info:      6  -4.3e-01   1.1e+00   1.0e-04   1.0e+04   1.1e+00     534         max_eval         update_y\n",
      "[ Info:      7  -4.3e-01   1.1e+00   1.0e-04   1.0e+05   1.1e+00     539         max_eval         update_μ\n",
      "[ Info:      8  -4.3e-01   9.0e+00   1.0e-04   1.0e+05   1.1e+01     544         max_eval         update_y\n",
      "[ Info:      9  -4.3e-01   9.0e+00   1.0e-04   1.0e+06   1.1e+01     549         max_eval         update_μ\n",
      "[ Info:     10  -4.3e-01   6.6e+01   1.0e-04   1.0e+06   1.1e+02     554         max_eval         update_y\n",
      "[ Info:     11  -4.3e-01   6.6e+01   1.0e-04   1.0e+07   1.1e+02     559         max_eval         update_μ\n",
      "[ Info:     12  -4.3e-01   6.0e+02   1.0e-04   1.0e+07   1.1e+03     564         max_eval         update_y\n",
      "[ Info:     13  -4.3e-01   6.0e+02   1.0e-04   1.0e+08   1.1e+03     569         max_eval         update_μ\n",
      "[ Info:     14  -4.3e-01   6.0e+03   1.0e-04   1.0e+08   1.1e+04     574         max_eval         update_y\n",
      "[ Info:     15  -4.3e-01   6.0e+03   1.0e-04   1.0e+09   1.1e+04     579         max_eval         update_μ\n",
      "[ Info:     16  -4.3e-01   6.0e+04   1.0e-04   1.0e+09   1.1e+05     584         max_eval         update_y\n",
      "[ Info:     17  -4.3e-01   6.0e+04   1.0e-04   1.0e+10   1.1e+05     589         max_eval         update_μ\n",
      "[ Info:     18  -4.3e-01   6.0e+05   1.0e-04   1.0e+10   1.1e+06     594         max_eval         update_y\n",
      "[ Info:     19  -4.3e-01   6.0e+05   1.0e-04   1.0e+11   1.1e+06     599         max_eval         update_μ\n",
      "[ Info:     20  -4.3e-01   6.0e+06   1.0e-04   1.0e+11   1.1e+07     604         max_eval         update_y\n",
      "[ Info:     21  -4.3e-01   6.0e+06   1.0e-04   1.0e+12   1.1e+07     609         max_eval         update_μ\n",
      "[ Info:     22  -4.3e-01   6.0e+07   1.0e-04   1.0e+12   1.1e+08     614         max_eval         update_y\n",
      "[ Info:     23  -4.3e-01   6.0e+07   1.0e-04   1.0e+13   1.1e+08     619         max_eval         update_μ\n",
      "[ Info:     24  -4.3e-01   6.0e+08   1.0e-04   1.0e+13   1.1e+09     624         max_eval         update_y\n",
      "[ Info:     25  -4.3e-01   6.0e+08   1.0e-04   1.0e+14   1.1e+09     629         max_eval         update_μ\n",
      "[ Info:     26  -4.3e-01   6.0e+09   1.0e-04   1.0e+14   1.1e+10     634         max_eval         update_y\n",
      "[ Info:     27  -4.3e-01   6.0e+09   1.0e-04   1.0e+15   1.1e+10     639         max_eval         update_μ\n",
      "[ Info:     28  -4.3e-01   6.0e+10   1.0e-04   1.0e+15   1.1e+11     644         max_eval         update_y\n",
      "[ Info:     29  -4.3e-01   6.0e+10   1.0e-04   1.0e+16   1.1e+11     649         max_eval         update_μ\n",
      "[ Info:     30  -4.3e-01   6.0e+11   1.0e-04   1.0e+16   1.1e+12     654         max_eval         update_y\n",
      "[ Info:     31  -4.3e-01   6.0e+11   1.0e-04   1.0e+17   1.1e+12     659         max_eval         update_μ\n",
      "[ Info:   iter        fx    normgp    normcx         μ     normy    sumc     inner_status        iter_type  \n",
      "[ Info:      0  -4.3e-01   8.0e+01   3.1e+01   1.0e+01   8.0e+01       5\n",
      "[ Info:      1  -4.3e-01   8.0e+01   3.1e+01   1.0e+02   8.0e+01      10      first_order         update_μ\n",
      "[ Info:      2  -4.2e-01   8.0e+01   8.1e-01   1.0e+03   8.0e+01     146      first_order         update_μ\n",
      "[ Info:      3  -4.1e-01   1.5e+01   1.1e-01   1.0e+03   6.7e+01     536         max_eval         update_y\n",
      "[ Info:      4  -4.1e-01   1.5e+01   1.1e-01   1.0e+04   6.7e+01     541         max_eval         update_μ\n",
      "[ Info:      5  -4.1e-01   8.1e+01   1.1e-01   1.0e+04   1.1e+03     546         max_eval         update_y\n",
      "[ Info:      6  -4.1e-01   8.1e+01   1.1e-01   1.0e+05   1.1e+03     551         max_eval         update_μ\n",
      "[ Info:      7  -4.1e-01   3.5e+02   1.1e-01   1.0e+05   1.2e+04     556         max_eval         update_y\n",
      "[ Info:      8  -4.1e-01   3.5e+02   1.1e-01   1.0e+06   1.2e+04     561         max_eval         update_μ\n",
      "[ Info:      9  -4.1e-01   3.4e+03   1.1e-01   1.0e+06   1.2e+05     566         max_eval         update_y\n",
      "[ Info:     10  -4.1e-01   3.4e+03   1.1e-01   1.0e+07   1.2e+05     571         max_eval         update_μ\n",
      "[ Info:     11  -4.1e-01   3.4e+04   1.1e-01   1.0e+07   1.2e+06     576         max_eval         update_y\n",
      "[ Info:     12  -4.1e-01   3.4e+04   1.1e-01   1.0e+08   1.2e+06     581         max_eval         update_μ\n",
      "[ Info:     13  -4.1e-01   3.4e+05   1.1e-01   1.0e+08   1.2e+07     586         max_eval         update_y\n",
      "[ Info:     14  -4.1e-01   3.4e+05   1.1e-01   1.0e+09   1.2e+07     591         max_eval         update_μ\n",
      "[ Info:     15  -4.1e-01   3.4e+06   1.1e-01   1.0e+09   1.2e+08     596         max_eval         update_y\n",
      "[ Info:     16  -4.1e-01   3.4e+06   1.1e-01   1.0e+10   1.2e+08     601         max_eval         update_μ\n",
      "[ Info:     17  -4.1e-01   3.4e+06   1.1e-01   1.0e+11   1.2e+08     606         max_eval         update_μ\n",
      "[ Info:     18  -4.1e-01   3.4e+06   1.1e-01   1.0e+12   1.2e+08     611         max_eval         update_μ\n",
      "[ Info:     19  -4.1e-01   3.4e+06   1.1e-01   1.0e+13   1.2e+08     616         max_eval         update_μ\n",
      "[ Info:     20  -4.1e-01   3.4e+06   1.1e-01   1.0e+14   1.2e+08     621         max_eval         update_μ\n",
      "[ Info:     21  -4.2e-01   3.4e+06   1.1e-01   1.0e+15   1.2e+08     626         max_eval         update_μ\n",
      "[ Info:     22  -4.2e-01   3.4e+06   1.1e-01   1.0e+16   1.2e+08     631         max_eval         update_μ\n",
      "[ Info:     23  -4.7e-01   3.4e+06   1.1e-01   1.0e+17   1.2e+08     636         max_eval         update_μ\n",
      "[ Info:   iter        fx    normgp    normcx         μ     normy    sumc     inner_status        iter_type  \n",
      "[ Info:      0  -4.1e-01   8.1e+01   1.1e+02   1.0e+01   8.0e+01       5\n",
      "[ Info:      1  -4.1e-01   8.1e+01   1.1e+02   1.0e+02   8.0e+01      10      first_order         update_μ\n",
      "[ Info:      2  -2.9e-01   8.2e+01   8.0e-01   1.0e+03   8.0e+01     200      first_order         update_μ\n",
      "[ Info:      3  -2.8e-01   5.8e-02   8.0e-02   1.0e+03   2.1e-01     346      first_order         update_y\n",
      "[ Info:      4  -2.8e-01   7.8e-02   2.6e-04   1.0e+03   1.6e-01     576         max_eval         update_y\n",
      "[ Info:      5  -2.8e-01   7.8e-02   2.6e-04   1.0e+04   1.6e-01     581         max_eval         update_μ\n",
      "[ Info:      6  -2.8e-01   2.2e+00   2.6e-04   1.0e+04   2.7e+00     586         max_eval         update_y\n",
      "[ Info:      7  -2.8e-01   2.2e+00   2.6e-04   1.0e+05   2.7e+00     591         max_eval         update_μ\n",
      "[ Info:      8  -2.8e-01   2.4e+01   2.6e-04   1.0e+05   2.9e+01     596         max_eval         update_y\n",
      "[ Info:      9  -2.8e-01   2.4e+01   2.6e-04   1.0e+06   2.9e+01     601         max_eval         update_μ\n",
      "[ Info:     10  -2.8e-01   2.4e+02   2.6e-04   1.0e+06   2.9e+02     606         max_eval         update_y\n",
      "[ Info:     11  -2.8e-01   2.4e+02   2.6e-04   1.0e+07   2.9e+02     611         max_eval         update_μ\n",
      "[ Info:     12  -2.8e-01   2.4e+03   2.6e-04   1.0e+07   2.9e+03     616         max_eval         update_y\n",
      "[ Info:     13  -2.8e-01   2.4e+03   2.6e-04   1.0e+08   2.9e+03     621         max_eval         update_μ\n",
      "[ Info:     14  -2.8e-01   2.4e+04   2.6e-04   1.0e+08   2.9e+04     626         max_eval         update_y\n",
      "[ Info:     15  -2.8e-01   2.4e+04   2.6e-04   1.0e+09   2.9e+04     631         max_eval         update_μ\n",
      "[ Info:     16  -2.8e-01   2.4e+05   2.6e-04   1.0e+09   2.9e+05     636         max_eval         update_y\n",
      "[ Info:     17  -2.8e-01   2.4e+05   2.6e-04   1.0e+10   2.9e+05     641         max_eval         update_μ\n",
      "[ Info:     18  -2.8e-01   2.4e+06   2.6e-04   1.0e+10   2.9e+06     646         max_eval         update_y\n",
      "[ Info:     19  -2.8e-01   2.4e+06   2.6e-04   1.0e+11   2.9e+06     651         max_eval         update_μ\n",
      "[ Info:     20  -2.8e-01   2.4e+07   2.6e-04   1.0e+11   2.9e+07     656         max_eval         update_y\n",
      "[ Info:     21  -2.8e-01   2.4e+07   2.6e-04   1.0e+12   2.9e+07     661         max_eval         update_μ\n",
      "[ Info:     22  -2.8e-01   2.4e+08   2.6e-04   1.0e+12   2.9e+08     666         max_eval         update_y\n",
      "[ Info:     23  -2.8e-01   2.4e+08   2.6e-04   1.0e+13   2.9e+08     671         max_eval         update_μ\n",
      "[ Info:     24  -2.8e-01   2.4e+09   2.6e-04   1.0e+13   2.9e+09     676         max_eval         update_y\n",
      "[ Info:     25  -2.8e-01   2.4e+09   2.6e-04   1.0e+14   2.9e+09     681         max_eval         update_μ\n",
      "[ Info:     26  -2.8e-01   2.4e+10   2.6e-04   1.0e+14   2.9e+10     686         max_eval         update_y\n",
      "[ Info:     27  -2.8e-01   2.4e+10   2.6e-04   1.0e+15   2.9e+10     691         max_eval         update_μ\n",
      "[ Info:     28  -2.8e-01   2.4e+11   2.6e-04   1.0e+15   2.9e+11     696         max_eval         update_y\n",
      "[ Info:     29  -2.8e-01   2.4e+11   2.6e-04   1.0e+16   2.9e+11     701         max_eval         update_μ\n",
      "[ Info:     30  -2.8e-01   2.4e+12   2.6e-04   1.0e+16   2.9e+12     706         max_eval         update_y\n",
      "[ Info:     31  -2.8e-01   2.4e+12   2.6e-04   1.0e+17   2.9e+12     711         max_eval         update_μ\n"
     ]
    },
    {
     "output_type": "execute_result",
     "data": {
      "text/plain": "10.012666870606886"
     },
     "metadata": {},
     "execution_count": 4
    }
   ],
   "cell_type": "code",
   "source": [
    "x0 = fill(1.0, 160*40) # initial design\n",
    "x = copy(x0)\n",
    "for p in [1.0, 2.0, 3.0]\n",
    "    global penalty, stress, filter, result, stress, x\n",
    "    penalty = TopOpt.PowerPenalty(p)\n",
    "    solver = FEASolver(\n",
    "        Displacement, Direct, problem, xmin = xmin, penalty = penalty,\n",
    "    )\n",
    "    stress = TopOpt.MicroVonMisesStress(solver)\n",
    "    filter = DensityFilter(solver, rmin = rmin)\n",
    "    volfrac = TopOpt.Volume(problem, solver)\n",
    "\n",
    "    obj = x -> volfrac(filter(x)) - V\n",
    "    thr = 10 # stress threshold\n",
    "    constr = x -> begin\n",
    "        s = stress(filter(x))\n",
    "        vcat(\n",
    "            (s .- thr) / 100,\n",
    "            logsumexp(s) - log(length(s)) - thr,\n",
    "        )\n",
    "    end\n",
    "    alg = Nonconvex.PercivalAlg()\n",
    "    options = Nonconvex.PercivalOptions()\n",
    "    optimizer = Optimizer(\n",
    "        obj, constr, x, alg,\n",
    "        options = options,\n",
    "    )\n",
    "    simp = SIMP(optimizer, solver, p)\n",
    "    result = simp(x)\n",
    "    x = result.topology\n",
    "end\n",
    "\n",
    "maximum(stress(filter(x0))) # 0.51\n",
    "maximum(stress(filter(x))) # 10.01"
   ],
   "metadata": {},
   "execution_count": 4
  },
  {
   "cell_type": "markdown",
   "source": [
    "### (Optional) Visualize the result using Makie.jl\n",
    "Need to run `using Pkg; Pkg.add(Makie)` first\n",
    "```julia\n",
    "using Makie\n",
    "using TopOpt.TopOptProblems.Visualization: visualize\n",
    "fig = visualize(\n",
    "   problem; topology = penalty.(filter(result.topology)), default_exagg_scale = 0.07,\n",
    "   scale_range = 10.0, vector_linewidth = 3, vector_arrowsize = 0.5,\n",
    ")\n",
    "Makie.display(fig)\n",
    "```"
   ],
   "metadata": {}
  },
  {
   "cell_type": "markdown",
   "source": [
    "---\n",
    "\n",
    "*This notebook was generated using [Literate.jl](https://github.com/fredrikekre/Literate.jl).*"
   ],
   "metadata": {}
  }
 ],
 "nbformat_minor": 3,
 "metadata": {
  "language_info": {
   "file_extension": ".jl",
   "mimetype": "application/julia",
   "name": "julia",
   "version": "1.6.1"
  },
  "kernelspec": {
   "name": "julia-1.6",
   "display_name": "Julia 1.6.1",
   "language": "julia"
  }
 },
 "nbformat": 4
}
