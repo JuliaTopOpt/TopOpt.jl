{
 "cells": [
  {
   "cell_type": "markdown",
   "source": [
    "using Revise"
   ],
   "metadata": {}
  },
  {
   "outputs": [
    {
     "output_type": "execute_result",
     "data": {
      "text/plain": "3.0"
     },
     "metadata": {},
     "execution_count": 1
    }
   ],
   "cell_type": "code",
   "source": [
    "using TopOpt, LinearAlgebra, StatsFuns\n",
    "using StatsFuns: logsumexp\n",
    "\n",
    "E = 1.0 # Young’s modulus\n",
    "v = 0.3 # Poisson’s ratio\n",
    "f = 1.0 # downward force\n",
    "rmin = 3.0"
   ],
   "metadata": {},
   "execution_count": 1
  },
  {
   "cell_type": "markdown",
   "source": [
    "### Define the problem"
   ],
   "metadata": {}
  },
  {
   "outputs": [
    {
     "output_type": "execute_result",
     "data": {
      "text/plain": ""
     },
     "metadata": {},
     "execution_count": 2
    }
   ],
   "cell_type": "code",
   "source": [
    "problem = PointLoadCantilever(Val{:Linear}, (160, 40), (1.0, 1.0), E, v, f)"
   ],
   "metadata": {},
   "execution_count": 2
  },
  {
   "cell_type": "markdown",
   "source": [
    "### Parameter settings"
   ],
   "metadata": {}
  },
  {
   "outputs": [
    {
     "output_type": "execute_result",
     "data": {
      "text/plain": "40"
     },
     "metadata": {},
     "execution_count": 3
    }
   ],
   "cell_type": "code",
   "source": [
    "V = 0.5 # volume fraction\n",
    "xmin = 0.0001 # minimum density\n",
    "steps = 40 # maximum number of penalty steps, delta_p0 = 0.1"
   ],
   "metadata": {},
   "execution_count": 3
  },
  {
   "cell_type": "markdown",
   "source": [
    "### Continuation SIMP"
   ],
   "metadata": {}
  },
  {
   "outputs": [
    {
     "name": "stdout",
     "output_type": "stream",
     "text": [
      "[ Info:   iter        fx    normgp    normcx         μ     normy    sumc     inner_status        iter_type  \n",
      "[ Info:      0   5.0e-01   8.0e+01   1.3e+01   1.0e+01   8.0e+01       5\n",
      "[ Info:      1   5.0e-01   8.0e+01   1.3e+01   1.0e+02   8.0e+01      10      first_order         update_μ\n",
      "[ Info:      2   5.0e-01   8.0e+01   8.0e-01   1.0e+03   8.0e+01      23      first_order         update_μ\n",
      "[ Info:      3   5.0e-01   1.3e-02   8.0e-02   1.0e+03   1.9e-05      35      first_order         update_y\n",
      "[ Info:      4  -4.3e-01   7.1e-02   6.7e-05   1.0e+03   6.7e-02     534         max_eval         update_y\n",
      "[ Info:      5  -4.3e-01   7.1e-02   6.7e-05   1.0e+04   6.7e-02     539         max_eval         update_μ\n",
      "[ Info:      6  -4.3e-01   7.6e-01   6.7e-05   1.0e+04   7.4e-01     544         max_eval         update_y\n",
      "[ Info:      7  -4.3e-01   1.4e+00   6.7e-05   1.0e+04   1.4e+00     549         max_eval         update_y\n",
      "[ Info:      8  -4.3e-01   1.4e+00   6.7e-05   1.0e+05   1.4e+00     554         max_eval         update_μ\n",
      "[ Info:      9  -4.3e-01   7.7e+00   6.7e-05   1.0e+05   8.1e+00     559         max_eval         update_y\n",
      "[ Info:     10  -4.3e-01   7.7e+00   6.7e-05   1.0e+06   8.1e+00     564         max_eval         update_μ\n",
      "[ Info:     11  -4.3e-01   6.2e+01   6.7e-05   1.0e+06   7.5e+01     569         max_eval         update_y\n",
      "[ Info:     12  -4.3e-01   6.2e+01   6.7e-05   1.0e+07   7.5e+01     574         max_eval         update_μ\n",
      "[ Info:     13  -4.3e-01   6.1e+02   6.7e-05   1.0e+07   7.4e+02     579         max_eval         update_y\n",
      "[ Info:     14  -4.3e-01   6.1e+02   6.7e-05   1.0e+08   7.4e+02     584         max_eval         update_μ\n",
      "[ Info:     15  -4.3e-01   6.1e+03   6.7e-05   1.0e+08   7.4e+03     589         max_eval         update_y\n",
      "[ Info:     16  -4.3e-01   6.1e+03   6.7e-05   1.0e+09   7.4e+03     594         max_eval         update_μ\n",
      "[ Info:     17  -4.3e-01   6.1e+04   6.7e-05   1.0e+09   7.4e+04     599         max_eval         update_y\n",
      "[ Info:     18  -4.3e-01   6.1e+04   6.7e-05   1.0e+10   7.4e+04     604         max_eval         update_μ\n",
      "[ Info:     19  -4.3e-01   6.1e+05   6.7e-05   1.0e+10   7.4e+05     609         max_eval         update_y\n",
      "[ Info:     20  -4.3e-01   6.1e+05   6.7e-05   1.0e+11   7.4e+05     614         max_eval         update_μ\n",
      "[ Info:     21  -4.3e-01   6.1e+06   6.7e-05   1.0e+11   7.4e+06     619         max_eval         update_y\n",
      "[ Info:     22  -4.3e-01   6.1e+06   6.7e-05   1.0e+12   7.4e+06     624         max_eval         update_μ\n",
      "[ Info:     23  -4.3e-01   6.1e+07   6.7e-05   1.0e+12   7.4e+07     629         max_eval         update_y\n",
      "[ Info:     24  -4.3e-01   6.1e+07   6.7e-05   1.0e+13   7.4e+07     634         max_eval         update_μ\n",
      "[ Info:     25  -4.3e-01   6.1e+08   6.7e-05   1.0e+13   7.4e+08     639         max_eval         update_y\n",
      "[ Info:     26  -4.3e-01   6.1e+08   6.7e-05   1.0e+14   7.4e+08     644         max_eval         update_μ\n",
      "[ Info:     27  -4.3e-01   6.1e+09   6.7e-05   1.0e+14   7.4e+09     649         max_eval         update_y\n",
      "[ Info:     28  -4.3e-01   6.1e+09   6.7e-05   1.0e+15   7.4e+09     654         max_eval         update_μ\n",
      "[ Info:     29  -4.3e-01   6.1e+10   6.7e-05   1.0e+15   7.4e+10     659         max_eval         update_y\n",
      "[ Info:     30  -4.3e-01   6.1e+10   6.7e-05   1.0e+16   7.4e+10     664         max_eval         update_μ\n",
      "[ Info:     31  -4.3e-01   6.1e+11   6.7e-05   1.0e+16   7.4e+11     669         max_eval         update_y\n",
      "[ Info:     32  -4.3e-01   6.1e+11   6.7e-05   1.0e+17   7.4e+11     674         max_eval         update_μ\n",
      "[ Info:   iter        fx    normgp    normcx         μ     normy    sumc     inner_status        iter_type  \n",
      "[ Info:      0  -4.3e-01   8.0e+01   4.5e+01   1.0e+01   8.0e+01       5\n",
      "[ Info:      1  -4.3e-01   8.0e+01   4.5e+01   1.0e+02   8.0e+01      10      first_order         update_μ\n",
      "[ Info:      2  -2.9e-01   8.1e+01   8.1e-01   1.0e+03   8.0e+01     479      first_order         update_μ\n",
      "[ Info:      3  -2.9e-01   6.9e+01   4.2e-01   1.0e+03   3.5e+02     550         max_eval         update_y\n",
      "[ Info:      4  -2.9e-01   6.9e+01   4.2e-01   1.0e+04   3.5e+02     555         max_eval         update_μ\n",
      "[ Info:      5  -2.9e-01   6.9e+01   4.2e-01   1.0e+05   3.5e+02     560         max_eval         update_μ\n",
      "[ Info:      6  -2.9e-01   6.9e+01   4.2e-01   1.0e+06   3.5e+02     565         max_eval         update_μ\n",
      "[ Info:      7  -2.9e-01   6.9e+01   4.2e-01   1.0e+07   3.5e+02     570         max_eval         update_μ\n",
      "[ Info:      8  -2.9e-01   6.9e+01   4.2e-01   1.0e+08   3.5e+02     575         max_eval         update_μ\n",
      "[ Info:      9  -2.9e-01   6.9e+01   4.2e-01   1.0e+09   3.5e+02     580         max_eval         update_μ\n",
      "[ Info:     10  -2.9e-01   6.9e+01   4.2e-01   1.0e+10   3.5e+02     585         max_eval         update_μ\n",
      "[ Info:     11  -2.9e-01   6.9e+01   4.2e-01   1.0e+11   3.5e+02     590         max_eval         update_μ\n",
      "[ Info:     12  -2.9e-01   6.9e+01   4.2e-01   1.0e+12   3.5e+02     595         max_eval         update_μ\n",
      "[ Info:     13  -2.9e-01   6.9e+01   4.2e-01   1.0e+13   3.5e+02     600         max_eval         update_μ\n",
      "[ Info:     14  -2.9e-01   6.9e+01   4.2e-01   1.0e+14   3.5e+02     605         max_eval         update_μ\n",
      "[ Info:     15  -2.9e-01   6.9e+01   4.2e-01   1.0e+15   3.5e+02     610         max_eval         update_μ\n",
      "[ Info:     16  -3.0e-01   6.9e+01   4.2e-01   1.0e+16   3.5e+02     615         max_eval         update_μ\n",
      "[ Info:     17  -3.8e-01   6.9e+01   4.2e-01   1.0e+17   3.5e+02     620         max_eval         update_μ\n",
      "[ Info:   iter        fx    normgp    normcx         μ     normy    sumc     inner_status        iter_type  \n",
      "[ Info:      0  -2.9e-01   8.1e+01   1.1e+02   1.0e+01   8.0e+01       5\n",
      "[ Info:      1  -2.9e-01   8.1e+01   1.1e+02   1.0e+02   8.0e+01      10      first_order         update_μ\n",
      "[ Info:      2   5.4e-02   8.1e+01   8.2e-01   1.0e+03   8.0e+01     314      first_order         update_μ\n",
      "[ Info:      3  -1.1e-03   2.8e+01   1.5e-01   1.0e+03   1.3e+02     548         max_eval         update_y\n",
      "[ Info:      4   5.5e-02   2.8e+01   1.5e-01   1.0e+04   1.3e+02     553         max_eval         update_μ\n",
      "[ Info:      5   5.5e-02   1.7e+02   1.5e-01   1.0e+04   1.6e+03     558         max_eval         update_y\n",
      "[ Info:      6   5.5e-02   1.7e+02   1.5e-01   1.0e+05   1.6e+03     563         max_eval         update_μ\n",
      "[ Info:      7   5.5e-02   1.7e+03   1.5e-01   1.0e+05   1.7e+04     568         max_eval         update_y\n",
      "[ Info:      8   5.5e-02   1.7e+03   1.5e-01   1.0e+06   1.7e+04     573         max_eval         update_μ\n",
      "[ Info:      9   5.5e-02   1.7e+04   1.5e-01   1.0e+06   1.7e+05     578         max_eval         update_y\n",
      "[ Info:     10   5.5e-02   1.7e+04   1.5e-01   1.0e+07   1.7e+05     583         max_eval         update_μ\n",
      "[ Info:     11   5.5e-02   1.7e+05   1.5e-01   1.0e+07   1.7e+06     588         max_eval         update_y\n",
      "[ Info:     12   5.5e-02   1.7e+05   1.5e-01   1.0e+08   1.7e+06     593         max_eval         update_μ\n",
      "[ Info:     13   5.5e-02   1.7e+06   1.5e-01   1.0e+08   1.7e+07     598         max_eval         update_y\n",
      "[ Info:     14   5.5e-02   1.7e+06   1.5e-01   1.0e+09   1.7e+07     603         max_eval         update_μ\n",
      "[ Info:     15   5.5e-02   1.7e+06   1.5e-01   1.0e+10   1.7e+07     608         max_eval         update_μ\n",
      "[ Info:     16   5.5e-02   1.7e+06   1.5e-01   1.0e+11   1.7e+07     613         max_eval         update_μ\n",
      "[ Info:     17   5.5e-02   1.7e+06   1.5e-01   1.0e+12   1.7e+07     618         max_eval         update_μ\n",
      "[ Info:     18   5.5e-02   1.7e+06   1.5e-01   1.0e+13   1.7e+07     623         max_eval         update_μ\n",
      "[ Info:     19   5.5e-02   1.7e+06   1.5e-01   1.0e+14   1.7e+07     628         max_eval         update_μ\n",
      "[ Info:     20   5.5e-02   1.7e+06   1.5e-01   1.0e+15   1.7e+07     633         max_eval         update_μ\n",
      "[ Info:     21   5.5e-02   1.7e+06   1.5e-01   1.0e+16   1.7e+07     638         max_eval         update_μ\n",
      "[ Info:     22   6.2e-02   1.7e+06   1.5e-01   1.0e+17   1.7e+07     643         max_eval         update_μ\n"
     ]
    },
    {
     "output_type": "execute_result",
     "data": {
      "text/plain": "18.4858935299995"
     },
     "metadata": {},
     "execution_count": 4
    }
   ],
   "cell_type": "code",
   "source": [
    "x0 = fill(1.0, 160 * 40) # initial design\n",
    "x = copy(x0)\n",
    "for p in [1.0, 2.0, 3.0]\n",
    "    global penalty, stress, filter, result, stress, x\n",
    "    penalty = TopOpt.PowerPenalty(p)\n",
    "    solver = FEASolver(Direct, problem; xmin=xmin, penalty=penalty)\n",
    "    stress = TopOpt.MicroVonMisesStress(solver)\n",
    "    filter = DensityFilter(solver; rmin=rmin)\n",
    "    volfrac = TopOpt.Volume(problem, solver)\n",
    "\n",
    "    obj = x -> volfrac(filter(x)) - V\n",
    "    thr = 10 # stress threshold\n",
    "    constr = x -> begin\n",
    "        s = stress(filter(x))\n",
    "        vcat((s .- thr) / 100, logsumexp(s) - log(length(s)) - thr)\n",
    "    end\n",
    "    alg = PercivalAlg()\n",
    "    options = PercivalOptions()\n",
    "    optimizer = Optimizer(obj, constr, x, alg; options=options)\n",
    "    simp = SIMP(optimizer, solver, p)\n",
    "    result = simp(x)\n",
    "    x = result.topology\n",
    "end\n",
    "\n",
    "maximum(stress(filter(x0))) # 0.51\n",
    "maximum(stress(filter(x))) # 10.01"
   ],
   "metadata": {},
   "execution_count": 4
  },
  {
   "cell_type": "markdown",
   "source": [
    "### (Optional) Visualize the result using Makie.jl\n",
    "Need to run `using Pkg; Pkg.add(Makie)` first\n",
    "```julia\n",
    "using Makie\n",
    "using TopOpt.TopOptProblems.Visualization: visualize\n",
    "fig = visualize(\n",
    "   problem; topology = penalty.(filter(result.topology)), default_exagg_scale = 0.07,\n",
    "   scale_range = 10.0, vector_linewidth = 3, vector_arrowsize = 0.5,\n",
    ")\n",
    "Makie.display(fig)\n",
    "```"
   ],
   "metadata": {}
  },
  {
   "cell_type": "markdown",
   "source": [
    "---\n",
    "\n",
    "*This notebook was generated using [Literate.jl](https://github.com/fredrikekre/Literate.jl).*"
   ],
   "metadata": {}
  }
 ],
 "nbformat_minor": 3,
 "metadata": {
  "language_info": {
   "file_extension": ".jl",
   "mimetype": "application/julia",
   "name": "julia",
   "version": "1.7.1"
  },
  "kernelspec": {
   "name": "julia-1.7",
   "display_name": "Julia 1.7.1",
   "language": "julia"
  }
 },
 "nbformat": 4
}
