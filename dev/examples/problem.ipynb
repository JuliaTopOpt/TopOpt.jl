{
 "cells": [
  {
   "cell_type": "markdown",
   "source": [
    "# Problem domain definition"
   ],
   "metadata": {}
  },
  {
   "cell_type": "markdown",
   "source": [
    "In this section, the syntax to construct multiple problem types will be shown. In `TopOpt.jl`, there are a number of standard topology optimization problem domains that can be defined using a few lines of code. This is for the convenience of testing and comparing algorithms and formulations on standard testing problems."
   ],
   "metadata": {}
  },
  {
   "cell_type": "markdown",
   "source": [
    "## Continuum problems\n",
    "### 2D and 3D point load cantilever beam"
   ],
   "metadata": {}
  },
  {
   "cell_type": "markdown",
   "source": [
    "![cantilever](https://user-images.githubusercontent.com/19524993/165186251-f26e9dbc-a224-4fa0-b0c6-d0210a00d426.jpg)"
   ],
   "metadata": {}
  },
  {
   "cell_type": "markdown",
   "source": [
    "In this problem, the domain is divided into equally sized rectangular, quadrilateral elements. The number of elements (`nels`) and element sizes (`elsizes`) can be used to control the resolution of the problem's domain as well as its dimension. For instance, using `nels = (160, 40)` and `elsizes = (1.0, 1.0)` constructs a 2D problem domain of size 160 mm x 40 mm problem domain where each element is 1 mm x 1 mm. While `nels = (160, 40, 40)` and `elsizes = (1.0, 1.0, 2.0)` constructs a 3D problem domain of size 160 mm x 40 mm x 40 mm where each element is 1 mm x 1 mm x 2 mm."
   ],
   "metadata": {}
  },
  {
   "cell_type": "markdown",
   "source": [
    "Additionally, the Young’s modulus, Poisson’s ratio and downward force magnitude. Finally, the order of the geometric and field shape functions can be specified using either `:Linear` or `:Quadratic` as shown below."
   ],
   "metadata": {}
  },
  {
   "outputs": [
    {
     "output_type": "execute_result",
     "data": {
      "text/plain": ""
     },
     "metadata": {},
     "execution_count": 1
    }
   ],
   "cell_type": "code",
   "source": [
    "using TopOpt\n",
    "\n",
    "E = 1.0 # Young’s modulus in MPa\n",
    "ν = 0.3 # Poisson’s ratio\n",
    "f = 1.0 # downward force in N - negative is upward\n",
    "nels = (160, 40) # number of elements\n",
    "elsizes = (1.0, 1.0) # the size of each element in mm\n",
    "order = :Linear # shape function order\n",
    "problem = PointLoadCantilever(Val{order}, nels, elsizes, E, ν, f)"
   ],
   "metadata": {},
   "execution_count": 1
  },
  {
   "cell_type": "markdown",
   "source": [
    "### 2D and 3D half Messerschmitt–Bolkow–Blohm (MBB) beam problem"
   ],
   "metadata": {}
  },
  {
   "cell_type": "markdown",
   "source": [
    "![halfmbb](https://user-images.githubusercontent.com/19524993/165186211-3bfe26d8-82c9-4ae4-a37d-baa03d19b47c.jpg)"
   ],
   "metadata": {}
  },
  {
   "cell_type": "markdown",
   "source": [
    "A similar problem type exists for the well known half MBB problem shown above. The constructor and parameters are similar to that of the point load cantilever beam. Also 2D and 3D variants exist by changing the lengths of `nels` and `elsizes`."
   ],
   "metadata": {}
  },
  {
   "outputs": [
    {
     "output_type": "execute_result",
     "data": {
      "text/plain": ""
     },
     "metadata": {},
     "execution_count": 2
    }
   ],
   "cell_type": "code",
   "source": [
    "E = 1.0 # Young’s modulus in MPa\n",
    "ν = 0.3 # Poisson’s ratio\n",
    "f = 1.0 # downward force in N - negative is upward\n",
    "nels = (60, 20) # number of elements\n",
    "elsizes = (1.0, 1.0) # the size of each element in mm\n",
    "order = :Quadratic # shape function order\n",
    "problem = HalfMBB(Val{order}, nels, elsizes, E, ν, f)"
   ],
   "metadata": {},
   "execution_count": 2
  },
  {
   "cell_type": "markdown",
   "source": [
    "### 2D L-beam problem"
   ],
   "metadata": {}
  },
  {
   "cell_type": "markdown",
   "source": [
    "![lbeam](https://user-images.githubusercontent.com/19524993/165194043-e2f1b4f2-940a-478d-ac94-4399e1524a81.jpg)"
   ],
   "metadata": {}
  },
  {
   "cell_type": "markdown",
   "source": [
    "The L-beam is another well known testing problem in topology optimization available in `TopOpt.jl`. To construct an L-beam problem, you can use the following constructor. The L-beam problem is only a 2D problem."
   ],
   "metadata": {}
  },
  {
   "outputs": [
    {
     "output_type": "execute_result",
     "data": {
      "text/plain": ""
     },
     "metadata": {},
     "execution_count": 3
    }
   ],
   "cell_type": "code",
   "source": [
    "E = 1.0 # Young’s modulus in MPa\n",
    "ν = 0.3 # Poisson’s ratio\n",
    "f = 1.0 # downward force in N - negative is upward\n",
    "order = :Quadratic # shape function order\n",
    "problem = LBeam(\n",
    "    Val{order}; length=100, height=100, upperslab=50, lowerslab=50, E=1.0, ν=0.3, force=1.0\n",
    ")"
   ],
   "metadata": {},
   "execution_count": 3
  },
  {
   "cell_type": "markdown",
   "source": [
    "where `E`, `ν` and `force` are the Young's modulus, Poisson's ratio and downward force respectively. The definition of `length`, `height`, `upperslab` and `lowerslab` are shown below. Each element is assumed to be a 1 mm x 1 mm element. The load is always applied at the midpoint of the \"lowerslab\" side. A positive value for the force is downward and a negative value is upward."
   ],
   "metadata": {}
  },
  {
   "cell_type": "markdown",
   "source": [
    "```\n",
    "        upperslab\n",
    "       ............\n",
    "       .          .\n",
    "       .          .\n",
    "       .          .\n",
    "height .          .\n",
    "       .          ......................\n",
    "       .                               .\n",
    "       .                               . lowerslab\n",
    "       .                               .\n",
    "       .................................\n",
    "                    length"
   ],
   "metadata": {}
  },
  {
   "cell_type": "markdown",
   "source": [
    "```"
   ],
   "metadata": {}
  },
  {
   "cell_type": "markdown",
   "source": [
    "### 2D tie-beam problem"
   ],
   "metadata": {}
  },
  {
   "cell_type": "markdown",
   "source": [
    "![tiebeam](https://user-images.githubusercontent.com/19524993/165222174-927bfb06-ee6a-4eb0-b1df-4a32aa1474d5.png)"
   ],
   "metadata": {}
  },
  {
   "cell_type": "markdown",
   "source": [
    "The tie-beam problem shown above is a well-known problem in topology optimization literature. A distributed load of 1 N/mm is applied on the elements specified in the figure. To construct an instance of the tie-beam problem for a certain order of shape functions, you can use:"
   ],
   "metadata": {}
  },
  {
   "outputs": [
    {
     "output_type": "execute_result",
     "data": {
      "text/plain": ""
     },
     "metadata": {},
     "execution_count": 4
    }
   ],
   "cell_type": "code",
   "source": [
    "order = :Quadratic # shape function order\n",
    "problem = TieBeam(Val{order})"
   ],
   "metadata": {},
   "execution_count": 4
  },
  {
   "cell_type": "markdown",
   "source": [
    "The tie-beam problem only exists as a 2D problem."
   ],
   "metadata": {}
  },
  {
   "cell_type": "markdown",
   "source": [
    "### Reading INP files"
   ],
   "metadata": {}
  },
  {
   "cell_type": "markdown",
   "source": [
    "Instead of defining a problem type programmatically, one can also use CAD/CAE software to define a 2D/3D problem domain using a graphical user interface and then export a .inp file from the CAD/CAE software. The .inp file can then be read into TopOpt.jl using:"
   ],
   "metadata": {}
  },
  {
   "outputs": [],
   "cell_type": "code",
   "source": [
    "filename = \"../data/problem.inp\" # path to inp file\n",
    "problem = InpStiffness(filename);"
   ],
   "metadata": {},
   "execution_count": 5
  },
  {
   "cell_type": "markdown",
   "source": [
    "For example, the following problem with fixed load, distributed loads and tetrahedral elements was defined usign FreeCAD and imported into TopOpt.jl to perform topology optimization. More information on how to specify the supports and loads in FreeCAD can be found in the webpage of FreeCAD's [FEM Workbench](https://wiki.freecad.org/FEM_Workbench)."
   ],
   "metadata": {}
  },
  {
   "cell_type": "markdown",
   "source": [
    "![inpfile](https://user-images.githubusercontent.com/19524993/165223774-2705347e-369f-463e-80f5-4e30093251c1.PNG)"
   ],
   "metadata": {}
  },
  {
   "cell_type": "markdown",
   "source": [
    "## Truss problems\n",
    "### 2D and 3D truss problem from json file"
   ],
   "metadata": {}
  },
  {
   "cell_type": "markdown",
   "source": [
    "Data for constructing a 2D/3D truss problems can be imported from a json file:"
   ],
   "metadata": {}
  },
  {
   "outputs": [],
   "cell_type": "code",
   "source": [
    "path_to_file = \"../data/tim_2d.json\" # path to json file\n",
    "mats = TrussFEAMaterial(10.0, 0.3) # Young’s modulus and Poisson’s ratio\n",
    "crossecs = TrussFEACrossSec(800.0) # Cross-sectional area\n",
    "node_points, elements, _, _, fixities, load_cases = load_truss_json(path_to_file)\n",
    "loads = load_cases[\"0\"]\n",
    "problem = TrussProblem(Val{:Linear}, node_points, elements, loads, fixities, mats, crossecs);"
   ],
   "metadata": {},
   "execution_count": 6
  },
  {
   "cell_type": "markdown",
   "source": [
    "The structure of the JSON file can be parsed to a dictionary using the code below."
   ],
   "metadata": {}
  },
  {
   "outputs": [
    {
     "output_type": "execute_result",
     "data": {
      "text/plain": "Dict{String, Any} with 15 entries:\n  \"node_num\"      => 19\n  \"elements\"      => Any[Dict{String, Any}(\"end_node_inds\"=>Any[0, 2], \"elem_ta…\n  \"materials\"     => Any[Dict{String, Any}(\"family\"=>\"DummyMaterial\", \"E_unit\"=…\n  \"loadcases\"     => Dict{String, Any}(\"1\"=>Dict{String, Any}(\"lc_ind\"=>1, \"plo…\n  \"cross_secs\"    => Any[Dict{String, Any}(\"name\"=>\"\", \"A\"=>1.0, \"family\"=>\"Dum…\n  \"element_num\"   => 42\n  \"supports\"      => Any[Dict{String, Any}(\"condition\"=>Any[1, 1], \"node_ind\"=>…\n  \"_info\"         => \"TTObuckling example used in PENLAB.\"\n  \"TO_model_type\" => \"ground_mesh\"\n  \"dimension\"     => 2\n  \"nodes\"         => Any[Dict{String, Any}(\"point\"=>Any[0, 0], \"node_ind\"=>0), …\n  \"unit\"          => \"meter\"\n  \"generate_time\" => \"05/21/2019 07:40:59\"\n  \"model_name\"    => \"tim\"\n  \"model_type\"    => \"truss\""
     },
     "metadata": {},
     "execution_count": 7
    }
   ],
   "cell_type": "code",
   "source": [
    "using JSON\n",
    "f = JSON.parsefile(path_to_file)"
   ],
   "metadata": {},
   "execution_count": 7
  },
  {
   "cell_type": "markdown",
   "source": [
    "The JSON file contains important information for nodal geometry, element connectivity, supports, materials, and cross sections,\n",
    "where every key is a string, and the corresponding value can be a single number, dictionary of values, or a list of dictionary.\n",
    "\n",
    "⚠️ Be careful that unlike the normal one-indexed convention used in Julia, **all the index information in the JSON file starts from ZERO**.\n",
    "This is just a choice out of convenience, because some of the developers use python in their CAD software to generate these JSONs."
   ],
   "metadata": {}
  },
  {
   "cell_type": "markdown",
   "source": [
    "The MUST-HAVE key-value pairs of the JSON are:\n",
    "```\n",
    "  \"dimension\"     : model dimension (2 or 3)\n",
    "  \"node_num\"      : total number of nodes (::Int)\n",
    "  \"element_num    : total number of elements (::Int)\n",
    "  \"nodes\" : a list of dictionaries, where each dict is structured as followed\n",
    "          {\n",
    "              \"node_ind\" : index of a node, starts from 0.\n",
    "              \"points\" : a list of x,y,z coordinate of the node (Float)\n",
    "                  [x , y , z] (or [x, y] if dimension=2)\n",
    "          }\n",
    "  \"elements\" : a list of dictionaries, where each dict is structured as followed\n",
    "          {\n",
    "              \"end_node_inds\" : [\n",
    "                    start node index, end node index in Int (zero-indexed!)\n",
    "                 ],\n",
    "              \"elem_tag\" : tag of your element in string to link\n",
    "                  to its corresponding material and cross section, e.g. `steel_set1`\n",
    "          }\n",
    "  \"supports\" : a list of dictionaries, where each dict is structured as followed\n",
    "         {\n",
    "          \"node_ind\": 0,\n",
    "          \"condition\": a boolean list marking the fixed dofs, [tx,ty] for 2D,\n",
    "             [tx,ty,tz] for 3D\n",
    "          }\n",
    "  \"loadcases\" : a dictionary of load cases that maps a load case index to a dictionary\n",
    "          { \"0\":\n",
    "              {\n",
    "                \"lc_ind\" : 0,  #(same as the load case index 0)\n",
    "                \"ploads\" : [#a list of dictionaries for each load\n",
    "                        {\n",
    "                            \"node_ind\" : node index where the point load is applied\n",
    "                            \"force\" : a list of force magitude along x y z axis\n",
    "                                    [x,y,z] (or [x,y] for 2D)\n",
    "                            \"loadcase\" : 0  (same as lc_ind)\n",
    "                        }\n",
    "              }\n",
    "          }\n",
    "  \"materials\" : a list of dictionaries, where each dict is structured as followed\n",
    "        {\n",
    "         \"name\": material name in string,\n",
    "         \"elem_tags\": a list of element tags to which the material is applied, e.g. `steel_set1`,\n",
    "         \"E\": Young's modulus\n",
    "         \"G12\": in-plane shear modulus, not used for truss models now\n",
    "         \"density\": material density, not used now\n",
    "        }\n",
    "  \"cross_secs\" : a list of dictionaries, where each dict is structured as followed\n",
    "        {\n",
    "         \"name\": cross section name in string,\n",
    "         \"elem_tags\": [],\n",
    "         \"A\": 1.0, # cross section area\n",
    "        }\n",
    "```\n",
    "When parsed by the `load_truss_json` function, materials and cross sections with `element_tags = []`\n",
    "will be treated as the fallback material or cross section for elements with an empty `elem_tag` (`\"\"`)"
   ],
   "metadata": {}
  },
  {
   "cell_type": "markdown",
   "source": [
    "The following entries are optional for providing additional information about the model:\n",
    "```\n",
    "  \"unit\"          : \"meter\"\n",
    "  \"model_type\"    : \"truss\"\n",
    "  \"generate_time\" :  generated date-time in string\n",
    "  \"TO_model_type\" : \"ground_mesh\"\n",
    "  \"model_name\"    : \"NameOfYourModel\"\n",
    "  \"_info\"         : \"AdditionalInfo\"\n",
    "```"
   ],
   "metadata": {}
  },
  {
   "cell_type": "markdown",
   "source": [
    "### 2D and 3D truss point load cantilever beam"
   ],
   "metadata": {}
  },
  {
   "cell_type": "markdown",
   "source": [
    "![truss_cantilever](https://user-images.githubusercontent.com/19524993/165228327-def94c04-6505-4f13-afea-4f28a370380e.png)"
   ],
   "metadata": {}
  },
  {
   "cell_type": "markdown",
   "source": [
    "Much like the continuum 2D/3D point load cantilever beam, you can also create a 2D/3D truss-based cantilever beam with a point load as shown above using the following syntax."
   ],
   "metadata": {}
  },
  {
   "outputs": [],
   "cell_type": "code",
   "source": [
    "E = 1.0 # Young’s modulus in MPa\n",
    "ν = 0.3 # Poisson’s ratio\n",
    "nels = (60, 20) # number of boundary trusses\n",
    "elsizes = (1.0, 1.0) # the length of each boundary truss in mm\n",
    "force = 1.0 # upward force in N - negative is downward\n",
    "problem = PointLoadCantileverTruss(nels, elsizes, E, ν, force; k_connect=1);"
   ],
   "metadata": {},
   "execution_count": 8
  },
  {
   "cell_type": "markdown",
   "source": [
    "`nels`, `elsizes`, `E` and `ν` have an analagous intepretation to the continuum cantilever beam. `force` is the upward concentrated force in Newton (downward is negative). `k_connect` is the k-ring of each node defining the connectivity of the nodes in the graph, default is 1. For a 2D domain, a node will be connected to `8` neighboring nodes if `k_connect = 1`, and `8 + 16 = 24` neighboring nodes if `k_connect = 2`."
   ],
   "metadata": {}
  },
  {
   "cell_type": "markdown",
   "source": [
    "---\n",
    "\n",
    "*This notebook was generated using [Literate.jl](https://github.com/fredrikekre/Literate.jl).*"
   ],
   "metadata": {}
  }
 ],
 "nbformat_minor": 3,
 "metadata": {
  "language_info": {
   "file_extension": ".jl",
   "mimetype": "application/julia",
   "name": "julia",
   "version": "1.10.2"
  },
  "kernelspec": {
   "name": "julia-1.10",
   "display_name": "Julia 1.10.2",
   "language": "julia"
  }
 },
 "nbformat": 4
}
