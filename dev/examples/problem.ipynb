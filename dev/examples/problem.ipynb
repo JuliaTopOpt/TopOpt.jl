{
 "cells": [
  {
   "cell_type": "markdown",
   "source": [
    "# Problem domain definition"
   ],
   "metadata": {}
  },
  {
   "cell_type": "markdown",
   "source": [
    "In this section, the syntax to construct multiple problem types will be shown. In `TopOpt.jl`, there are a number of standard topology optimization problem domains that can be defined using a few lines of code. This is for the convenience of testing and comparing algorithms and formulations on standard testing problems."
   ],
   "metadata": {}
  },
  {
   "cell_type": "markdown",
   "source": [
    "## Continuum problems\n",
    "### 2D and 3D point load cantilever beam"
   ],
   "metadata": {}
  },
  {
   "cell_type": "markdown",
   "source": [
    "![cantilever](https://user-images.githubusercontent.com/19524993/165186251-f26e9dbc-a224-4fa0-b0c6-d0210a00d426.jpg)"
   ],
   "metadata": {}
  },
  {
   "cell_type": "markdown",
   "source": [
    "In this problem, the domain is divided into equally sized rectangular, quadrilateral elements. The number of elements (`nels`) and element sizes (`elsizes`) can be used to control the resolution of the problem's domain as well as its dimension. For instance, using `nels = (160, 40)` and `elsizes = (1.0, 1.0)` constructs a 2D problem domain of size 160 mm x 40 mm problem domain where each element is 1 mm x 1 mm. While `nels = (160, 40, 40)` and `elsizes = (1.0, 1.0, 2.0)` constructs a 3D problem domain of size 160 mm x 40 mm x 40 mm where each element is 1 mm x 1 mm x 2 mm."
   ],
   "metadata": {}
  },
  {
   "cell_type": "markdown",
   "source": [
    "Additionally, the Young’s modulus, Poisson’s ratio and downward force magnitude. Finally, the order of the geometric and field shape functions can be specified using either `:Linear` or `:Quadratic` as shown below."
   ],
   "metadata": {}
  },
  {
   "outputs": [
    {
     "output_type": "execute_result",
     "data": {
      "text/plain": ""
     },
     "metadata": {},
     "execution_count": 1
    }
   ],
   "cell_type": "code",
   "source": [
    "using TopOpt\n",
    "\n",
    "E = 1.0 # Young’s modulus in MPa\n",
    "ν = 0.3 # Poisson’s ratio\n",
    "f = 1.0 # downward force in N - negative is upward\n",
    "nels = (160, 40) # number of elements\n",
    "elsizes = (1.0, 1.0) # the size of each element in mm\n",
    "order = :Linear # shape function order\n",
    "problem = PointLoadCantilever(Val{order}, nels, elsizes, E, ν, f)"
   ],
   "metadata": {},
   "execution_count": 1
  },
  {
   "cell_type": "markdown",
   "source": [
    "### 2D and 3D half Messerschmitt–Bolkow–Blohm (MBB) beam problem"
   ],
   "metadata": {}
  },
  {
   "cell_type": "markdown",
   "source": [
    "![halfmbb](https://user-images.githubusercontent.com/19524993/165186211-3bfe26d8-82c9-4ae4-a37d-baa03d19b47c.jpg)"
   ],
   "metadata": {}
  },
  {
   "cell_type": "markdown",
   "source": [
    "A similar problem type exists for the well known half MBB problem shown above. The constructor and parameters are similar to that of the point load cantilever beam. Also 2D and 3D variants exist by changing the lengths of `nels` and `elsizes`."
   ],
   "metadata": {}
  },
  {
   "outputs": [
    {
     "output_type": "execute_result",
     "data": {
      "text/plain": ""
     },
     "metadata": {},
     "execution_count": 2
    }
   ],
   "cell_type": "code",
   "source": [
    "E = 1.0 # Young’s modulus in MPa\n",
    "ν = 0.3 # Poisson’s ratio\n",
    "f = 1.0 # downward force in N - negative is upward\n",
    "nels = (60, 20) # number of elements\n",
    "elsizes = (1.0, 1.0) # the size of each element in mm\n",
    "order = :Quadratic # shape function order\n",
    "problem = HalfMBB(Val{order}, nels, elsizes, E, ν, f)"
   ],
   "metadata": {},
   "execution_count": 2
  },
  {
   "cell_type": "markdown",
   "source": [
    "### 2D L-beam problem"
   ],
   "metadata": {}
  },
  {
   "cell_type": "markdown",
   "source": [
    "![lbeam](https://user-images.githubusercontent.com/19524993/165194043-e2f1b4f2-940a-478d-ac94-4399e1524a81.jpg)"
   ],
   "metadata": {}
  },
  {
   "cell_type": "markdown",
   "source": [
    "The L-beam is another well known testing problem in topology optimization available in `TopOpt.jl`. To construct an L-beam problem, you can use the following constructor. The L-beam problem is only a 2D problem."
   ],
   "metadata": {}
  },
  {
   "outputs": [
    {
     "output_type": "execute_result",
     "data": {
      "text/plain": ""
     },
     "metadata": {},
     "execution_count": 3
    }
   ],
   "cell_type": "code",
   "source": [
    "E = 1.0 # Young’s modulus in MPa\n",
    "ν = 0.3 # Poisson’s ratio\n",
    "f = 1.0 # downward force in N - negative is upward\n",
    "order = :Quadratic # shape function order\n",
    "problem = LBeam(\n",
    "    Val{order}; length=100, height=100, upperslab=50, lowerslab=50, E=1.0, ν=0.3, force=1.0\n",
    ")"
   ],
   "metadata": {},
   "execution_count": 3
  },
  {
   "cell_type": "markdown",
   "source": [
    "where `E`, `ν` and `force` are the Young's modulus, Poisson's ratio and downward force respectively. The definition of `length`, `height`, `upperslab` and `lowerslab` are shown below. Each element is assumed to be a 1 mm x 1 mm element. The load is always applied at the midpoint of the \"lowerslab\" side. A positive value for the force is downward and a negative value is upward."
   ],
   "metadata": {}
  },
  {
   "cell_type": "markdown",
   "source": [
    "```\n",
    "        upperslab\n",
    "       ............\n",
    "       .          .\n",
    "       .          .\n",
    "       .          .\n",
    "height .          .\n",
    "       .          ......................\n",
    "       .                               .\n",
    "       .                               . lowerslab\n",
    "       .                               .\n",
    "       .................................\n",
    "                    length"
   ],
   "metadata": {}
  },
  {
   "cell_type": "markdown",
   "source": [
    "```"
   ],
   "metadata": {}
  },
  {
   "cell_type": "markdown",
   "source": [
    "### 2D tie-beam problem"
   ],
   "metadata": {}
  },
  {
   "cell_type": "markdown",
   "source": [
    "![tiebeam](https://user-images.githubusercontent.com/19524993/165222174-927bfb06-ee6a-4eb0-b1df-4a32aa1474d5.png)"
   ],
   "metadata": {}
  },
  {
   "cell_type": "markdown",
   "source": [
    "The tie-beam problem shown above is a well-known problem in topology optimization literature. A distributed load of 1 N/mm is applied on the elements specified in the figure. To construct an instance of the tie-beam problem for a certain order of shape functions, you can use:"
   ],
   "metadata": {}
  },
  {
   "outputs": [
    {
     "output_type": "execute_result",
     "data": {
      "text/plain": ""
     },
     "metadata": {},
     "execution_count": 4
    }
   ],
   "cell_type": "code",
   "source": [
    "order = :Quadratic # shape function order\n",
    "problem = TieBeam(Val{order})"
   ],
   "metadata": {},
   "execution_count": 4
  },
  {
   "cell_type": "markdown",
   "source": [
    "The tie-beam problem only exists as a 2D problem."
   ],
   "metadata": {}
  },
  {
   "cell_type": "markdown",
   "source": [
    "### Reading INP files"
   ],
   "metadata": {}
  },
  {
   "cell_type": "markdown",
   "source": [
    "Instead of defining a problem type programmatically, one can also use CAD/CAE software to define a 2D/3D problem domain using a graphical user interface and then export a .inp file from the CAD/CAE software. The .inp file can then be read into TopOpt.jl using:"
   ],
   "metadata": {}
  },
  {
   "outputs": [],
   "cell_type": "code",
   "source": [
    "filename = \"../data/problem.inp\" # path to inp file\n",
    "problem = InpStiffness(filename);"
   ],
   "metadata": {},
   "execution_count": 5
  },
  {
   "cell_type": "markdown",
   "source": [
    "For example, the following problem with fixed load, distributed loads and tetrahedral elements was defined usign FreeCAD and imported into TopOpt.jl to perform topology optimization."
   ],
   "metadata": {}
  },
  {
   "cell_type": "markdown",
   "source": [
    "![inpfile](https://user-images.githubusercontent.com/19524993/165223774-2705347e-369f-463e-80f5-4e30093251c1.PNG)"
   ],
   "metadata": {}
  },
  {
   "cell_type": "markdown",
   "source": [
    "## Truss problems\n",
    "### 2D and 3D truss problem from json file"
   ],
   "metadata": {}
  },
  {
   "cell_type": "markdown",
   "source": [
    "2D/3D truss problems can be imported from json files describing the nodes, elements, fixities and loading as shown below."
   ],
   "metadata": {}
  },
  {
   "outputs": [],
   "cell_type": "code",
   "source": [
    "path_to_file = \"../data/tim_2d.json\" # path to json file\n",
    "mats = TrussFEAMaterial(10.0, 0.3) # Young’s modulus and Poisson’s ratio\n",
    "crossecs = TrussFEACrossSec(800.0) # Cross-sectional area\n",
    "node_points, elements, _, _, fixities, load_cases = load_truss_json(path_to_file)\n",
    "loads = load_cases[\"0\"]\n",
    "problem = TrussProblem(Val{:Linear}, node_points, elements, loads, fixities, mats, crossecs);"
   ],
   "metadata": {},
   "execution_count": 6
  },
  {
   "cell_type": "markdown",
   "source": [
    "The structure of the JSON file can be displayed using the code below, where `f` is a Julia dictionary."
   ],
   "metadata": {}
  },
  {
   "outputs": [
    {
     "name": "stdout",
     "output_type": "stream",
     "text": [
      "{\n",
      "  \"node_num\": 19,\n",
      "  \"elements\": [\n",
      "    {\n",
      "      \"end_node_inds\": [\n",
      "        0,\n",
      "        2\n",
      "      ],\n",
      "      \"elem_tag\": \"\"\n",
      "    },\n",
      "    {\n",
      "      \"end_node_inds\": [\n",
      "        0,\n",
      "        3\n",
      "      ],\n",
      "      \"elem_tag\": \"\"\n",
      "    },\n",
      "    {\n",
      "      \"end_node_inds\": [\n",
      "        2,\n",
      "        3\n",
      "      ],\n",
      "      \"elem_tag\": \"\"\n",
      "    },\n",
      "    {\n",
      "      \"end_node_inds\": [\n",
      "        2,\n",
      "        1\n",
      "      ],\n",
      "      \"elem_tag\": \"\"\n",
      "    },\n",
      "    {\n",
      "      \"end_node_inds\": [\n",
      "        2,\n",
      "        4\n",
      "      ],\n",
      "      \"elem_tag\": \"\"\n",
      "    },\n",
      "    {\n",
      "      \"end_node_inds\": [\n",
      "        2,\n",
      "        5\n",
      "      ],\n",
      "      \"elem_tag\": \"\"\n",
      "    },\n",
      "    {\n",
      "      \"end_node_inds\": [\n",
      "        4,\n",
      "        5\n",
      "      ],\n",
      "      \"elem_tag\": \"\"\n",
      "    },\n",
      "    {\n",
      "      \"end_node_inds\": [\n",
      "        4,\n",
      "        3\n",
      "      ],\n",
      "      \"elem_tag\": \"\"\n",
      "    },\n",
      "    {\n",
      "      \"end_node_inds\": [\n",
      "        4,\n",
      "        6\n",
      "      ],\n",
      "      \"elem_tag\": \"\"\n",
      "    },\n",
      "    {\n",
      "      \"end_node_inds\": [\n",
      "        4,\n",
      "        7\n",
      "      ],\n",
      "      \"elem_tag\": \"\"\n",
      "    },\n",
      "    {\n",
      "      \"end_node_inds\": [\n",
      "        6,\n",
      "        7\n",
      "      ],\n",
      "      \"elem_tag\": \"\"\n",
      "    },\n",
      "    {\n",
      "      \"end_node_inds\": [\n",
      "        6,\n",
      "        5\n",
      "      ],\n",
      "      \"elem_tag\": \"\"\n",
      "    },\n",
      "    {\n",
      "      \"end_node_inds\": [\n",
      "        6,\n",
      "        8\n",
      "      ],\n",
      "      \"elem_tag\": \"\"\n",
      "    },\n",
      "    {\n",
      "      \"end_node_inds\": [\n",
      "        6,\n",
      "        9\n",
      "      ],\n",
      "      \"elem_tag\": \"\"\n",
      "    },\n",
      "    {\n",
      "      \"end_node_inds\": [\n",
      "        8,\n",
      "        9\n",
      "      ],\n",
      "      \"elem_tag\": \"\"\n",
      "    },\n",
      "    {\n",
      "      \"end_node_inds\": [\n",
      "        8,\n",
      "        7\n",
      "      ],\n",
      "      \"elem_tag\": \"\"\n",
      "    },\n",
      "    {\n",
      "      \"end_node_inds\": [\n",
      "        8,\n",
      "        10\n",
      "      ],\n",
      "      \"elem_tag\": \"\"\n",
      "    },\n",
      "    {\n",
      "      \"end_node_inds\": [\n",
      "        8,\n",
      "        11\n",
      "      ],\n",
      "      \"elem_tag\": \"\"\n",
      "    },\n",
      "    {\n",
      "      \"end_node_inds\": [\n",
      "        10,\n",
      "        11\n",
      "      ],\n",
      "      \"elem_tag\": \"\"\n",
      "    },\n",
      "    {\n",
      "      \"end_node_inds\": [\n",
      "        10,\n",
      "        9\n",
      "      ],\n",
      "      \"elem_tag\": \"\"\n",
      "    },\n",
      "    {\n",
      "      \"end_node_inds\": [\n",
      "        10,\n",
      "        12\n",
      "      ],\n",
      "      \"elem_tag\": \"\"\n",
      "    },\n",
      "    {\n",
      "      \"end_node_inds\": [\n",
      "        10,\n",
      "        13\n",
      "      ],\n",
      "      \"elem_tag\": \"\"\n",
      "    },\n",
      "    {\n",
      "      \"end_node_inds\": [\n",
      "        12,\n",
      "        13\n",
      "      ],\n",
      "      \"elem_tag\": \"\"\n",
      "    },\n",
      "    {\n",
      "      \"end_node_inds\": [\n",
      "        12,\n",
      "        11\n",
      "      ],\n",
      "      \"elem_tag\": \"\"\n",
      "    },\n",
      "    {\n",
      "      \"end_node_inds\": [\n",
      "        12,\n",
      "        14\n",
      "      ],\n",
      "      \"elem_tag\": \"\"\n",
      "    },\n",
      "    {\n",
      "      \"end_node_inds\": [\n",
      "        12,\n",
      "        15\n",
      "      ],\n",
      "      \"elem_tag\": \"\"\n",
      "    },\n",
      "    {\n",
      "      \"end_node_inds\": [\n",
      "        14,\n",
      "        15\n",
      "      ],\n",
      "      \"elem_tag\": \"\"\n",
      "    },\n",
      "    {\n",
      "      \"end_node_inds\": [\n",
      "        14,\n",
      "        13\n",
      "      ],\n",
      "      \"elem_tag\": \"\"\n",
      "    },\n",
      "    {\n",
      "      \"end_node_inds\": [\n",
      "        14,\n",
      "        16\n",
      "      ],\n",
      "      \"elem_tag\": \"\"\n",
      "    },\n",
      "    {\n",
      "      \"end_node_inds\": [\n",
      "        14,\n",
      "        17\n",
      "      ],\n",
      "      \"elem_tag\": \"\"\n",
      "    },\n",
      "    {\n",
      "      \"end_node_inds\": [\n",
      "        16,\n",
      "        17\n",
      "      ],\n",
      "      \"elem_tag\": \"\"\n",
      "    },\n",
      "    {\n",
      "      \"end_node_inds\": [\n",
      "        16,\n",
      "        15\n",
      "      ],\n",
      "      \"elem_tag\": \"\"\n",
      "    },\n",
      "    {\n",
      "      \"end_node_inds\": [\n",
      "        16,\n",
      "        18\n",
      "      ],\n",
      "      \"elem_tag\": \"\"\n",
      "    },\n",
      "    {\n",
      "      \"end_node_inds\": [\n",
      "        18,\n",
      "        17\n",
      "      ],\n",
      "      \"elem_tag\": \"\"\n",
      "    },\n",
      "    {\n",
      "      \"end_node_inds\": [\n",
      "        1,\n",
      "        3\n",
      "      ],\n",
      "      \"elem_tag\": \"\"\n",
      "    },\n",
      "    {\n",
      "      \"end_node_inds\": [\n",
      "        3,\n",
      "        5\n",
      "      ],\n",
      "      \"elem_tag\": \"\"\n",
      "    },\n",
      "    {\n",
      "      \"end_node_inds\": [\n",
      "        5,\n",
      "        7\n",
      "      ],\n",
      "      \"elem_tag\": \"\"\n",
      "    },\n",
      "    {\n",
      "      \"end_node_inds\": [\n",
      "        7,\n",
      "        9\n",
      "      ],\n",
      "      \"elem_tag\": \"\"\n",
      "    },\n",
      "    {\n",
      "      \"end_node_inds\": [\n",
      "        9,\n",
      "        11\n",
      "      ],\n",
      "      \"elem_tag\": \"\"\n",
      "    },\n",
      "    {\n",
      "      \"end_node_inds\": [\n",
      "        11,\n",
      "        13\n",
      "      ],\n",
      "      \"elem_tag\": \"\"\n",
      "    },\n",
      "    {\n",
      "      \"end_node_inds\": [\n",
      "        13,\n",
      "        15\n",
      "      ],\n",
      "      \"elem_tag\": \"\"\n",
      "    },\n",
      "    {\n",
      "      \"end_node_inds\": [\n",
      "        15,\n",
      "        17\n",
      "      ],\n",
      "      \"elem_tag\": \"\"\n",
      "    }\n",
      "  ],\n",
      "  \"materials\": [\n",
      "    {\n",
      "      \"family\": \"DummyMaterial\",\n",
      "      \"E_unit\": \"kN/m2\",\n",
      "      \"elem_tags\": [],\n",
      "      \"name\": \"DummyMaterial\",\n",
      "      \"G12\": 8.076e7,\n",
      "      \"E\": 1.0,\n",
      "      \"type_name\": \"ISO\",\n",
      "      \"density\": 78.5,\n",
      "      \"density_unit\": \"kN/m3\",\n",
      "      \"fy_unit\": \"kN/m2\",\n",
      "      \"fy\": 235000.0,\n",
      "      \"G12_unit\": \"kN/m2\"\n",
      "    }\n",
      "  ],\n",
      "  \"loadcases\": {\n",
      "    \"1\": {\n",
      "      \"lc_ind\": 1,\n",
      "      \"ploads\": [\n",
      "        {\n",
      "          \"loadcase\": 1,\n",
      "          \"force\": [\n",
      "            0,\n",
      "            -1\n",
      "          ],\n",
      "          \"force_unit\": \"kN\",\n",
      "          \"node_ind\": 18\n",
      "        }\n",
      "      ]\n",
      "    },\n",
      "    \"0\": {\n",
      "      \"lc_ind\": 0,\n",
      "      \"ploads\": [\n",
      "        {\n",
      "          \"loadcase\": 0,\n",
      "          \"force\": [\n",
      "            -1,\n",
      "            0\n",
      "          ],\n",
      "          \"force_unit\": \"kN\",\n",
      "          \"node_ind\": 18\n",
      "        }\n",
      "      ]\n",
      "    }\n",
      "  },\n",
      "  \"cross_secs\": [\n",
      "    {\n",
      "      \"name\": \"\",\n",
      "      \"A\": 1.0,\n",
      "      \"family\": \"DummyCroSec\",\n",
      "      \"A_unit\": \"m2\",\n",
      "      \"elem_tags\": []\n",
      "    }\n",
      "  ],\n",
      "  \"element_num\": 42,\n",
      "  \"supports\": [\n",
      "    {\n",
      "      \"condition\": [\n",
      "        1,\n",
      "        1\n",
      "      ],\n",
      "      \"node_ind\": 0\n",
      "    },\n",
      "    {\n",
      "      \"condition\": [\n",
      "        1,\n",
      "        1\n",
      "      ],\n",
      "      \"node_ind\": 1\n",
      "    }\n",
      "  ],\n",
      "  \"_info\": \"TTObuckling example used in PENLAB.\",\n",
      "  \"TO_model_type\": \"ground_mesh\",\n",
      "  \"dimension\": 2,\n",
      "  \"nodes\": [\n",
      "    {\n",
      "      \"point\": [\n",
      "        0,\n",
      "        0\n",
      "      ],\n",
      "      \"node_ind\": 0\n",
      "    },\n",
      "    {\n",
      "      \"point\": [\n",
      "        0,\n",
      "        1\n",
      "      ],\n",
      "      \"node_ind\": 1\n",
      "    },\n",
      "    {\n",
      "      \"point\": [\n",
      "        1,\n",
      "        0\n",
      "      ],\n",
      "      \"node_ind\": 2\n",
      "    },\n",
      "    {\n",
      "      \"point\": [\n",
      "        1,\n",
      "        1\n",
      "      ],\n",
      "      \"node_ind\": 3\n",
      "    },\n",
      "    {\n",
      "      \"point\": [\n",
      "        2,\n",
      "        0\n",
      "      ],\n",
      "      \"node_ind\": 4\n",
      "    },\n",
      "    {\n",
      "      \"point\": [\n",
      "        2,\n",
      "        1\n",
      "      ],\n",
      "      \"node_ind\": 5\n",
      "    },\n",
      "    {\n",
      "      \"point\": [\n",
      "        3,\n",
      "        0\n",
      "      ],\n",
      "      \"node_ind\": 6\n",
      "    },\n",
      "    {\n",
      "      \"point\": [\n",
      "        3,\n",
      "        1\n",
      "      ],\n",
      "      \"node_ind\": 7\n",
      "    },\n",
      "    {\n",
      "      \"point\": [\n",
      "        4,\n",
      "        0\n",
      "      ],\n",
      "      \"node_ind\": 8\n",
      "    },\n",
      "    {\n",
      "      \"point\": [\n",
      "        4,\n",
      "        1\n",
      "      ],\n",
      "      \"node_ind\": 9\n",
      "    },\n",
      "    {\n",
      "      \"point\": [\n",
      "        5,\n",
      "        0\n",
      "      ],\n",
      "      \"node_ind\": 10\n",
      "    },\n",
      "    {\n",
      "      \"point\": [\n",
      "        5,\n",
      "        1\n",
      "      ],\n",
      "      \"node_ind\": 11\n",
      "    },\n",
      "    {\n",
      "      \"point\": [\n",
      "        6,\n",
      "        0\n",
      "      ],\n",
      "      \"node_ind\": 12\n",
      "    },\n",
      "    {\n",
      "      \"point\": [\n",
      "        6,\n",
      "        1\n",
      "      ],\n",
      "      \"node_ind\": 13\n",
      "    },\n",
      "    {\n",
      "      \"point\": [\n",
      "        7,\n",
      "        0\n",
      "      ],\n",
      "      \"node_ind\": 14\n",
      "    },\n",
      "    {\n",
      "      \"point\": [\n",
      "        7,\n",
      "        1\n",
      "      ],\n",
      "      \"node_ind\": 15\n",
      "    },\n",
      "    {\n",
      "      \"point\": [\n",
      "        8,\n",
      "        0\n",
      "      ],\n",
      "      \"node_ind\": 16\n",
      "    },\n",
      "    {\n",
      "      \"point\": [\n",
      "        8,\n",
      "        1\n",
      "      ],\n",
      "      \"node_ind\": 17\n",
      "    },\n",
      "    {\n",
      "      \"point\": [\n",
      "        8.5,\n",
      "        0.5\n",
      "      ],\n",
      "      \"node_ind\": 18\n",
      "    }\n",
      "  ],\n",
      "  \"unit\": \"meter\",\n",
      "  \"generate_time\": \"05/21/2019 07:40:59\",\n",
      "  \"model_name\": \"tim\",\n",
      "  \"model_type\": \"truss\"\n",
      "}\n"
     ]
    }
   ],
   "cell_type": "code",
   "source": [
    "using JSON\n",
    "\n",
    "f = JSON.parsefile(path_to_file)\n",
    "print(JSON.json(f, 2));"
   ],
   "metadata": {},
   "execution_count": 7
  },
  {
   "cell_type": "markdown",
   "source": [
    "### 2D and 3D truss point load cantilever beam"
   ],
   "metadata": {}
  },
  {
   "cell_type": "markdown",
   "source": [
    "![truss_cantilever](https://user-images.githubusercontent.com/19524993/165228327-def94c04-6505-4f13-afea-4f28a370380e.png)"
   ],
   "metadata": {}
  },
  {
   "cell_type": "markdown",
   "source": [
    "Much like the continuum 2D/3D point load cantilever beam, you can also create a 2D/3D truss-based cantilever beam with a point load as shown above using the following syntax."
   ],
   "metadata": {}
  },
  {
   "outputs": [],
   "cell_type": "code",
   "source": [
    "E = 1.0 # Young’s modulus in MPa\n",
    "ν = 0.3 # Poisson’s ratio\n",
    "nels = (60, 20) # number of boundary trusses\n",
    "elsizes = (1.0, 1.0) # the length of each boundary truss in mm\n",
    "force = 1.0 # upward force in N - negative is downward\n",
    "problem = PointLoadCantileverTruss(nels, elsizes, E, ν, force; k_connect=1);"
   ],
   "metadata": {},
   "execution_count": 8
  },
  {
   "cell_type": "markdown",
   "source": [
    "`nels`, `elsizes`, `E` and `ν` have an analagous intepretation to the continuum cantilever beam. `force` is the upward concentrated force in Newton (downward is negative). `k_connect` is the k-ring of each node defining the connectivity of the nodes in the graph, default is 1. For a 2D domain, a node will be connected to `8` neighboring nodes if `k_connect = 1`, and `8 + 16 = 24` neighboring nodes if `k_connect = 2`."
   ],
   "metadata": {}
  },
  {
   "cell_type": "markdown",
   "source": [
    "---\n",
    "\n",
    "*This notebook was generated using [Literate.jl](https://github.com/fredrikekre/Literate.jl).*"
   ],
   "metadata": {}
  }
 ],
 "nbformat_minor": 3,
 "metadata": {
  "language_info": {
   "file_extension": ".jl",
   "mimetype": "application/julia",
   "name": "julia",
   "version": "1.8.2"
  },
  "kernelspec": {
   "name": "julia-1.8",
   "display_name": "Julia 1.8.2",
   "language": "julia"
  }
 },
 "nbformat": 4
}
