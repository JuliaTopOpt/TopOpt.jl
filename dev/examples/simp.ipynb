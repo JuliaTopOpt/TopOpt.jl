{
 "cells": [
  {
   "cell_type": "markdown",
   "source": [
    "# SIMP example: Point Load Cantilever"
   ],
   "metadata": {}
  },
  {
   "cell_type": "markdown",
   "source": [
    "## Commented Program\n",
    "\n",
    "What follows is a program spliced with comments."
   ],
   "metadata": {}
  },
  {
   "outputs": [],
   "cell_type": "code",
   "source": [
    "using TopOpt"
   ],
   "metadata": {},
   "execution_count": 1
  },
  {
   "cell_type": "markdown",
   "source": [
    "### Define the problem"
   ],
   "metadata": {}
  },
  {
   "outputs": [],
   "cell_type": "code",
   "source": [
    "E = 1.0 # Young’s modulus\n",
    "v = 0.3 # Poisson’s ratio\n",
    "f = 1.0; # downward force\n",
    "\n",
    "nels = (30, 10, 10)\n",
    "problem = PointLoadCantilever(Val{:Linear}, nels, (1.0, 1.0, 1.0), E, v, f);"
   ],
   "metadata": {},
   "execution_count": 2
  },
  {
   "cell_type": "markdown",
   "source": [
    "See also the detailed API of `PointLoadCantilever`:"
   ],
   "metadata": {}
  },
  {
   "cell_type": "markdown",
   "source": [
    "### Parameter settings"
   ],
   "metadata": {}
  },
  {
   "outputs": [],
   "cell_type": "code",
   "source": [
    "V = 0.3 # volume fraction\n",
    "xmin = 1e-6 # minimum density\n",
    "rmin = 2.0; # density filter radius"
   ],
   "metadata": {},
   "execution_count": 3
  },
  {
   "cell_type": "markdown",
   "source": [
    "### Define a finite element solver"
   ],
   "metadata": {}
  },
  {
   "outputs": [
    {
     "output_type": "execute_result",
     "data": {
      "text/plain": ""
     },
     "metadata": {},
     "execution_count": 4
    }
   ],
   "cell_type": "code",
   "source": [
    "penalty = TopOpt.PowerPenalty(3.0)\n",
    "solver = FEASolver(Direct, problem, xmin = xmin, penalty = penalty)"
   ],
   "metadata": {},
   "execution_count": 4
  },
  {
   "cell_type": "markdown",
   "source": [
    "### Define compliance objective"
   ],
   "metadata": {}
  },
  {
   "outputs": [
    {
     "output_type": "execute_result",
     "data": {
      "text/plain": "#1 (generic function with 1 method)"
     },
     "metadata": {},
     "execution_count": 5
    }
   ],
   "cell_type": "code",
   "source": [
    "comp = TopOpt.Compliance(problem, solver)\n",
    "filter = DensityFilter(solver, rmin = rmin)\n",
    "obj = x -> comp(filter(x))"
   ],
   "metadata": {},
   "execution_count": 5
  },
  {
   "cell_type": "markdown",
   "source": [
    "### Define volume constraint"
   ],
   "metadata": {}
  },
  {
   "outputs": [
    {
     "output_type": "execute_result",
     "data": {
      "text/plain": "#3 (generic function with 1 method)"
     },
     "metadata": {},
     "execution_count": 6
    }
   ],
   "cell_type": "code",
   "source": [
    "volfrac = TopOpt.Volume(problem, solver)\n",
    "constr = x -> volfrac(filter(x)) - V"
   ],
   "metadata": {},
   "execution_count": 6
  },
  {
   "cell_type": "markdown",
   "source": [
    "You can enable the iteration printouts with `Nonconvex.show_residuals[] = true`"
   ],
   "metadata": {}
  },
  {
   "cell_type": "markdown",
   "source": [
    "### Define subproblem optimizer"
   ],
   "metadata": {}
  },
  {
   "outputs": [
    {
     "output_type": "execute_result",
     "data": {
      "text/plain": ""
     },
     "metadata": {},
     "execution_count": 7
    }
   ],
   "cell_type": "code",
   "source": [
    "mma_options =\n",
    "    options = MMAOptions(\n",
    "        maxiter = 3000,\n",
    "        tol = Nonconvex.Tolerance(x = 1e-3, f = 1e-3, kkt = 0.001),\n",
    "    )\n",
    "convcriteria = Nonconvex.KKTCriteria()\n",
    "x0 = fill(V, length(solver.vars))\n",
    "optimizer =\n",
    "    Optimizer(obj, constr, x0, MMA87(), options = mma_options, convcriteria = convcriteria)"
   ],
   "metadata": {},
   "execution_count": 7
  },
  {
   "cell_type": "markdown",
   "source": [
    "### Define SIMP optimizer"
   ],
   "metadata": {}
  },
  {
   "outputs": [],
   "cell_type": "code",
   "source": [
    "simp = SIMP(optimizer, solver, penalty.p);"
   ],
   "metadata": {},
   "execution_count": 8
  },
  {
   "cell_type": "markdown",
   "source": [
    "### Solve"
   ],
   "metadata": {}
  },
  {
   "outputs": [
    {
     "name": "stdout",
     "output_type": "stream",
     "text": [
      "result.convstate = NonconvexCore.ConvergenceState{Float64}\n",
      "  Δx: Float64 0.038385266065294577\n",
      "  Δf: Float64 0.0002795828562440761\n",
      "  relΔf: Float64 6.619048791352361e-6\n",
      "  kkt_residual: Float64 0.0009088013654199312\n",
      "  ipopt_residual: Float64 0.0009088013654199312\n",
      "  infeas: Float64 0.0\n",
      "  x_converged: Bool false\n",
      "  fabs_converged: Bool true\n",
      "  frel_converged: Bool true\n",
      "  kkt_converged: Bool true\n",
      "  ipopt_converged: Bool true\n",
      "  infeas_converged: Bool true\n",
      "  f_increased: Bool false\n",
      "  converged: Bool true\n",
      "\n",
      "optimizer.workspace.iter = 45\n",
      "result.objval = 42.23812907385497\n"
     ]
    },
    {
     "output_type": "execute_result",
     "data": {
      "text/plain": "42.23812907385497"
     },
     "metadata": {},
     "execution_count": 9
    }
   ],
   "cell_type": "code",
   "source": [
    "result = simp(x0);\n",
    "\n",
    "@show result.convstate\n",
    "@show optimizer.workspace.iter\n",
    "@show result.objval"
   ],
   "metadata": {},
   "execution_count": 9
  },
  {
   "cell_type": "markdown",
   "source": [
    "### (Optional) Visualize the result using Makie.jl\n",
    "Need to run `using Pkg; Pkg.add(Makie)` first\n",
    "```julia\n",
    "using TopOpt.TopOptProblems.Visualization: visualize\n",
    "fig = visualize(problem; topology = result.topology,\n",
    "    problem; topology = result.topology, default_exagg_scale = 0.07,\n",
    "    scale_range = 10.0, vector_linewidth = 3, vector_arrowsize = 0.5,\n",
    ")\n",
    "Makie.display(fig)\n",
    "```"
   ],
   "metadata": {}
  },
  {
   "cell_type": "markdown",
   "source": [
    "or convert it to a Mesh\n",
    "Need to run `using Pkg; Pkg.add(GeometryBasics)` first\n",
    "```julia\n",
    "import Makie, GeometryBasics\n",
    "result_mesh = GeometryBasics.Mesh(problem, result.topology);\n",
    "Makie.mesh(result_mesh)\n",
    "```"
   ],
   "metadata": {}
  },
  {
   "cell_type": "markdown",
   "source": [
    "---\n",
    "\n",
    "*This notebook was generated using [Literate.jl](https://github.com/fredrikekre/Literate.jl).*"
   ],
   "metadata": {}
  }
 ],
 "nbformat_minor": 3,
 "metadata": {
  "language_info": {
   "file_extension": ".jl",
   "mimetype": "application/julia",
   "name": "julia",
   "version": "1.6.4"
  },
  "kernelspec": {
   "name": "julia-1.6",
   "display_name": "Julia 1.6.4",
   "language": "julia"
  }
 },
 "nbformat": 4
}
