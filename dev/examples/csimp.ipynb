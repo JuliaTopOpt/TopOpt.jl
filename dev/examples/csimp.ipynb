{
 "cells": [
  {
   "cell_type": "markdown",
   "source": [
    "# Continuous SIMP example"
   ],
   "metadata": {}
  },
  {
   "cell_type": "markdown",
   "source": [
    "## Commented Program\n",
    "\n",
    "What follows is a program spliced with comments."
   ],
   "metadata": {}
  },
  {
   "outputs": [],
   "cell_type": "code",
   "source": [
    "using TopOpt"
   ],
   "metadata": {},
   "execution_count": 1
  },
  {
   "cell_type": "markdown",
   "source": [
    "### Define the problem"
   ],
   "metadata": {}
  },
  {
   "outputs": [
    {
     "name": "stdout",
     "output_type": "stream",
     "text": [
      "cantilever beam\n"
     ]
    },
    {
     "output_type": "execute_result",
     "data": {
      "text/plain": ""
     },
     "metadata": {},
     "execution_count": 2
    }
   ],
   "cell_type": "code",
   "source": [
    "E = 1.0 # Young’s modulus\n",
    "v = 0.3 # Poisson’s ratio\n",
    "f = 1.0 # downward force\n",
    "\n",
    "problems = Any[\n",
    "    PointLoadCantilever(Val{:Linear}, (60, 20, 20), (1.0, 1.0, 1.0), E, v, f),\n",
    "    PointLoadCantilever(Val{:Linear}, (160, 40), (1.0, 1.0), E, v, f),\n",
    "    HalfMBB(Val{:Linear}, (60, 20), (1.0, 1.0), E, v, f),\n",
    "    LBeam(Val{:Linear}, Float64, force = f),\n",
    "    TieBeam(Val{:Quadratic}, Float64),\n",
    "]\n",
    "problem_names =\n",
    "    [\"3d cantilever beam\", \"cantilever beam\", \"half MBB beam\", \"L-beam\", \"tie-beam\"]\n",
    "\n",
    "i = 2\n",
    "println(problem_names[i])\n",
    "problem = problems[i]"
   ],
   "metadata": {},
   "execution_count": 2
  },
  {
   "cell_type": "markdown",
   "source": [
    "### Parameter settings"
   ],
   "metadata": {}
  },
  {
   "outputs": [
    {
     "output_type": "execute_result",
     "data": {
      "text/plain": "(::PowerContinuation{Float64}) (generic function with 1 method)"
     },
     "metadata": {},
     "execution_count": 3
    }
   ],
   "cell_type": "code",
   "source": [
    "V = 0.5 # volume fraction\n",
    "xmin = 0.001 # minimum density\n",
    "rmin = 3.0\n",
    "steps = 40 # maximum number of penalty steps, delta_p0 = 0.1\n",
    "reuse = true # adaptive penalty flag\n",
    "\n",
    "convcriteria = Nonconvex.GenericCriteria()\n",
    "penalty = TopOpt.PowerPenalty(1.0)\n",
    "pcont = Continuation(penalty, steps = steps, xmin = xmin, pmax = 5.0)"
   ],
   "metadata": {},
   "execution_count": 3
  },
  {
   "cell_type": "markdown",
   "source": [
    "NOTE: non-convexity + computational error lead to different solutions that satisfy the KKT tolerance"
   ],
   "metadata": {}
  },
  {
   "outputs": [
    {
     "output_type": "execute_result",
     "data": {
      "text/plain": ""
     },
     "metadata": {},
     "execution_count": 4
    }
   ],
   "cell_type": "code",
   "source": [
    "mma_options = options = MMAOptions(maxiter = 1000)\n",
    "maxtol = 0.01 # maximum tolerance\n",
    "mintol = 0.0001 # minimum tolerance\n",
    "b = log(mintol / maxtol) / steps\n",
    "a = maxtol / exp(b)\n",
    "mma_options_gen = TopOpt.MMAOptionsGen(\n",
    "    steps = steps,\n",
    "    initial_options = mma_options,\n",
    "    ftol_gen = ExponentialContinuation(a, b, 0.0, steps + 1, mintol),\n",
    ")\n",
    "csimp_options = TopOpt.CSIMPOptions(\n",
    "    steps = steps,\n",
    "    options_gen = mma_options_gen,\n",
    "    p_gen = pcont,\n",
    "    reuse = reuse,\n",
    ")"
   ],
   "metadata": {},
   "execution_count": 4
  },
  {
   "cell_type": "markdown",
   "source": [
    "### Define a finite element solver"
   ],
   "metadata": {}
  },
  {
   "outputs": [
    {
     "output_type": "execute_result",
     "data": {
      "text/plain": ""
     },
     "metadata": {},
     "execution_count": 5
    }
   ],
   "cell_type": "code",
   "source": [
    "solver = FEASolver(Direct, problem, xmin = xmin, penalty = penalty)"
   ],
   "metadata": {},
   "execution_count": 5
  },
  {
   "cell_type": "markdown",
   "source": [
    "### Define compliance objective"
   ],
   "metadata": {}
  },
  {
   "outputs": [
    {
     "output_type": "execute_result",
     "data": {
      "text/plain": "#1 (generic function with 1 method)"
     },
     "metadata": {},
     "execution_count": 6
    }
   ],
   "cell_type": "code",
   "source": [
    "comp = Compliance(problem, solver)\n",
    "filter = if problem isa TopOptProblems.TieBeam\n",
    "    identity\n",
    "else\n",
    "    DensityFilter(solver, rmin = rmin)\n",
    "end\n",
    "obj = x -> comp(filter(x))"
   ],
   "metadata": {},
   "execution_count": 6
  },
  {
   "cell_type": "markdown",
   "source": [
    "### Define volume constraint"
   ],
   "metadata": {}
  },
  {
   "outputs": [
    {
     "output_type": "execute_result",
     "data": {
      "text/plain": "#3 (generic function with 1 method)"
     },
     "metadata": {},
     "execution_count": 7
    }
   ],
   "cell_type": "code",
   "source": [
    "volfrac = TopOpt.Volume(problem, solver)\n",
    "constr = x -> volfrac(filter(x)) - V"
   ],
   "metadata": {},
   "execution_count": 7
  },
  {
   "cell_type": "markdown",
   "source": [
    "### Define subproblem optimizer"
   ],
   "metadata": {}
  },
  {
   "outputs": [
    {
     "output_type": "execute_result",
     "data": {
      "text/plain": ""
     },
     "metadata": {},
     "execution_count": 8
    }
   ],
   "cell_type": "code",
   "source": [
    "x0 = fill(V, length(solver.vars))\n",
    "optimizer =\n",
    "    Optimizer(obj, constr, x0, MMA87(), options = mma_options, convcriteria = convcriteria)"
   ],
   "metadata": {},
   "execution_count": 8
  },
  {
   "cell_type": "markdown",
   "source": [
    "### Define continuation SIMP optimizer"
   ],
   "metadata": {}
  },
  {
   "outputs": [
    {
     "output_type": "execute_result",
     "data": {
      "text/plain": ""
     },
     "metadata": {},
     "execution_count": 9
    }
   ],
   "cell_type": "code",
   "source": [
    "simp = SIMP(optimizer, solver, penalty.p)\n",
    "cont_simp = ContinuationSIMP(simp, steps, csimp_options)"
   ],
   "metadata": {},
   "execution_count": 9
  },
  {
   "cell_type": "markdown",
   "source": [
    "### Solve"
   ],
   "metadata": {}
  },
  {
   "outputs": [
    {
     "name": "stdout",
     "output_type": "stream",
     "text": [
      "result.convstate = NonconvexCore.ConvergenceState{Float64}\n",
      "  Δx: Float64 0.19890886735275043\n",
      "  Δf: Float64 2.33965716686248\n",
      "  relΔf: Float64 0.007587785984346274\n",
      "  kkt_residual: Float64 0.42771888549275544\n",
      "  ipopt_residual: Float64 0.42771888549275544\n",
      "  infeas: Float64 0.0\n",
      "  x_converged: Bool false\n",
      "  fabs_converged: Bool false\n",
      "  frel_converged: Bool true\n",
      "  kkt_converged: Bool false\n",
      "  ipopt_converged: Bool false\n",
      "  infeas_converged: Bool true\n",
      "  f_increased: Bool false\n",
      "  converged: Bool true\n",
      "\n",
      "optimizer.workspace.iter = 5\n",
      "result.objval = 308.33517100103126\n"
     ]
    },
    {
     "output_type": "execute_result",
     "data": {
      "text/plain": "308.33517100103126"
     },
     "metadata": {},
     "execution_count": 10
    }
   ],
   "cell_type": "code",
   "source": [
    "result = cont_simp(x0)\n",
    "\n",
    "@show result.convstate\n",
    "@show optimizer.workspace.iter\n",
    "@show result.objval"
   ],
   "metadata": {},
   "execution_count": 10
  },
  {
   "cell_type": "markdown",
   "source": [
    "### (Optional) Visualize the result using Makie.jl\n",
    "Need to run `using Pkg; Pkg.add(Makie)` first\n",
    "```julia\n",
    "using TopOpt.TopOptProblems.Visualization: visualize\n",
    "fig = visualize(problem; topology = result.topology,\n",
    "    problem; topology = result.topology, default_exagg_scale = 0.07,\n",
    "    scale_range = 10.0, vector_linewidth = 3, vector_arrowsize = 0.5,\n",
    ")\n",
    "Makie.display(fig)\n",
    "```"
   ],
   "metadata": {}
  },
  {
   "cell_type": "markdown",
   "source": [
    "---\n",
    "\n",
    "*This notebook was generated using [Literate.jl](https://github.com/fredrikekre/Literate.jl).*"
   ],
   "metadata": {}
  }
 ],
 "nbformat_minor": 3,
 "metadata": {
  "language_info": {
   "file_extension": ".jl",
   "mimetype": "application/julia",
   "name": "julia",
   "version": "1.6.4"
  },
  "kernelspec": {
   "name": "julia-1.6",
   "display_name": "Julia 1.6.4",
   "language": "julia"
  }
 },
 "nbformat": 4
}
