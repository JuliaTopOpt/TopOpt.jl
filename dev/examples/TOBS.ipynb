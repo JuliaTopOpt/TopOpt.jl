{
 "cells": [
  {
   "cell_type": "markdown",
   "source": [
    "# Topological optimization of binary structures (TOBS)"
   ],
   "metadata": {}
  },
  {
   "cell_type": "markdown",
   "source": [
    "### Description"
   ],
   "metadata": {}
  },
  {
   "cell_type": "markdown",
   "source": [
    "The method of topological optimization of binary structures ([TOBS](https://www.sciencedirect.com/science/article/abs/pii/S0168874X17305619?via%3Dihub)) was originally developed in the context of optimal distribution of material in mechanical components. In its core, is a heuristic to solve binary optimization problems by first linearizing the objective and constraints. Then, a binary nonlinear program is solved (default solver is [Cbc](https://github.com/jump-dev/Cbc.jl)) to determine which binary variables must be flipped in the current iteration."
   ],
   "metadata": {}
  },
  {
   "cell_type": "markdown",
   "source": [
    "### Packages and parameters"
   ],
   "metadata": {}
  },
  {
   "outputs": [
    {
     "output_type": "execute_result",
     "data": {
      "text/plain": "3.0"
     },
     "metadata": {},
     "execution_count": 1
    }
   ],
   "cell_type": "code",
   "source": [
    "using NonconvexTOBS, TopOpt\n",
    "E = 1.0 # Young’s modulus\n",
    "v = 0.3 # Poisson’s ratio\n",
    "f = 1.0 # downward force\n",
    "rmin = 6.0 # filter radius\n",
    "xmin = 0.001 # minimum density\n",
    "V = 0.5 # maximum volume fraction\n",
    "p = 3.0 # topological optimization penalty"
   ],
   "metadata": {},
   "execution_count": 1
  },
  {
   "cell_type": "markdown",
   "source": [
    "### Define FEA problem"
   ],
   "metadata": {}
  },
  {
   "outputs": [],
   "cell_type": "code",
   "source": [
    "problem_size = (160, 100); # size of rectangular mesh\n",
    "x0 = fill(1.0, prod(problem_size)); # initial design\n",
    "problem = PointLoadCantilever(Val{:Linear}, problem_size, (1.0, 1.0), E, v, f);"
   ],
   "metadata": {},
   "execution_count": 2
  },
  {
   "cell_type": "markdown",
   "source": [
    "FEA solver and auxiliary functions need to be defined as well:"
   ],
   "metadata": {}
  },
  {
   "outputs": [],
   "cell_type": "code",
   "source": [
    "solver = FEASolver(Direct, problem; xmin=xmin);\n",
    "cheqfilter = DensityFilter(solver; rmin=rmin); # filter function\n",
    "comp = TopOpt.Compliance(solver); # compliance function"
   ],
   "metadata": {},
   "execution_count": 3
  },
  {
   "cell_type": "markdown",
   "source": [
    "The usual topology optimization problem adresses compliance minimization under volume restriction. Therefore, the objective and the constraint are:"
   ],
   "metadata": {}
  },
  {
   "outputs": [],
   "cell_type": "code",
   "source": [
    "obj(x) = comp(cheqfilter(PseudoDensities(x))); # compliance objective\n",
    "constr(x) = sum(cheqfilter(PseudoDensities(x))) / length(x) - V; # volume fraction constraint"
   ],
   "metadata": {},
   "execution_count": 4
  },
  {
   "cell_type": "markdown",
   "source": [
    "### Optimization setup"
   ],
   "metadata": {}
  },
  {
   "cell_type": "markdown",
   "source": [
    "Finally, the optimization problem is defined and solved:"
   ],
   "metadata": {}
  },
  {
   "outputs": [],
   "cell_type": "code",
   "source": [
    "m = Model(obj); # create optimization model\n",
    "addvar!(m, zeros(length(x0)), ones(length(x0))); # setup optimization variables\n",
    "Nonconvex.add_ineq_constraint!(m, constr); # setup volume inequality constraint\n",
    "options = TOBSOptions(); # optimization options with default values\n",
    "TopOpt.setpenalty!(solver, p);"
   ],
   "metadata": {},
   "execution_count": 5
  },
  {
   "cell_type": "markdown",
   "source": [
    "Perform TOBS optimization"
   ],
   "metadata": {}
  },
  {
   "outputs": [
    {
     "name": "stdout",
     "output_type": "stream",
     "text": [
      "[ Info: iter = 1, obj = 21.833, constr_vio_norm = 0.5, er = 1.0\n",
      "[ Info: iter = 2, obj = 22.37, constr_vio_norm = 0.45, er = 1.0\n",
      "[ Info: iter = 3, obj = 23.346, constr_vio_norm = 0.405, er = 1.0\n",
      "[ Info: iter = 4, obj = 24.326, constr_vio_norm = 0.364, er = 1.0\n",
      "[ Info: iter = 5, obj = 25.497, constr_vio_norm = 0.328, er = 1.0\n",
      "[ Info: iter = 6, obj = 26.252, constr_vio_norm = 0.295, er = 1.0\n",
      "[ Info: iter = 7, obj = 27.101, constr_vio_norm = 0.266, er = 1.0\n",
      "[ Info: iter = 8, obj = 27.448, constr_vio_norm = 0.239, er = 1.0\n",
      "[ Info: iter = 9, obj = 28.468, constr_vio_norm = 0.215, er = 1.0\n",
      "[ Info: iter = 10, obj = 29.456, constr_vio_norm = 0.194, er = 1.0\n",
      "[ Info: iter = 11, obj = 30.204, constr_vio_norm = 0.174, er = 1.0\n",
      "[ Info: iter = 12, obj = 30.907, constr_vio_norm = 0.157, er = 1.0\n",
      "[ Info: iter = 13, obj = 31.731, constr_vio_norm = 0.141, er = 1.0\n",
      "[ Info: iter = 14, obj = 32.576, constr_vio_norm = 0.127, er = 1.0\n",
      "[ Info: iter = 15, obj = 33.437, constr_vio_norm = 0.114, er = 1.0\n",
      "[ Info: iter = 16, obj = 34.078, constr_vio_norm = 0.103, er = 1.0\n",
      "[ Info: iter = 17, obj = 45.652, constr_vio_norm = 0.092, er = 1.0\n",
      "[ Info: iter = 18, obj = 41.504, constr_vio_norm = 0.0, er = 1.0\n",
      "[ Info: iter = 19, obj = 40.782, constr_vio_norm = 0.0, er = 1.0\n",
      "[ Info: iter = 20, obj = 40.648, constr_vio_norm = 0.0, er = 1.0\n",
      "[ Info: iter = 21, obj = 40.611, constr_vio_norm = 0.0, er = 0.029\n",
      "[ Info: iter = 22, obj = 40.588, constr_vio_norm = 0.0, er = 0.026\n",
      "[ Info: iter = 23, obj = 40.577, constr_vio_norm = 0.0, er = 0.024\n",
      "[ Info: iter = 24, obj = 40.563, constr_vio_norm = 0.0, er = 0.022\n",
      "[ Info: iter = 25, obj = 40.549, constr_vio_norm = 0.0, er = 0.02\n",
      "[ Info: iter = 26, obj = 40.54, constr_vio_norm = 0.0, er = 0.019\n",
      "[ Info: iter = 27, obj = 40.532, constr_vio_norm = 0.0, er = 0.018\n",
      "[ Info: iter = 28, obj = 40.518, constr_vio_norm = 0.0, er = 0.016\n",
      "[ Info: iter = 29, obj = 40.506, constr_vio_norm = 0.0, er = 0.015\n",
      "[ Info: iter = 30, obj = 40.491, constr_vio_norm = 0.0, er = 0.013\n",
      "[ Info: iter = 31, obj = 40.48, constr_vio_norm = 0.0, er = 0.012\n",
      "[ Info: iter = 32, obj = 40.469, constr_vio_norm = 0.0, er = 0.011\n",
      "[ Info: iter = 33, obj = 40.455, constr_vio_norm = 0.0, er = 0.01\n",
      "[ Info: iter = 34, obj = 40.438, constr_vio_norm = 0.0, er = 0.009\n",
      "[ Info: iter = 35, obj = 40.424, constr_vio_norm = 0.0, er = 0.008\n",
      "[ Info: iter = 36, obj = 40.408, constr_vio_norm = 0.0, er = 0.006\n",
      "[ Info: iter = 37, obj = 40.396, constr_vio_norm = 0.0, er = 0.001\n",
      "[ Info: iter = 38, obj = 40.379, constr_vio_norm = 0.0, er = 0.0\n",
      "132.623153 seconds (76.37 M allocations: 9.381 GiB, 1.29% gc time, 8.71% compilation time: 14% of which was recompilation)\n"
     ]
    },
    {
     "output_type": "execute_result",
     "data": {
      "text/plain": "NonconvexTOBS.TOBSResult{Vector{Float64}, Float64, Float64}([1.0, 1.0, 1.0, 1.0, 1.0, 1.0, 1.0, 1.0, 1.0, 1.0  …  0.0, 0.0, 0.0, 0.0, 0.0, 0.0, 0.0, 0.0, 0.0, 0.0], 40.548611352179165, 0.0004967190296507971)"
     },
     "metadata": {},
     "execution_count": 6
    }
   ],
   "cell_type": "code",
   "source": [
    "@time r = Nonconvex.optimize(m, TOBSAlg(), x0; options=options)"
   ],
   "metadata": {},
   "execution_count": 6
  },
  {
   "cell_type": "markdown",
   "source": [
    "### Results"
   ],
   "metadata": {}
  },
  {
   "outputs": [
    {
     "name": "stdout",
     "output_type": "stream",
     "text": [
      "obj(r.minimizer) = 40.548611352179165\n",
      "constr(r.minimizer) = -2.7528718193892132e-9\n"
     ]
    }
   ],
   "cell_type": "code",
   "source": [
    "@show obj(r.minimizer)\n",
    "@show constr(r.minimizer)\n",
    "topology = r.minimizer;"
   ],
   "metadata": {},
   "execution_count": 7
  },
  {
   "cell_type": "markdown",
   "source": [
    "---\n",
    "\n",
    "*This notebook was generated using [Literate.jl](https://github.com/fredrikekre/Literate.jl).*"
   ],
   "metadata": {}
  }
 ],
 "nbformat_minor": 3,
 "metadata": {
  "language_info": {
   "file_extension": ".jl",
   "mimetype": "application/julia",
   "name": "julia",
   "version": "1.10.2"
  },
  "kernelspec": {
   "name": "julia-1.10",
   "display_name": "Julia 1.10.2",
   "language": "julia"
  }
 },
 "nbformat": 4
}
