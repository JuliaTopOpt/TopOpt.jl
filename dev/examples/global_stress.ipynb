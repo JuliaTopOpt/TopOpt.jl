{
 "cells": [
  {
   "cell_type": "markdown",
   "source": [
    "# Global stress objective example"
   ],
   "metadata": {}
  },
  {
   "cell_type": "markdown",
   "source": [
    "## Commented Program\n",
    "\n",
    "What follows is a program spliced with comments."
   ],
   "metadata": {}
  },
  {
   "outputs": [],
   "cell_type": "code",
   "source": [
    "using TopOpt, LinearAlgebra"
   ],
   "metadata": {},
   "execution_count": 1
  },
  {
   "cell_type": "markdown",
   "source": [
    "### Define the problem"
   ],
   "metadata": {}
  },
  {
   "outputs": [
    {
     "name": "stdout",
     "output_type": "stream",
     "text": [
      "Cantilever beam\n"
     ]
    },
    {
     "output_type": "execute_result",
     "data": {
      "text/plain": ""
     },
     "metadata": {},
     "execution_count": 2
    }
   ],
   "cell_type": "code",
   "source": [
    "E = 1.0 # Young’s modulus\n",
    "v = 0.3 # Poisson’s ratio\n",
    "f = 1.0 # downward force\n",
    "rmin = 3.0 # filter radius\n",
    "\n",
    "problems = Any[\n",
    "    PointLoadCantilever(Val{:Linear}, (60, 20), (1.0, 1.0), E, v, f),\n",
    "    HalfMBB(Val{:Linear}, (60, 20), (1.0, 1.0), E, v, f),\n",
    "]\n",
    "problem_names = [\"Cantilever beam\", \"Half MBB beam\", \"L-beam\", \"Tie-beam\"]\n",
    "\n",
    "i = 1\n",
    "println(problem_names[i])\n",
    "problem = problems[i]"
   ],
   "metadata": {},
   "execution_count": 2
  },
  {
   "cell_type": "markdown",
   "source": [
    "### Parameter settings"
   ],
   "metadata": {}
  },
  {
   "outputs": [
    {
     "output_type": "execute_result",
     "data": {
      "text/plain": "PowerPenalty{Float64}(1.0)"
     },
     "metadata": {},
     "execution_count": 3
    }
   ],
   "cell_type": "code",
   "source": [
    "V = 0.5 # volume fraction\n",
    "xmin = 0.001 # minimum density\n",
    "steps = 40 # maximum number of penalty steps, delta_p0 = 0.1\n",
    "convcriteria = Nonconvex.KKTCriteria()\n",
    "penalty = TopOpt.PowerPenalty(1.0)"
   ],
   "metadata": {},
   "execution_count": 3
  },
  {
   "cell_type": "markdown",
   "source": [
    "### Define a finite element solver"
   ],
   "metadata": {}
  },
  {
   "outputs": [
    {
     "output_type": "execute_result",
     "data": {
      "text/plain": ""
     },
     "metadata": {},
     "execution_count": 4
    }
   ],
   "cell_type": "code",
   "source": [
    "solver = FEASolver(Direct, problem, xmin = xmin, penalty = penalty)"
   ],
   "metadata": {},
   "execution_count": 4
  },
  {
   "cell_type": "markdown",
   "source": [
    "### Define **stress** objective\n",
    "Notice that gradient is derived automatically by automatic differentiation (Zygote.jl)!"
   ],
   "metadata": {}
  },
  {
   "outputs": [
    {
     "output_type": "execute_result",
     "data": {
      "text/plain": "MMAOptions{Float64, Tolerance{Float64, Float64, Float64, Float64}, Optim.Options{Float64, Nothing}}\n  maxiter: Int64 2000\n  outer_maxiter: Int64 100000000\n  maxinner: Int64 10\n  tol: Tolerance{Float64, Float64, Float64, Float64}\n  s_init: Float64 0.5\n  s_incr: Float64 1.2\n  s_decr: Float64 0.7\n  store_trace: Bool false\n  show_trace: Bool false\n  auto_scale: Bool false\n  keep_best: Bool false\n  dual_options: Optim.Options{Float64, Nothing}\n"
     },
     "metadata": {},
     "execution_count": 5
    }
   ],
   "cell_type": "code",
   "source": [
    "stress = TopOpt.MicroVonMisesStress(solver)\n",
    "filter = if problem isa TopOptProblems.TieBeam\n",
    "    identity\n",
    "else\n",
    "    DensityFilter(solver, rmin = rmin)\n",
    "end\n",
    "volfrac = TopOpt.Volume(problem, solver)\n",
    "\n",
    "obj = x -> volfrac(filter(x))\n",
    "constr = x -> norm(stress(filter(x)), 5) - 1.0\n",
    "options = MMAOptions(maxiter = 2000, tol = Nonconvex.Tolerance(kkt = 1e-4))"
   ],
   "metadata": {},
   "execution_count": 5
  },
  {
   "cell_type": "markdown",
   "source": [
    "### Define subproblem optimizer"
   ],
   "metadata": {}
  },
  {
   "outputs": [
    {
     "output_type": "execute_result",
     "data": {
      "text/plain": ""
     },
     "metadata": {},
     "execution_count": 6
    }
   ],
   "cell_type": "code",
   "source": [
    "x0 = fill(1.0, length(solver.vars))\n",
    "optimizer =\n",
    "    Optimizer(obj, constr, x0, MMA87(), options = options, convcriteria = convcriteria)"
   ],
   "metadata": {},
   "execution_count": 6
  },
  {
   "cell_type": "markdown",
   "source": [
    "### Define continuation SIMP optimizer"
   ],
   "metadata": {}
  },
  {
   "outputs": [
    {
     "output_type": "execute_result",
     "data": {
      "text/plain": ""
     },
     "metadata": {},
     "execution_count": 7
    }
   ],
   "cell_type": "code",
   "source": [
    "simp = SIMP(optimizer, solver, 3.0)"
   ],
   "metadata": {},
   "execution_count": 7
  },
  {
   "cell_type": "markdown",
   "source": [
    "### Solve"
   ],
   "metadata": {}
  },
  {
   "outputs": [
    {
     "name": "stdout",
     "output_type": "stream",
     "text": [
      "result.convstate = NonconvexCore.ConvergenceState{Float64}\n",
      "  Δx: Float64 0.04407867033776813\n",
      "  Δf: Float64 1.886440801335265e-5\n",
      "  relΔf: Float64 2.2614246505304583e-5\n",
      "  kkt_residual: Float64 9.80049340099274e-5\n",
      "  ipopt_residual: Float64 9.80049340099274e-5\n",
      "  infeas: Float64 0.0\n",
      "  x_converged: Bool false\n",
      "  fabs_converged: Bool false\n",
      "  frel_converged: Bool false\n",
      "  kkt_converged: Bool true\n",
      "  ipopt_converged: Bool true\n",
      "  infeas_converged: Bool true\n",
      "  f_increased: Bool false\n",
      "  converged: Bool true\n",
      "\n",
      "optimizer.workspace.iter = 959\n",
      "result.objval = 0.8341724702816281\n"
     ]
    },
    {
     "output_type": "execute_result",
     "data": {
      "text/plain": "0.8341724702816281"
     },
     "metadata": {},
     "execution_count": 8
    }
   ],
   "cell_type": "code",
   "source": [
    "result = simp(x0)\n",
    "\n",
    "@show result.convstate\n",
    "@show optimizer.workspace.iter\n",
    "@show result.objval"
   ],
   "metadata": {},
   "execution_count": 8
  },
  {
   "cell_type": "markdown",
   "source": [
    "### (Optional) Visualize the result using Makie.jl\n",
    "Need to run `using Pkg; Pkg.add(Makie)` first\n",
    "```julia\n",
    "using TopOpt.TopOptProblems.Visualization: visualize\n",
    "fig = visualize(problem; topology = result.topology)\n",
    "Makie.display(fig)\n",
    "```"
   ],
   "metadata": {}
  },
  {
   "cell_type": "markdown",
   "source": [
    "---\n",
    "\n",
    "*This notebook was generated using [Literate.jl](https://github.com/fredrikekre/Literate.jl).*"
   ],
   "metadata": {}
  }
 ],
 "nbformat_minor": 3,
 "metadata": {
  "language_info": {
   "file_extension": ".jl",
   "mimetype": "application/julia",
   "name": "julia",
   "version": "1.6.4"
  },
  "kernelspec": {
   "name": "julia-1.6",
   "display_name": "Julia 1.6.4",
   "language": "julia"
  }
 },
 "nbformat": 4
}
