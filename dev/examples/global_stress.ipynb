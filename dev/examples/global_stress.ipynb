{
 "cells": [
  {
   "cell_type": "markdown",
   "source": [
    "# Global stress objective example"
   ],
   "metadata": {}
  },
  {
   "cell_type": "markdown",
   "source": [
    "## Commented Program\n",
    "\n",
    "What follows is a program spliced with comments."
   ],
   "metadata": {}
  },
  {
   "outputs": [],
   "cell_type": "code",
   "source": [
    "using TopOpt, LinearAlgebra"
   ],
   "metadata": {},
   "execution_count": 1
  },
  {
   "cell_type": "markdown",
   "source": [
    "### Define the problem"
   ],
   "metadata": {}
  },
  {
   "outputs": [
    {
     "name": "stdout",
     "output_type": "stream",
     "text": [
      "Cantilever beam\n"
     ]
    },
    {
     "output_type": "execute_result",
     "data": {
      "text/plain": ""
     },
     "metadata": {},
     "execution_count": 2
    }
   ],
   "cell_type": "code",
   "source": [
    "E = 1.0 # Young’s modulus\n",
    "v = 0.3 # Poisson’s ratio\n",
    "f = 1.0 # downward force\n",
    "rmin = 3.0 # filter radius\n",
    "\n",
    "problems = Any[\n",
    "    PointLoadCantilever(Val{:Linear}, (60, 20), (1.0, 1.0), E, v, f),\n",
    "    HalfMBB(Val{:Linear}, (60, 20), (1.0, 1.0), E, v, f),\n",
    "]\n",
    "problem_names = [\"Cantilever beam\", \"Half MBB beam\", \"L-beam\", \"Tie-beam\"]\n",
    "\n",
    "i = 1\n",
    "println(problem_names[i])\n",
    "problem = problems[i]"
   ],
   "metadata": {},
   "execution_count": 2
  },
  {
   "cell_type": "markdown",
   "source": [
    "### Parameter settings"
   ],
   "metadata": {}
  },
  {
   "outputs": [
    {
     "output_type": "execute_result",
     "data": {
      "text/plain": "PowerPenalty{Float64}(1.0)"
     },
     "metadata": {},
     "execution_count": 3
    }
   ],
   "cell_type": "code",
   "source": [
    "V = 0.5 # volume fraction\n",
    "xmin = 0.001 # minimum density\n",
    "steps = 40 # maximum number of penalty steps, delta_p0 = 0.1\n",
    "convcriteria = Nonconvex.KKTCriteria()\n",
    "penalty = TopOpt.PowerPenalty(1.0)"
   ],
   "metadata": {},
   "execution_count": 3
  },
  {
   "cell_type": "markdown",
   "source": [
    "### Define a finite element solver"
   ],
   "metadata": {}
  },
  {
   "outputs": [
    {
     "output_type": "execute_result",
     "data": {
      "text/plain": ""
     },
     "metadata": {},
     "execution_count": 4
    }
   ],
   "cell_type": "code",
   "source": [
    "solver = FEASolver(Direct, problem; xmin=xmin, penalty=penalty)"
   ],
   "metadata": {},
   "execution_count": 4
  },
  {
   "cell_type": "markdown",
   "source": [
    "### Define **stress** objective\n",
    "Notice that gradient is derived automatically by automatic differentiation (Zygote.jl)!"
   ],
   "metadata": {}
  },
  {
   "outputs": [
    {
     "output_type": "execute_result",
     "data": {
      "text/plain": "#3 (generic function with 1 method)"
     },
     "metadata": {},
     "execution_count": 5
    }
   ],
   "cell_type": "code",
   "source": [
    "stress = TopOpt.von_mises_stress_function(solver)\n",
    "filter = if problem isa TopOptProblems.TieBeam\n",
    "    identity\n",
    "else\n",
    "    DensityFilter(solver; rmin=rmin)\n",
    "end\n",
    "volfrac = TopOpt.Volume(solver)\n",
    "\n",
    "x0 = ones(length(solver.vars))\n",
    "threshold = 3 * maximum(stress(filter(PseudoDensities(x0))))\n",
    "\n",
    "obj = x -> volfrac(filter(PseudoDensities(x)))\n",
    "constr = x -> norm(stress(filter(PseudoDensities(x))), 5) - threshold"
   ],
   "metadata": {},
   "execution_count": 5
  },
  {
   "cell_type": "markdown",
   "source": [
    "### Define subproblem optimizer"
   ],
   "metadata": {}
  },
  {
   "outputs": [
    {
     "name": "stdout",
     "output_type": "stream",
     "text": [
      "[ Info:   iter       obj      Δobj  violation  kkt_residual  \n",
      "[ Info:      0   5.0e-01       Inf   8.0e+01   8.0e+01\n",
      "[ Info:      1   7.9e-01   2.9e-01   0.0e+00   8.8e-02\n",
      "[ Info:      2   7.0e-01   9.3e-02   0.0e+00   9.2e-03\n",
      "[ Info:      3   6.7e-01   3.4e-02   0.0e+00   2.2e-02\n",
      "[ Info:      4   6.2e-01   4.1e-02   2.7e+00   2.5e-02\n",
      "[ Info:      5   6.6e-01   3.0e-02   4.2e-02   2.0e-03\n",
      "[ Info:      6   6.5e-01   2.4e-03   0.0e+00   2.6e-03\n",
      "[ Info:      7   6.5e-01   2.5e-03   0.0e+00   9.7e-04\n",
      "[ Info:      8   6.5e-01   1.4e-03   0.0e+00   2.1e-03\n",
      "[ Info:      9   6.5e-01   1.1e-03   1.9e-03   2.2e-03\n",
      "[ Info:     10   6.5e-01   1.1e-03   7.9e-02   4.3e-03\n",
      "[ Info:     11   6.5e-01   1.1e-04   0.0e+00   2.2e-03\n",
      "[ Info:     12   6.5e-01   7.9e-04   4.8e-02   5.1e-03\n",
      "[ Info:     13   6.5e-01   1.3e-04   0.0e+00   1.0e-03\n",
      "[ Info:     14   6.5e-01   3.1e-04   0.0e+00   8.2e-04\n",
      "[ Info:     15   6.4e-01   2.3e-04   0.0e+00   4.2e-04\n",
      "[ Info:     16   6.4e-01   2.3e-04   0.0e+00   4.9e-04\n",
      "[ Info:     17   6.4e-01   2.2e-04   0.0e+00   6.1e-04\n",
      "[ Info:     18   6.4e-01   2.1e-04   0.0e+00   5.7e-04\n",
      "[ Info:     19   6.4e-01   1.6e-04   0.0e+00   6.0e-04\n",
      "[ Info:     20   6.4e-01   1.5e-04   0.0e+00   5.8e-04\n",
      "[ Info:     21   6.4e-01   1.4e-04   0.0e+00   5.8e-04\n",
      "[ Info:     22   6.4e-01   1.4e-04   0.0e+00   5.5e-04\n",
      "[ Info:     23   6.4e-01   1.7e-04   2.1e-03   5.3e-04\n",
      "[ Info:     24   6.4e-01   2.5e-04   2.3e-02   6.1e-04\n",
      "[ Info:     25   6.4e-01   7.0e-04   1.1e-01   1.6e-03\n",
      "[ Info:     26   6.4e-01   1.5e-03   2.7e-01   3.7e-03\n",
      "[ Info:     27   6.4e-01   5.1e-04   2.7e-01   3.8e-03\n",
      "[ Info:     28   6.4e-01   1.2e-03   1.2e-01   1.7e-03\n",
      "[ Info:     29   6.4e-01   1.1e-03   2.1e-02   3.0e-04\n",
      "[ Info:     30   6.4e-01   1.4e-04   6.2e-03   3.3e-04\n",
      "[ Info:     31   6.4e-01   3.3e-05   4.8e-04   3.4e-04\n",
      "[ Info:     32   6.4e-01   2.1e-05   0.0e+00   3.9e-04\n",
      "[ Info:     33   6.4e-01   4.3e-05   0.0e+00   4.4e-04\n",
      "[ Info:     34   6.4e-01   4.8e-05   0.0e+00   1.7e-04\n",
      "[ Info:     35   6.4e-01   2.3e-05   0.0e+00   7.4e-05\n",
      "obj(r.minimizer) = 0.6429875290054756\n",
      "constr(r.minimizer) = -0.0002509093216360725\n"
     ]
    },
    {
     "output_type": "execute_result",
     "data": {
      "text/plain": "-0.0002509093216360725"
     },
     "metadata": {},
     "execution_count": 6
    }
   ],
   "cell_type": "code",
   "source": [
    "N = length(solver.vars)\n",
    "x0 = fill(0.5, N)\n",
    "\n",
    "options = MMAOptions(; maxiter=2000, tol=Nonconvex.Tolerance(; kkt=1e-4), convcriteria)\n",
    "model = Model(obj)\n",
    "addvar!(model, zeros(N), ones(N))\n",
    "add_ineq_constraint!(model, constr)\n",
    "alg = MMA87()\n",
    "r = optimize(model, alg, x0; options)\n",
    "\n",
    "@show obj(r.minimizer)\n",
    "@show constr(r.minimizer)"
   ],
   "metadata": {},
   "execution_count": 6
  },
  {
   "cell_type": "markdown",
   "source": [
    "### (Optional) Visualize the result using Makie.jl\n",
    "Need to run `using Pkg; Pkg.add(Makie)` first\n",
    "```julia\n",
    "using TopOpt.TopOptProblems.Visualization: visualize\n",
    "fig = visualize(problem; topology = r.minimizer)\n",
    "Makie.display(fig)\n",
    "```"
   ],
   "metadata": {}
  },
  {
   "cell_type": "markdown",
   "source": [
    "---\n",
    "\n",
    "*This notebook was generated using [Literate.jl](https://github.com/fredrikekre/Literate.jl).*"
   ],
   "metadata": {}
  }
 ],
 "nbformat_minor": 3,
 "metadata": {
  "language_info": {
   "file_extension": ".jl",
   "mimetype": "application/julia",
   "name": "julia",
   "version": "1.8.4"
  },
  "kernelspec": {
   "name": "julia-1.8",
   "display_name": "Julia 1.8.4",
   "language": "julia"
  }
 },
 "nbformat": 4
}
