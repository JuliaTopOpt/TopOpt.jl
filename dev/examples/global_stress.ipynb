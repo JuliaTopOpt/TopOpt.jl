{
 "cells": [
  {
   "cell_type": "markdown",
   "source": [
    "# Global stress objective example"
   ],
   "metadata": {}
  },
  {
   "cell_type": "markdown",
   "source": [
    "## Commented Program\n",
    "\n",
    "What follows is a program spliced with comments."
   ],
   "metadata": {}
  },
  {
   "outputs": [],
   "cell_type": "code",
   "source": [
    "using TopOpt, LinearAlgebra"
   ],
   "metadata": {},
   "execution_count": 1
  },
  {
   "cell_type": "markdown",
   "source": [
    "### Define the problem"
   ],
   "metadata": {}
  },
  {
   "outputs": [
    {
     "name": "stdout",
     "output_type": "stream",
     "text": [
      "Cantilever beam\n"
     ]
    },
    {
     "output_type": "execute_result",
     "data": {
      "text/plain": ""
     },
     "metadata": {},
     "execution_count": 2
    }
   ],
   "cell_type": "code",
   "source": [
    "E = 1.0 # Young’s modulus\n",
    "v = 0.3 # Poisson’s ratio\n",
    "f = 1.0 # downward force\n",
    "rmin = 3.0 # filter radius\n",
    "\n",
    "problems = Any[\n",
    "    PointLoadCantilever(Val{:Linear}, (60, 20), (1.0, 1.0), E, v, f),\n",
    "    HalfMBB(Val{:Linear}, (60, 20), (1.0, 1.0), E, v, f),\n",
    "]\n",
    "problem_names = [\n",
    "    \"Cantilever beam\",\n",
    "    \"Half MBB beam\",\n",
    "    \"L-beam\",\n",
    "    \"Tie-beam\",\n",
    "]\n",
    "\n",
    "i = 1\n",
    "println(problem_names[i])\n",
    "problem = problems[i]"
   ],
   "metadata": {},
   "execution_count": 2
  },
  {
   "cell_type": "markdown",
   "source": [
    "### Parameter settings"
   ],
   "metadata": {}
  },
  {
   "outputs": [
    {
     "output_type": "execute_result",
     "data": {
      "text/plain": "PowerPenalty{Float64}(1.0)"
     },
     "metadata": {},
     "execution_count": 3
    }
   ],
   "cell_type": "code",
   "source": [
    "V = 0.5 # volume fraction\n",
    "xmin = 0.001 # minimum density\n",
    "steps = 40 # maximum number of penalty steps, delta_p0 = 0.1\n",
    "convcriteria = Nonconvex.KKTCriteria()\n",
    "penalty = TopOpt.PowerPenalty(1.0)"
   ],
   "metadata": {},
   "execution_count": 3
  },
  {
   "cell_type": "markdown",
   "source": [
    "### Define a finite element solver"
   ],
   "metadata": {}
  },
  {
   "outputs": [
    {
     "output_type": "execute_result",
     "data": {
      "text/plain": ""
     },
     "metadata": {},
     "execution_count": 4
    }
   ],
   "cell_type": "code",
   "source": [
    "solver = FEASolver(\n",
    "    Displacement, Direct, problem, xmin = xmin, penalty = penalty,\n",
    ")"
   ],
   "metadata": {},
   "execution_count": 4
  },
  {
   "cell_type": "markdown",
   "source": [
    "### Define **stress** objective\n",
    "Notice that gradient is derived automatically by automatic differentiation (Zygote.jl)!"
   ],
   "metadata": {}
  },
  {
   "outputs": [
    {
     "output_type": "execute_result",
     "data": {
      "text/plain": "MMAOptions{Float64, Tolerance{Float64, Float64, Float64, Float64}, Optim.Options{Float64, Nothing}}\n  maxiter: Int64 2000\n  outer_maxiter: Int64 100000000\n  maxinner: Int64 10\n  tol: Tolerance{Float64, Float64, Float64, Float64}\n  s_init: Float64 0.5\n  s_incr: Float64 1.2\n  s_decr: Float64 0.7\n  store_trace: Bool false\n  show_trace: Bool false\n  auto_scale: Bool false\n  keep_best: Bool false\n  dual_options: Optim.Options{Float64, Nothing}\n"
     },
     "metadata": {},
     "execution_count": 5
    }
   ],
   "cell_type": "code",
   "source": [
    "stress = TopOpt.MicroVonMisesStress(solver)\n",
    "filter = if problem isa TopOptProblems.TieBeam\n",
    "    identity\n",
    "else\n",
    "    DensityFilter(solver, rmin = rmin)\n",
    "end\n",
    "volfrac = TopOpt.Volume(problem, solver)\n",
    "\n",
    "obj = x -> volfrac(filter(x))\n",
    "constr = x -> norm(stress(filter(x)), 5) - 1.0\n",
    "options = Nonconvex.MMAOptions(\n",
    "    maxiter=2000, tol = Nonconvex.Tolerance(kkt = 1e-4),\n",
    ")"
   ],
   "metadata": {},
   "execution_count": 5
  },
  {
   "cell_type": "markdown",
   "source": [
    "### Define subproblem optimizer"
   ],
   "metadata": {}
  },
  {
   "outputs": [
    {
     "output_type": "execute_result",
     "data": {
      "text/plain": ""
     },
     "metadata": {},
     "execution_count": 6
    }
   ],
   "cell_type": "code",
   "source": [
    "x0 = fill(1.0, length(solver.vars))\n",
    "optimizer = Optimizer(\n",
    "    obj, constr, x0, Nonconvex.MMA87(),\n",
    "    options = options, convcriteria = convcriteria,\n",
    ")"
   ],
   "metadata": {},
   "execution_count": 6
  },
  {
   "cell_type": "markdown",
   "source": [
    "### Define continuation SIMP optimizer"
   ],
   "metadata": {}
  },
  {
   "outputs": [
    {
     "output_type": "execute_result",
     "data": {
      "text/plain": ""
     },
     "metadata": {},
     "execution_count": 7
    }
   ],
   "cell_type": "code",
   "source": [
    "simp = SIMP(optimizer, solver, 3.0)"
   ],
   "metadata": {},
   "execution_count": 7
  },
  {
   "cell_type": "markdown",
   "source": [
    "### Solve"
   ],
   "metadata": {}
  },
  {
   "outputs": [
    {
     "name": "stdout",
     "output_type": "stream",
     "text": [
      "result.convstate = Nonconvex.ConvergenceState{Float64}\n",
      "  Δx: Float64 1.0\n",
      "  Δf: Float64 0.009376348797662248\n",
      "  relΔf: Float64 0.012225217366926206\n",
      "  kkt_residual: Float64 0.2641764824638\n",
      "  ipopt_residual: Float64 0.2641764824638\n",
      "  infeas: Float64 0.2641764824638\n",
      "  x_converged: Bool false\n",
      "  fabs_converged: Bool false\n",
      "  frel_converged: Bool false\n",
      "  kkt_converged: Bool false\n",
      "  ipopt_converged: Bool false\n",
      "  infeas_converged: Bool false\n",
      "  f_increased: Bool true\n",
      "  converged: Bool false\n",
      "\n",
      "optimizer.workspace.iter = 2000\n",
      "result.objval = 0.7669578596495785\n"
     ]
    },
    {
     "output_type": "execute_result",
     "data": {
      "text/plain": "0.7669578596495785"
     },
     "metadata": {},
     "execution_count": 8
    }
   ],
   "cell_type": "code",
   "source": [
    "result = simp(x0)\n",
    "\n",
    "@show result.convstate\n",
    "@show optimizer.workspace.iter\n",
    "@show result.objval"
   ],
   "metadata": {},
   "execution_count": 8
  },
  {
   "cell_type": "markdown",
   "source": [
    "### (Optional) Visualize the result using Makie.jl\n",
    "Need to run `using Pkg; Pkg.add(Makie)` first\n",
    "```julia\n",
    "using TopOpt.TopOptProblems.Visualization: visualize\n",
    "fig = visualize(problem; topology = result.topology)\n",
    "Makie.display(fig)\n",
    "```"
   ],
   "metadata": {}
  },
  {
   "cell_type": "markdown",
   "source": [
    "---\n",
    "\n",
    "*This notebook was generated using [Literate.jl](https://github.com/fredrikekre/Literate.jl).*"
   ],
   "metadata": {}
  }
 ],
 "nbformat_minor": 3,
 "metadata": {
  "language_info": {
   "file_extension": ".jl",
   "mimetype": "application/julia",
   "name": "julia",
   "version": "1.6.1"
  },
  "kernelspec": {
   "name": "julia-1.6",
   "display_name": "Julia 1.6.1",
   "language": "julia"
  }
 },
 "nbformat": 4
}
