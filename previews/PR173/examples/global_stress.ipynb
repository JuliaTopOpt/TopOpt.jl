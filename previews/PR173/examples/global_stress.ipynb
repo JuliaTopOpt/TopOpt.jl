{
 "cells": [
  {
   "cell_type": "markdown",
   "source": [
    "# Global stress objective example"
   ],
   "metadata": {}
  },
  {
   "cell_type": "markdown",
   "source": [
    "## Commented Program\n",
    "\n",
    "What follows is a program spliced with comments."
   ],
   "metadata": {}
  },
  {
   "outputs": [],
   "cell_type": "code",
   "source": [
    "using TopOpt, LinearAlgebra"
   ],
   "metadata": {},
   "execution_count": 1
  },
  {
   "cell_type": "markdown",
   "source": [
    "### Define the problem"
   ],
   "metadata": {}
  },
  {
   "outputs": [
    {
     "name": "stdout",
     "output_type": "stream",
     "text": [
      "Cantilever beam\n"
     ]
    },
    {
     "output_type": "execute_result",
     "data": {
      "text/plain": ""
     },
     "metadata": {},
     "execution_count": 2
    }
   ],
   "cell_type": "code",
   "source": [
    "E = 1.0 # Young’s modulus\n",
    "v = 0.3 # Poisson’s ratio\n",
    "f = 1.0 # downward force\n",
    "rmin = 3.0 # filter radius\n",
    "\n",
    "problems = Any[\n",
    "    PointLoadCantilever(Val{:Linear}, (60, 20), (1.0, 1.0), E, v, f),\n",
    "    HalfMBB(Val{:Linear}, (60, 20), (1.0, 1.0), E, v, f),\n",
    "]\n",
    "problem_names = [\"Cantilever beam\", \"Half MBB beam\", \"L-beam\", \"Tie-beam\"]\n",
    "\n",
    "i = 1\n",
    "println(problem_names[i])\n",
    "problem = problems[i]"
   ],
   "metadata": {},
   "execution_count": 2
  },
  {
   "cell_type": "markdown",
   "source": [
    "### Parameter settings"
   ],
   "metadata": {}
  },
  {
   "outputs": [
    {
     "output_type": "execute_result",
     "data": {
      "text/plain": "PowerPenalty{Float64}(1.0)"
     },
     "metadata": {},
     "execution_count": 3
    }
   ],
   "cell_type": "code",
   "source": [
    "V = 0.5 # volume fraction\n",
    "xmin = 0.001 # minimum density\n",
    "steps = 40 # maximum number of penalty steps, delta_p0 = 0.1\n",
    "convcriteria = Nonconvex.KKTCriteria()\n",
    "penalty = TopOpt.PowerPenalty(1.0)"
   ],
   "metadata": {},
   "execution_count": 3
  },
  {
   "cell_type": "markdown",
   "source": [
    "### Define a finite element solver"
   ],
   "metadata": {}
  },
  {
   "outputs": [
    {
     "output_type": "execute_result",
     "data": {
      "text/plain": ""
     },
     "metadata": {},
     "execution_count": 4
    }
   ],
   "cell_type": "code",
   "source": [
    "solver = FEASolver(Direct, problem; xmin=xmin, penalty=penalty)"
   ],
   "metadata": {},
   "execution_count": 4
  },
  {
   "cell_type": "markdown",
   "source": [
    "### Define **stress** objective\n",
    "Notice that gradient is derived automatically by automatic differentiation (Zygote.jl)!"
   ],
   "metadata": {}
  },
  {
   "outputs": [
    {
     "output_type": "execute_result",
     "data": {
      "text/plain": "#3 (generic function with 1 method)"
     },
     "metadata": {},
     "execution_count": 5
    }
   ],
   "cell_type": "code",
   "source": [
    "stress = TopOpt.von_mises_stress_function(solver)\n",
    "filter = if problem isa TopOptProblems.TieBeam\n",
    "    identity\n",
    "else\n",
    "    DensityFilter(solver; rmin=rmin)\n",
    "end\n",
    "volfrac = TopOpt.Volume(solver)\n",
    "\n",
    "x0 = ones(length(solver.vars))\n",
    "threshold = 3 * maximum(stress(filter(PseudoDensities(x0))))\n",
    "\n",
    "obj = x -> volfrac(filter(PseudoDensities(x)))\n",
    "constr = x -> norm(stress(filter(PseudoDensities(x))), 5) - threshold"
   ],
   "metadata": {},
   "execution_count": 5
  },
  {
   "cell_type": "markdown",
   "source": [
    "### Define subproblem optimizer"
   ],
   "metadata": {}
  },
  {
   "outputs": [
    {
     "name": "stdout",
     "output_type": "stream",
     "text": [
      "[ Info:   iter       obj      Δobj  violation  kkt_residual  \n",
      "[ Info:      0   5.0e-01       Inf   1.3e+01   1.3e+01\n",
      "[ Info:      1   6.9e-01   1.9e-01   0.0e+00   2.5e-02\n",
      "[ Info:      2   6.0e-01   8.9e-02   0.0e+00   7.5e-03\n",
      "[ Info:      3   5.7e-01   3.2e-02   0.0e+00   1.8e-03\n",
      "[ Info:      4   5.6e-01   1.1e-02   0.0e+00   1.7e-03\n",
      "[ Info:      5   5.5e-01   5.2e-03   3.2e-03   6.2e-04\n",
      "[ Info:      6   5.5e-01   2.0e-03   0.0e+00   5.1e-04\n",
      "[ Info:      7   5.5e-01   1.5e-03   0.0e+00   3.6e-04\n",
      "[ Info:      8   5.5e-01   1.1e-03   0.0e+00   3.6e-04\n",
      "[ Info:      9   5.5e-01   7.9e-04   0.0e+00   2.6e-04\n",
      "[ Info:     10   5.5e-01   6.0e-04   0.0e+00   2.2e-04\n",
      "[ Info:     11   5.5e-01   4.5e-04   0.0e+00   2.4e-04\n",
      "[ Info:     12   5.5e-01   3.7e-04   0.0e+00   2.6e-04\n",
      "[ Info:     13   5.5e-01   3.2e-04   0.0e+00   1.4e-04\n",
      "[ Info:     14   5.5e-01   2.6e-04   0.0e+00   1.7e-04\n",
      "[ Info:     15   5.5e-01   2.3e-04   0.0e+00   2.0e-04\n",
      "[ Info:     16   5.5e-01   2.2e-04   0.0e+00   1.6e-04\n",
      "[ Info:     17   5.5e-01   2.3e-04   1.7e-03   1.8e-04\n",
      "[ Info:     18   5.4e-01   4.7e-04   2.0e-02   9.5e-04\n",
      "[ Info:     19   5.4e-01   2.5e-03   1.4e-01   6.8e-03\n",
      "[ Info:     20   5.3e-01   9.9e-03   9.8e-01   4.3e-02\n",
      "[ Info:     21   3.2e-01   2.1e-01   2.7e+01   3.2e-01\n",
      "[ Info:     22   1.0e-01   2.2e-01   2.6e+02   1.0e-01\n",
      "[ Info:     23   9.6e-03   9.5e-02   6.1e+03   6.5e-02\n",
      "[ Info:     24   6.6e-04   8.9e-03   1.5e+04   1.2e-03\n",
      "[ Info:     25   4.7e-04   2.0e-04   1.4e+04   8.9e-04\n",
      "[ Info:     26   3.9e-04   7.8e-05   1.4e+04   8.5e-04\n",
      "[ Info:     27   2.5e-04   1.4e-04   1.5e+04   8.9e-04\n",
      "[ Info:     28   2.2e-04   2.9e-05   1.4e+04   8.5e-04\n",
      "[ Info:     29   1.3e-04   9.1e-05   1.5e+04   9.2e-04\n",
      "[ Info:     30   1.8e-04   5.1e-05   1.4e+04   8.7e-04\n",
      "[ Info:     31   1.4e-04   3.5e-05   1.4e+04   9.2e-04\n",
      "[ Info:     32   1.9e-04   5.1e-05   1.3e+04   8.3e-04\n",
      "[ Info:     33   1.4e-04   5.5e-05   1.4e+04   8.9e-04\n",
      "[ Info:     34   1.9e-04   4.9e-05   1.3e+04   8.6e-04\n",
      "[ Info:     35   1.5e-04   3.8e-05   1.4e+04   9.2e-04\n",
      "[ Info:     36   1.9e-04   4.5e-05   1.3e+04   8.7e-04\n",
      "[ Info:     37   1.7e-04   2.6e-05   1.4e+04   9.4e-04\n",
      "[ Info:     38   2.0e-04   3.3e-05   1.3e+04   8.7e-04\n",
      "[ Info:     39   1.8e-04   2.4e-05   1.4e+04   9.4e-04\n",
      "[ Info:     40   2.1e-04   3.5e-05   1.3e+04   8.8e-04\n",
      "[ Info:     41   1.8e-04   3.0e-05   1.4e+04   9.3e-04\n",
      "[ Info:     42   2.3e-04   4.6e-05   1.3e+04   8.7e-04\n",
      "[ Info:     43   2.0e-04   2.6e-05   1.3e+04   9.0e-04\n",
      "[ Info:     44   2.4e-04   4.3e-05   1.3e+04   9.0e-04\n",
      "[ Info:     45   1.8e-04   6.3e-05   1.3e+04   9.0e-04\n",
      "[ Info:     46   2.4e-04   6.1e-05   1.3e+04   1.1e-03\n",
      "[ Info:     47   1.7e-04   7.0e-05   1.3e+04   8.9e-04\n",
      "[ Info:     48   2.5e-04   8.0e-05   1.3e+04   1.2e-03\n",
      "[ Info:     49   1.9e-04   6.0e-05   1.3e+04   8.9e-04\n",
      "[ Info:     50   2.7e-04   7.9e-05   1.3e+04   1.2e-03\n",
      "[ Info:     51   2.1e-04   5.9e-05   1.3e+04   9.0e-04\n",
      "[ Info:     52   2.9e-04   7.6e-05   1.2e+04   1.3e-03\n",
      "[ Info:     53   2.2e-04   6.6e-05   1.2e+04   8.6e-04\n",
      "[ Info:     54   3.0e-04   8.0e-05   1.2e+04   1.4e-03\n",
      "[ Info:     55   2.3e-04   6.8e-05   1.2e+04   8.3e-04\n",
      "[ Info:     56   3.2e-04   8.3e-05   1.2e+04   1.5e-03\n",
      "[ Info:     57   2.5e-04   6.9e-05   1.2e+04   8.3e-04\n",
      "[ Info:     58   3.3e-04   8.6e-05   1.2e+04   1.4e-03\n",
      "[ Info:     59   2.6e-04   7.3e-05   1.2e+04   8.2e-04\n",
      "[ Info:     60   3.5e-04   9.0e-05   1.2e+04   1.4e-03\n",
      "[ Info:     61   2.8e-04   7.5e-05   1.1e+04   8.0e-04\n",
      "[ Info:     62   3.7e-04   9.3e-05   1.2e+04   1.5e-03\n",
      "[ Info:     63   2.9e-04   7.7e-05   1.1e+04   8.1e-04\n",
      "[ Info:     64   3.9e-04   9.5e-05   1.2e+04   1.6e-03\n",
      "[ Info:     65   3.1e-04   8.1e-05   1.1e+04   8.4e-04\n",
      "[ Info:     66   4.1e-04   1.0e-04   1.2e+04   1.8e-03\n",
      "[ Info:     67   3.1e-04   9.7e-05   1.1e+04   8.7e-04\n",
      "[ Info:     68   4.3e-04   1.2e-04   1.2e+04   1.8e-03\n",
      "[ Info:     69   3.4e-04   8.8e-05   1.1e+04   8.7e-04\n",
      "[ Info:     70   4.5e-04   1.1e-04   1.1e+04   1.9e-03\n",
      "[ Info:     71   3.8e-04   6.6e-05   1.1e+04   9.3e-04\n",
      "[ Info:     72   4.7e-04   8.6e-05   1.1e+04   1.9e-03\n",
      "[ Info:     73   4.2e-04   5.1e-05   1.0e+04   1.0e-03\n",
      "[ Info:     74   4.9e-04   7.3e-05   1.1e+04   1.7e-03\n",
      "[ Info:     75   4.4e-04   5.0e-05   1.0e+04   1.0e-03\n",
      "[ Info:     76   5.2e-04   8.1e-05   1.0e+04   1.4e-03\n",
      "[ Info:     77   4.9e-04   3.0e-05   9.7e+03   1.2e-03\n",
      "[ Info:     78   5.5e-04   6.3e-05   1.0e+04   1.5e-03\n",
      "[ Info:     79   5.5e-04   2.0e-06   9.2e+03   1.3e-03\n",
      "[ Info:     80   5.9e-04   3.3e-05   9.8e+03   1.6e-03\n",
      "[ Info:     81   6.0e-04   1.6e-05   8.8e+03   1.3e-03\n",
      "[ Info:     82   6.2e-04   1.5e-05   9.6e+03   1.6e-03\n",
      "[ Info:     83   6.4e-04   2.6e-05   8.6e+03   1.3e-03\n",
      "[ Info:     84   6.5e-04   1.0e-05   9.3e+03   1.7e-03\n",
      "[ Info:     85   6.8e-04   2.9e-05   8.4e+03   1.3e-03\n",
      "[ Info:     86   6.9e-04   1.0e-05   9.1e+03   1.7e-03\n",
      "[ Info:     87   7.3e-04   3.4e-05   8.1e+03   1.3e-03\n",
      "[ Info:     88   7.3e-04   6.4e-06   8.8e+03   1.6e-03\n",
      "[ Info:     89   7.7e-04   3.2e-05   7.9e+03   1.3e-03\n",
      "[ Info:     90   7.7e-04   8.3e-06   8.6e+03   1.6e-03\n",
      "[ Info:     91   8.0e-04   2.5e-05   7.8e+03   1.2e-03\n",
      "[ Info:     92   8.2e-04   1.7e-05   8.4e+03   1.6e-03\n",
      "[ Info:     93   8.4e-04   2.3e-05   7.6e+03   1.2e-03\n",
      "[ Info:     94   8.6e-04   1.8e-05   8.2e+03   1.6e-03\n",
      "[ Info:     95   8.8e-04   2.0e-05   7.4e+03   1.2e-03\n",
      "[ Info:     96   9.0e-04   2.2e-05   7.9e+03   1.6e-03\n",
      "[ Info:     97   9.5e-04   4.9e-05   7.1e+03   1.3e-03\n",
      "[ Info:     98   9.4e-04   9.4e-06   7.8e+03   1.6e-03\n",
      "[ Info:     99   1.0e-03   6.6e-05   6.8e+03   1.2e-03\n",
      "[ Info:    100   9.8e-04   2.4e-05   7.7e+03   1.6e-03\n",
      "[ Info:    101   1.0e-03   6.8e-05   6.7e+03   1.1e-03\n",
      "[ Info:    102   1.0e-03   2.2e-05   7.5e+03   1.6e-03\n",
      "[ Info:    103   1.1e-03   6.9e-05   6.5e+03   1.1e-03\n",
      "[ Info:    104   1.1e-03   1.8e-05   7.3e+03   1.6e-03\n",
      "[ Info:    105   1.2e-03   9.0e-05   6.2e+03   1.1e-03\n",
      "[ Info:    106   1.1e-03   4.7e-05   7.1e+03   1.6e-03\n",
      "[ Info:    107   1.2e-03   1.3e-04   6.0e+03   1.1e-03\n",
      "[ Info:    108   1.2e-03   7.5e-05   7.0e+03   1.7e-03\n",
      "[ Info:    109   1.3e-03   1.3e-04   5.8e+03   1.0e-03\n",
      "[ Info:    110   1.2e-03   8.0e-05   6.9e+03   1.8e-03\n",
      "[ Info:    111   1.3e-03   7.5e-05   5.7e+03   9.6e-04\n",
      "[ Info:    112   1.3e-03   1.6e-05   6.8e+03   1.9e-03\n",
      "[ Info:    113   1.2e-03   7.8e-05   5.9e+03   8.8e-04\n",
      "[ Info:    114   1.3e-03   1.3e-04   6.7e+03   2.6e-03\n",
      "[ Info:    115   1.1e-03   2.1e-04   6.1e+03   8.5e-04\n",
      "[ Info:    116   1.4e-03   2.6e-04   6.6e+03   2.5e-03\n",
      "[ Info:    117   1.2e-03   2.1e-04   6.1e+03   9.0e-04\n",
      "[ Info:    118   1.5e-03   3.0e-04   6.3e+03   2.5e-03\n",
      "[ Info:    119   1.2e-03   2.5e-04   5.9e+03   9.4e-04\n",
      "[ Info:    120   1.6e-03   3.5e-04   6.0e+03   2.5e-03\n",
      "[ Info:    121   1.3e-03   2.6e-04   5.8e+03   9.9e-04\n",
      "[ Info:    122   1.7e-03   3.7e-04   5.7e+03   2.6e-03\n",
      "[ Info:    123   1.3e-03   3.6e-04   5.7e+03   9.9e-04\n",
      "[ Info:    124   1.8e-03   4.7e-04   5.4e+03   2.3e-03\n",
      "[ Info:    125   1.4e-03   3.9e-04   5.7e+03   1.1e-03\n",
      "[ Info:    126   1.9e-03   5.0e-04   5.0e+03   2.2e-03\n",
      "[ Info:    127   1.4e-03   5.3e-04   5.8e+03   1.1e-03\n",
      "[ Info:    128   1.9e-03   5.3e-04   4.8e+03   2.1e-03\n",
      "[ Info:    129   1.4e-03   5.5e-04   6.0e+03   1.2e-03\n",
      "[ Info:    130   1.8e-03   4.0e-04   5.0e+03   1.6e-03\n",
      "[ Info:    131   1.5e-03   2.8e-04   5.9e+03   1.3e-03\n",
      "[ Info:    132   1.8e-03   2.7e-04   5.0e+03   1.6e-03\n",
      "[ Info:    133   1.6e-03   1.7e-04   5.7e+03   1.4e-03\n",
      "[ Info:    134   1.8e-03   2.3e-04   4.8e+03   1.7e-03\n",
      "[ Info:    135   1.7e-03   1.2e-04   5.4e+03   1.5e-03\n",
      "[ Info:    136   1.9e-03   2.4e-04   4.6e+03   1.9e-03\n",
      "[ Info:    137   1.8e-03   1.0e-04   5.1e+03   1.5e-03\n",
      "[ Info:    138   2.1e-03   2.4e-04   4.4e+03   2.1e-03\n",
      "[ Info:    139   2.0e-03   1.1e-04   4.8e+03   1.6e-03\n",
      "[ Info:    140   2.2e-03   2.4e-04   4.3e+03   2.3e-03\n",
      "[ Info:    141   2.1e-03   9.8e-05   4.6e+03   1.6e-03\n",
      "[ Info:    142   2.3e-03   2.1e-04   4.2e+03   2.4e-03\n",
      "[ Info:    143   2.2e-03   7.6e-05   4.3e+03   1.7e-03\n",
      "[ Info:    144   2.5e-03   2.2e-04   4.1e+03   2.5e-03\n",
      "[ Info:    145   2.4e-03   1.0e-04   4.1e+03   1.7e-03\n",
      "[ Info:    146   2.6e-03   2.0e-04   3.9e+03   2.0e-03\n",
      "[ Info:    147   2.5e-03   5.0e-05   4.0e+03   1.9e-03\n",
      "[ Info:    148   2.5e-03   2.4e-05   3.9e+03   1.8e-03\n",
      "[ Info:    149   2.7e-03   2.0e-04   3.8e+03   2.0e-03\n",
      "[ Info:    150   2.6e-03   1.4e-04   3.8e+03   1.9e-03\n",
      "[ Info:    151   2.9e-03   2.9e-04   3.7e+03   2.2e-03\n",
      "[ Info:    152   2.5e-03   3.5e-04   3.9e+03   1.9e-03\n",
      "[ Info:    153   3.0e-03   4.7e-04   3.6e+03   2.5e-03\n",
      "[ Info:    154   2.6e-03   4.3e-04   3.8e+03   1.9e-03\n",
      "[ Info:    155   3.2e-03   5.8e-04   3.5e+03   2.6e-03\n",
      "[ Info:    156   2.7e-03   4.8e-04   3.7e+03   2.0e-03\n",
      "[ Info:    157   3.3e-03   6.1e-04   3.3e+03   2.7e-03\n",
      "[ Info:    158   2.8e-03   4.9e-04   3.6e+03   2.1e-03\n",
      "[ Info:    159   3.4e-03   5.8e-04   3.3e+03   2.7e-03\n",
      "[ Info:    160   3.0e-03   4.2e-04   3.5e+03   2.2e-03\n",
      "[ Info:    161   3.4e-03   4.7e-04   3.2e+03   2.5e-03\n",
      "[ Info:    162   3.2e-03   2.7e-04   3.4e+03   2.4e-03\n",
      "[ Info:    163   3.6e-03   3.7e-04   3.1e+03   2.4e-03\n",
      "[ Info:    164   3.4e-03   1.5e-04   3.3e+03   2.6e-03\n",
      "[ Info:    165   3.7e-03   2.7e-04   3.0e+03   2.5e-03\n",
      "[ Info:    166   3.7e-03   5.0e-06   3.1e+03   2.9e-03\n",
      "[ Info:    167   3.8e-03   1.4e-04   2.9e+03   2.6e-03\n",
      "[ Info:    168   4.0e-03   1.7e-04   2.9e+03   3.1e-03\n",
      "[ Info:    169   4.0e-03   4.9e-06   2.7e+03   2.7e-03\n",
      "[ Info:    170   4.3e-03   2.9e-04   2.7e+03   3.4e-03\n",
      "[ Info:    171   4.3e-03   2.0e-05   2.5e+03   2.9e-03\n",
      "[ Info:    172   4.6e-03   3.5e-04   2.4e+03   3.7e-03\n",
      "[ Info:    173   4.7e-03   9.9e-05   2.2e+03   3.3e-03\n",
      "[ Info:    174   5.1e-03   3.8e-04   2.2e+03   4.1e-03\n",
      "[ Info:    175   5.4e-03   3.1e-04   1.9e+03   3.8e-03\n",
      "[ Info:    176   5.9e-03   4.6e-04   1.9e+03   4.8e-03\n",
      "[ Info:    177   7.0e-03   1.2e-03   1.4e+03   5.0e-03\n",
      "[ Info:    178   7.7e-03   6.3e-04   1.3e+03   6.5e-03\n",
      "[ Info:    179   1.2e-02   4.1e-03   8.8e+02   1.4e-02\n",
      "[ Info:    180   1.3e-02   1.2e-03   7.1e+02   1.2e-02\n",
      "[ Info:    181   2.0e-02   6.5e-03   5.8e+02   1.3e-02\n",
      "[ Info:    182   4.1e-02   2.1e-02   2.2e+02   1.5e-01\n",
      "[ Info:    183   9.4e-02   5.4e-02   1.0e+02   1.0e+02\n",
      "[ Info:    184   1.4e-01   4.4e-02   6.3e+01   6.3e+01\n",
      "[ Info:    185   1.8e-01   4.1e-02   4.5e+01   4.5e+01\n",
      "[ Info:    186   2.2e-01   3.8e-02   3.4e+01   3.4e+01\n",
      "[ Info:    187   2.6e-01   3.8e-02   2.7e+01   2.7e+01\n",
      "[ Info:    188   3.0e-01   4.0e-02   2.1e+01   2.1e+01\n",
      "[ Info:    189   3.4e-01   4.3e-02   1.7e+01   1.7e+01\n",
      "[ Info:    190   3.9e-01   4.7e-02   1.3e+01   1.3e+01\n",
      "[ Info:    191   4.4e-01   5.1e-02   9.8e+00   9.8e+00\n",
      "[ Info:    192   4.9e-01   5.8e-02   6.8e+00   6.8e+00\n",
      "[ Info:    193   5.5e-01   5.7e-02   4.4e+00   4.4e+00\n",
      "[ Info:    194   6.1e-01   6.1e-02   2.3e+00   2.3e+00\n",
      "[ Info:    195   6.8e-01   6.6e-02   5.4e-01   5.4e-01\n",
      "[ Info:    196   6.8e-01   5.2e-03   0.0e+00   2.4e-02\n",
      "[ Info:    197   6.5e-01   3.4e-02   0.0e+00   5.4e-03\n",
      "[ Info:    198   6.2e-01   2.8e-02   0.0e+00   4.6e-03\n",
      "[ Info:    199   6.0e-01   2.3e-02   0.0e+00   4.0e-03\n",
      "[ Info:    200   5.8e-01   1.8e-02   0.0e+00   3.2e-03\n",
      "[ Info:    201   5.7e-01   1.3e-02   0.0e+00   3.1e-03\n",
      "[ Info:    202   5.6e-01   8.9e-03   0.0e+00   1.9e-03\n",
      "[ Info:    203   5.5e-01   5.4e-03   3.0e-03   1.5e-03\n",
      "[ Info:    204   5.5e-01   2.4e-03   9.7e-04   8.2e-04\n",
      "[ Info:    205   5.5e-01   1.2e-03   0.0e+00   1.4e-03\n",
      "[ Info:    206   5.5e-01   1.1e-03   4.8e-03   5.4e-04\n",
      "[ Info:    207   5.5e-01   2.8e-04   0.0e+00   3.2e-04\n",
      "[ Info:    208   5.5e-01   4.5e-04   0.0e+00   3.1e-04\n",
      "[ Info:    209   5.5e-01   4.1e-04   0.0e+00   2.9e-04\n",
      "[ Info:    210   5.5e-01   3.7e-04   0.0e+00   2.4e-04\n",
      "[ Info:    211   5.5e-01   3.4e-04   0.0e+00   2.3e-04\n",
      "[ Info:    212   5.5e-01   3.1e-04   0.0e+00   2.5e-04\n",
      "[ Info:    213   5.5e-01   2.7e-04   0.0e+00   1.9e-04\n",
      "[ Info:    214   5.5e-01   2.5e-04   0.0e+00   2.1e-04\n",
      "[ Info:    215   5.5e-01   2.4e-04   0.0e+00   2.6e-04\n",
      "[ Info:    216   5.5e-01   2.3e-04   0.0e+00   2.7e-04\n",
      "[ Info:    217   5.5e-01   2.0e-04   0.0e+00   1.6e-04\n",
      "[ Info:    218   5.5e-01   2.1e-04   3.0e-03   1.8e-04\n",
      "[ Info:    219   5.4e-01   4.9e-04   2.3e-02   1.1e-03\n",
      "[ Info:    220   5.4e-01   2.1e-03   1.3e-01   6.2e-03\n",
      "[ Info:    221   5.3e-01   1.3e-02   6.0e-01   2.5e-02\n",
      "[ Info:    222   5.3e-01   1.8e-03   6.5e-01   2.6e-02\n",
      "[ Info:    223   5.0e-01   2.4e-02   1.4e+00   4.9e-02\n",
      "[ Info:    224   5.2e-01   1.6e-02   7.2e-01   2.5e-02\n",
      "[ Info:    225   5.4e-01   2.2e-02   1.0e-01   5.2e-03\n",
      "[ Info:    226   5.5e-01   4.1e-03   4.8e-04   2.4e-04\n",
      "[ Info:    227   5.5e-01   1.6e-04   0.0e+00   1.2e-04\n",
      "[ Info:    228   5.5e-01   1.2e-04   0.0e+00   1.2e-04\n",
      "[ Info:    229   5.5e-01   8.9e-05   0.0e+00   1.2e-04\n",
      "[ Info:    230   5.5e-01   7.9e-05   0.0e+00   1.3e-04\n",
      "[ Info:    231   5.4e-01   6.9e-05   0.0e+00   1.2e-04\n",
      "[ Info:    232   5.4e-01   5.8e-05   0.0e+00   9.6e-05\n",
      "obj(r.minimizer) = 0.5448951374847099\n",
      "constr(r.minimizer) = -0.0002334761564917187\n"
     ]
    },
    {
     "output_type": "execute_result",
     "data": {
      "text/plain": "-0.0002334761564917187"
     },
     "metadata": {},
     "execution_count": 6
    }
   ],
   "cell_type": "code",
   "source": [
    "N = length(solver.vars)\n",
    "x0 = fill(0.5, N)\n",
    "\n",
    "options = MMAOptions(; maxiter=2000, tol=Nonconvex.Tolerance(; kkt=1e-4), convcriteria)\n",
    "model = Model(obj)\n",
    "addvar!(model, zeros(N), ones(N))\n",
    "add_ineq_constraint!(model, constr)\n",
    "alg = MMA87()\n",
    "r = optimize(model, alg, x0; options)\n",
    "\n",
    "@show obj(r.minimizer)\n",
    "@show constr(r.minimizer)"
   ],
   "metadata": {},
   "execution_count": 6
  },
  {
   "cell_type": "markdown",
   "source": [
    "### (Optional) Visualize the result using Makie.jl\n",
    "Need to run `using Pkg; Pkg.add([\"Makie\", \"GLMakie\"])` first\n",
    "```julia\n",
    "using Makie, GLMakie\n",
    "using TopOpt.TopOptProblems.Visualization: visualize\n",
    "fig = visualize(problem; topology = r.minimizer)\n",
    "Makie.display(fig)\n",
    "```"
   ],
   "metadata": {}
  },
  {
   "cell_type": "markdown",
   "source": [
    "---\n",
    "\n",
    "*This notebook was generated using [Literate.jl](https://github.com/fredrikekre/Literate.jl).*"
   ],
   "metadata": {}
  }
 ],
 "nbformat_minor": 3,
 "metadata": {
  "language_info": {
   "file_extension": ".jl",
   "mimetype": "application/julia",
   "name": "julia",
   "version": "1.10.2"
  },
  "kernelspec": {
   "name": "julia-1.10",
   "display_name": "Julia 1.10.2",
   "language": "julia"
  }
 },
 "nbformat": 4
}
