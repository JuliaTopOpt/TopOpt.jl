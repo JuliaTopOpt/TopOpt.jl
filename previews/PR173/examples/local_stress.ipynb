{
 "cells": [
  {
   "cell_type": "markdown",
   "source": [
    "using Revise"
   ],
   "metadata": {}
  },
  {
   "outputs": [
    {
     "output_type": "execute_result",
     "data": {
      "text/plain": "3.0"
     },
     "metadata": {},
     "execution_count": 1
    }
   ],
   "cell_type": "code",
   "source": [
    "using TopOpt, LinearAlgebra, StatsFuns\n",
    "using StatsFuns: logsumexp\n",
    "\n",
    "E = 1.0 # Young’s modulus\n",
    "v = 0.3 # Poisson’s ratio\n",
    "f = 1.0 # downward force\n",
    "rmin = 3.0"
   ],
   "metadata": {},
   "execution_count": 1
  },
  {
   "cell_type": "markdown",
   "source": [
    "### Define the problem"
   ],
   "metadata": {}
  },
  {
   "outputs": [
    {
     "output_type": "execute_result",
     "data": {
      "text/plain": ""
     },
     "metadata": {},
     "execution_count": 2
    }
   ],
   "cell_type": "code",
   "source": [
    "problem = PointLoadCantilever(Val{:Linear}, (160, 40), (1.0, 1.0), E, v, f)"
   ],
   "metadata": {},
   "execution_count": 2
  },
  {
   "cell_type": "markdown",
   "source": [
    "### Parameter settings"
   ],
   "metadata": {}
  },
  {
   "outputs": [
    {
     "output_type": "execute_result",
     "data": {
      "text/plain": "40"
     },
     "metadata": {},
     "execution_count": 3
    }
   ],
   "cell_type": "code",
   "source": [
    "V = 0.5 # volume fraction\n",
    "xmin = 0.0001 # minimum density\n",
    "steps = 40 # maximum number of penalty steps, delta_p0 = 0.1"
   ],
   "metadata": {},
   "execution_count": 3
  },
  {
   "cell_type": "markdown",
   "source": [
    "### Continuation SIMP"
   ],
   "metadata": {}
  },
  {
   "outputs": [
    {
     "name": "stdout",
     "output_type": "stream",
     "text": [
      "[ Info:   iter        fx    normgp    normcx         μ     normy    sumc     inner_status        iter_type  \n",
      "[ Info:      0  -3.3e-16   8.0e+01   1.7e+00   1.0e+01   8.0e+01       5\n",
      "[ Info:      1   1.6e-14   8.0e+01   1.7e+00   1.0e+02   8.0e+01       9      first_order         update_μ\n",
      "[ Info:      2  -1.1e-04   8.0e+01   8.0e-01   1.0e+03   8.0e+01      22      first_order         update_μ\n",
      "[ Info:      3  -4.4e-01   2.2e-01   8.0e-02   1.0e+03   1.1e+00     547         max_eval         update_y\n",
      "[ Info:      4  -4.4e-01   2.2e-01   8.0e-02   1.0e+04   1.1e+00     551         max_eval         update_μ\n",
      "[ Info:      5  -4.4e-01   5.5e+01   8.0e-02   1.0e+04   8.0e+02     555         max_eval         update_y\n",
      "[ Info:      6  -4.4e-01   5.5e+01   8.0e-02   1.0e+05   8.0e+02     559         max_eval         update_μ\n",
      "[ Info:      7  -4.4e-01   7.4e+01   8.0e-02   1.0e+05   8.8e+03     563         max_eval         update_y\n",
      "[ Info:      8  -4.4e-01   7.4e+01   8.0e-02   1.0e+06   8.8e+03     567         max_eval         update_μ\n",
      "[ Info:      9  -4.4e-01   7.5e+01   8.0e-02   1.0e+06   8.9e+04     571         max_eval         update_y\n",
      "[ Info:     10  -4.4e-01   7.5e+01   8.0e-02   1.0e+07   8.9e+04     575         max_eval         update_μ\n",
      "[ Info:     11  -4.4e-01   7.5e+01   8.0e-02   1.0e+07   8.9e+05     579         max_eval         update_y\n",
      "[ Info:     12  -4.4e-01   7.5e+01   8.0e-02   1.0e+08   8.9e+05     583         max_eval         update_μ\n",
      "[ Info:     13  -4.4e-01   7.5e+01   8.0e-02   1.0e+08   8.9e+06     587         max_eval         update_y\n",
      "[ Info:     14  -4.4e-01   7.5e+01   8.0e-02   1.0e+09   8.9e+06     591         max_eval         update_μ\n",
      "[ Info:     15  -4.4e-01   7.5e+01   8.0e-02   1.0e+09   8.9e+07     595         max_eval         update_y\n",
      "[ Info:     16  -4.4e-01   7.5e+01   8.0e-02   1.0e+10   8.9e+07     599         max_eval         update_μ\n",
      "[ Info:     17  -4.4e-01   7.5e+01   8.0e-02   1.0e+10   8.9e+08     603         max_eval         update_y\n",
      "[ Info:     18  -4.4e-01   7.5e+01   8.0e-02   1.0e+11   8.9e+08     607         max_eval         update_μ\n",
      "[ Info:     19  -4.4e-01   7.5e+01   8.0e-02   1.0e+12   8.9e+08     611         max_eval         update_μ\n",
      "[ Info:     20  -4.4e-01   7.5e+01   8.0e-02   1.0e+13   8.9e+08     615         max_eval         update_μ\n",
      "[ Info:     21  -4.4e-01   7.5e+01   8.0e-02   1.0e+14   8.9e+08     619         max_eval         update_μ\n",
      "[ Info:     22  -4.4e-01   7.5e+01   8.0e-02   1.0e+15   8.9e+08     623         max_eval         update_μ\n",
      "[ Info:     23  -4.4e-01   7.5e+01   8.0e-02   1.0e+16   8.9e+08     627         max_eval         update_μ\n",
      "[ Info:     24  -4.4e-01   7.5e+01   8.0e-02   1.0e+17   8.9e+08     631         max_eval         update_μ\n",
      "[ Info:   iter        fx    normgp    normcx         μ     normy    sumc     inner_status        iter_type  \n",
      "[ Info:      0  -4.4e-01   8.0e+01   8.1e+00   1.0e+01   8.0e+01       5\n",
      "[ Info:      1  -4.4e-01   8.0e+01   8.1e+00   1.0e+02   8.0e+01       9      first_order         update_μ\n",
      "[ Info:      2  -2.7e-01   8.0e+01   8.0e-01   1.0e+03   8.0e+01      22      first_order         update_μ\n",
      "[ Info:      3  -2.7e-01   2.3e-02   8.0e-02   1.0e+03   8.3e-01      79      first_order         update_y\n",
      "[ Info:      4  -3.0e-01   1.8e-01   8.9e-04   1.0e+03   1.8e-01     596         max_eval         update_y\n",
      "[ Info:      5  -3.0e-01   1.8e-01   8.9e-04   1.0e+04   1.8e-01     600         max_eval         update_μ\n",
      "[ Info:      6  -3.0e-01   8.9e+00   8.9e-04   1.0e+04   8.9e+00     604         max_eval         update_y\n",
      "[ Info:      7  -3.0e-01   8.9e+00   8.9e-04   1.0e+05   8.9e+00     608         max_eval         update_μ\n",
      "[ Info:      8  -3.0e-01   9.7e+01   8.9e-04   1.0e+05   9.7e+01     612         max_eval         update_y\n",
      "[ Info:      9  -3.0e-01   9.7e+01   8.9e-04   1.0e+06   9.7e+01     616         max_eval         update_μ\n",
      "[ Info:     10  -3.0e-01   9.8e+02   8.9e-04   1.0e+06   9.8e+02     620         max_eval         update_y\n",
      "[ Info:     11  -3.0e-01   9.8e+02   8.9e-04   1.0e+07   9.8e+02     624         max_eval         update_μ\n",
      "[ Info:     12  -3.0e-01   9.8e+03   8.9e-04   1.0e+07   9.8e+03     628         max_eval         update_y\n",
      "[ Info:     13  -3.0e-01   9.8e+03   8.9e-04   1.0e+08   9.8e+03     632         max_eval         update_μ\n",
      "[ Info:     14  -3.0e-01   9.8e+04   8.9e-04   1.0e+08   9.8e+04     636         max_eval         update_y\n",
      "[ Info:     15  -3.0e-01   9.8e+04   8.9e-04   1.0e+09   9.8e+04     640         max_eval         update_μ\n",
      "[ Info:     16  -3.0e-01   9.8e+05   8.9e-04   1.0e+09   9.8e+05     644         max_eval         update_y\n",
      "[ Info:     17  -3.0e-01   9.8e+05   8.9e-04   1.0e+10   9.8e+05     648         max_eval         update_μ\n",
      "[ Info:     18  -3.0e-01   9.8e+06   8.9e-04   1.0e+10   9.8e+06     652         max_eval         update_y\n",
      "[ Info:     19  -3.0e-01   9.8e+06   8.9e-04   1.0e+11   9.8e+06     656         max_eval         update_μ\n",
      "[ Info:     20  -3.0e-01   9.8e+07   8.9e-04   1.0e+11   9.8e+07     660         max_eval         update_y\n",
      "[ Info:     21  -3.0e-01   9.8e+07   8.9e-04   1.0e+12   9.8e+07     664         max_eval         update_μ\n",
      "[ Info:     22  -3.0e-01   9.8e+08   8.9e-04   1.0e+12   9.8e+08     668         max_eval         update_y\n",
      "[ Info:     23  -3.0e-01   9.8e+08   8.9e-04   1.0e+13   9.8e+08     672         max_eval         update_μ\n",
      "[ Info:     24  -3.0e-01   9.8e+09   8.9e-04   1.0e+13   9.8e+09     676         max_eval         update_y\n",
      "[ Info:     25  -3.0e-01   9.8e+09   8.9e-04   1.0e+14   9.8e+09     680         max_eval         update_μ\n",
      "[ Info:     26  -3.0e-01   9.8e+10   8.9e-04   1.0e+14   9.8e+10     684         max_eval         update_y\n",
      "[ Info:     27  -3.0e-01   9.8e+10   8.9e-04   1.0e+15   9.8e+10     688         max_eval         update_μ\n",
      "[ Info:     28  -3.0e-01   9.8e+11   8.9e-04   1.0e+15   9.8e+11     692         max_eval         update_y\n",
      "[ Info:     29  -3.0e-01   9.8e+11   8.9e-04   1.0e+16   9.8e+11     696         max_eval         update_μ\n",
      "[ Info:     30  -3.0e-01   9.8e+12   8.9e-04   1.0e+16   9.8e+12     700         max_eval         update_y\n",
      "[ Info:     31  -3.0e-01   9.8e+12   8.9e-04   1.0e+17   9.8e+12     704         max_eval         update_μ\n",
      "[ Info:   iter        fx    normgp    normcx         μ     normy    sumc     inner_status        iter_type  \n",
      "[ Info:      0  -3.0e-01   8.1e+01   2.3e+00   1.0e+01   8.0e+01       5\n",
      "[ Info:      1  -3.0e-01   8.1e+01   2.3e+00   1.0e+02   8.0e+01       9      first_order         update_μ\n",
      "[ Info:      2  -2.5e-01   8.1e+01   8.0e-01   1.0e+03   8.0e+01      42      first_order         update_μ\n",
      "[ Info:      3  -2.2e-01   3.7e-02   8.0e-02   1.0e+03   1.2e+00     111      first_order         update_y\n",
      "[ Info:      4  -2.3e-01   3.7e-02   1.4e-03   1.0e+04   1.2e+00     598         max_eval         update_μ\n",
      "[ Info:      5  -2.3e-01   7.7e+00   1.4e-03   1.0e+04   1.4e+01     602         max_eval         update_y\n",
      "[ Info:      6  -2.3e-01   7.7e+00   1.4e-03   1.0e+05   1.4e+01     606         max_eval         update_μ\n",
      "[ Info:      7  -2.3e-01   9.5e+01   1.4e-03   1.0e+05   1.5e+02     610         max_eval         update_y\n",
      "[ Info:      8  -2.3e-01   9.5e+01   1.4e-03   1.0e+06   1.5e+02     614         max_eval         update_μ\n",
      "[ Info:      9  -2.3e-01   9.7e+02   1.4e-03   1.0e+06   1.5e+03     618         max_eval         update_y\n",
      "[ Info:     10  -2.3e-01   9.7e+02   1.4e-03   1.0e+07   1.5e+03     622         max_eval         update_μ\n",
      "[ Info:     11  -2.3e-01   9.7e+03   1.4e-03   1.0e+07   1.5e+04     626         max_eval         update_y\n",
      "[ Info:     12  -2.3e-01   9.7e+03   1.4e-03   1.0e+08   1.5e+04     630         max_eval         update_μ\n",
      "[ Info:     13  -2.3e-01   9.7e+04   1.4e-03   1.0e+08   1.5e+05     634         max_eval         update_y\n",
      "[ Info:     14  -2.3e-01   9.7e+04   1.4e-03   1.0e+09   1.5e+05     638         max_eval         update_μ\n",
      "[ Info:     15  -2.3e-01   9.7e+05   1.4e-03   1.0e+09   1.5e+06     642         max_eval         update_y\n",
      "[ Info:     16  -2.3e-01   9.7e+05   1.4e-03   1.0e+10   1.5e+06     646         max_eval         update_μ\n",
      "[ Info:     17  -2.3e-01   9.7e+06   1.4e-03   1.0e+10   1.5e+07     650         max_eval         update_y\n",
      "[ Info:     18  -2.3e-01   9.7e+06   1.4e-03   1.0e+11   1.5e+07     654         max_eval         update_μ\n",
      "[ Info:     19  -2.3e-01   9.7e+07   1.4e-03   1.0e+11   1.5e+08     658         max_eval         update_y\n",
      "[ Info:     20  -2.3e-01   9.7e+07   1.4e-03   1.0e+12   1.5e+08     662         max_eval         update_μ\n",
      "[ Info:     21  -2.3e-01   9.7e+08   1.4e-03   1.0e+12   1.5e+09     666         max_eval         update_y\n",
      "[ Info:     22  -2.3e-01   9.7e+08   1.4e-03   1.0e+13   1.5e+09     670         max_eval         update_μ\n",
      "[ Info:     23  -2.3e-01   9.7e+09   1.4e-03   1.0e+13   1.5e+10     674         max_eval         update_y\n",
      "[ Info:     24  -2.3e-01   9.7e+09   1.4e-03   1.0e+14   1.5e+10     678         max_eval         update_μ\n",
      "[ Info:     25  -2.3e-01   9.7e+10   1.4e-03   1.0e+14   1.5e+11     682         max_eval         update_y\n",
      "[ Info:     26  -2.3e-01   9.7e+10   1.4e-03   1.0e+15   1.5e+11     686         max_eval         update_μ\n",
      "[ Info:     27  -2.3e-01   9.7e+11   1.4e-03   1.0e+15   1.5e+12     690         max_eval         update_y\n",
      "[ Info:     28  -2.3e-01   9.7e+11   1.4e-03   1.0e+16   1.5e+12     694         max_eval         update_μ\n",
      "[ Info:     29  -2.3e-01   9.7e+12   1.4e-03   1.0e+16   1.5e+13     698         max_eval         update_y\n",
      "[ Info:     30  -2.3e-01   9.7e+12   1.4e-03   1.0e+17   1.5e+13     702         max_eval         update_μ\n"
     ]
    },
    {
     "output_type": "execute_result",
     "data": {
      "text/plain": "153.92267215442754"
     },
     "metadata": {},
     "execution_count": 4
    }
   ],
   "cell_type": "code",
   "source": [
    "x0 = fill(0.5, 160 * 40) # initial design\n",
    "N = length(x0)\n",
    "penalty = TopOpt.PowerPenalty(1.0)\n",
    "solver = FEASolver(Direct, problem; xmin=xmin, penalty=penalty)\n",
    "stress = TopOpt.von_mises_stress_function(solver)\n",
    "filter = DensityFilter(solver; rmin=rmin)\n",
    "volfrac = TopOpt.Volume(solver)\n",
    "\n",
    "obj = x -> volfrac(filter(PseudoDensities(x))) - V\n",
    "thr = 150 # stress threshold\n",
    "constr = x -> begin\n",
    "    s = stress(filter(PseudoDensities(x)))\n",
    "    return (s .- thr) / length(s)\n",
    "end\n",
    "alg = PercivalAlg()\n",
    "options = PercivalOptions()\n",
    "model = Model(obj)\n",
    "addvar!(model, zeros(N), ones(N))\n",
    "add_ineq_constraint!(model, constr)\n",
    "\n",
    "x = copy(x0)\n",
    "for p in [1.0, 2.0, 3.0]\n",
    "    TopOpt.setpenalty!(solver, p)\n",
    "    global r = optimize(model, alg, x; options)\n",
    "    global x = r.minimizer\n",
    "end\n",
    "\n",
    "maximum(stress(filter(PseudoDensities(x0))))\n",
    "maximum(stress(filter(PseudoDensities(x))))"
   ],
   "metadata": {},
   "execution_count": 4
  },
  {
   "cell_type": "markdown",
   "source": [
    "### (Optional) Visualize the result using Makie.jl\n",
    "Need to run `using Pkg; Pkg.add([\"Makie\", \"GLMakie\"])` first\n",
    "```julia\n",
    "using Makie, GLMakie\n",
    "using TopOpt.TopOptProblems.Visualization: visualize\n",
    "fig = visualize(\n",
    "   problem; topology = r.minimizer, default_exagg_scale = 0.07,\n",
    "   scale_range = 10.0, vector_linewidth = 3, vector_arrowsize = 0.5,\n",
    ")\n",
    "Makie.display(fig)\n",
    "```"
   ],
   "metadata": {}
  },
  {
   "cell_type": "markdown",
   "source": [
    "---\n",
    "\n",
    "*This notebook was generated using [Literate.jl](https://github.com/fredrikekre/Literate.jl).*"
   ],
   "metadata": {}
  }
 ],
 "nbformat_minor": 3,
 "metadata": {
  "language_info": {
   "file_extension": ".jl",
   "mimetype": "application/julia",
   "name": "julia",
   "version": "1.10.2"
  },
  "kernelspec": {
   "name": "julia-1.10",
   "display_name": "Julia 1.10.2",
   "language": "julia"
  }
 },
 "nbformat": 4
}
