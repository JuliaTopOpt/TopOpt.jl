{
 "cells": [
  {
   "cell_type": "markdown",
   "source": [
    "using Revise"
   ],
   "metadata": {}
  },
  {
   "outputs": [
    {
     "output_type": "execute_result",
     "data": {
      "text/plain": "3.0"
     },
     "metadata": {},
     "execution_count": 1
    }
   ],
   "cell_type": "code",
   "source": [
    "using TopOpt, LinearAlgebra, StatsFuns\n",
    "using StatsFuns: logsumexp\n",
    "\n",
    "E = 1.0 # Young’s modulus\n",
    "v = 0.3 # Poisson’s ratio\n",
    "f = 1.0 # downward force\n",
    "rmin = 3.0"
   ],
   "metadata": {},
   "execution_count": 1
  },
  {
   "cell_type": "markdown",
   "source": [
    "### Define the problem"
   ],
   "metadata": {}
  },
  {
   "outputs": [
    {
     "output_type": "execute_result",
     "data": {
      "text/plain": ""
     },
     "metadata": {},
     "execution_count": 2
    }
   ],
   "cell_type": "code",
   "source": [
    "problem = PointLoadCantilever(Val{:Linear}, (160, 40), (1.0, 1.0), E, v, f)"
   ],
   "metadata": {},
   "execution_count": 2
  },
  {
   "cell_type": "markdown",
   "source": [
    "### Parameter settings"
   ],
   "metadata": {}
  },
  {
   "outputs": [
    {
     "output_type": "execute_result",
     "data": {
      "text/plain": "40"
     },
     "metadata": {},
     "execution_count": 3
    }
   ],
   "cell_type": "code",
   "source": [
    "V = 0.5 # volume fraction\n",
    "xmin = 0.0001 # minimum density\n",
    "steps = 40 # maximum number of penalty steps, delta_p0 = 0.1"
   ],
   "metadata": {},
   "execution_count": 3
  },
  {
   "cell_type": "markdown",
   "source": [
    "### Continuation SIMP"
   ],
   "metadata": {}
  },
  {
   "outputs": [
    {
     "name": "stdout",
     "output_type": "stream",
     "text": [
      "[ Info:   iter        fx    normgp    normcx         μ     normy    sumc     inner_status        iter_type  \n",
      "[ Info:      0  -3.3e-16   8.0e+01   1.3e+00   1.0e+01   8.0e+01       5\n",
      "[ Info:      1  -5.3e-15   8.0e+01   1.3e+00   1.0e+02   8.0e+01       9      first_order         update_μ\n",
      "[ Info:      2  -3.4e-04   8.0e+01   8.0e-01   1.0e+03   8.0e+01      21      first_order         update_μ\n",
      "[ Info:      3  -1.7e-04   1.3e-02   8.0e-02   1.0e+03   4.3e-03      32      first_order         update_y\n",
      "[ Info:      4  -1.8e-01   1.3e-02   6.0e-03   1.0e+04   4.3e-03     598         max_eval         update_μ\n",
      "[ Info:      5  -1.8e-01   1.3e+00   6.0e-03   1.0e+04   6.0e+01     602         max_eval         update_y\n",
      "[ Info:      6  -1.8e-01   1.3e+00   6.0e-03   1.0e+05   6.0e+01     606         max_eval         update_μ\n",
      "[ Info:      7  -1.8e-01   6.7e+00   6.0e-03   1.0e+05   6.6e+02     610         max_eval         update_y\n",
      "[ Info:      8  -1.8e-01   6.7e+00   6.0e-03   1.0e+06   6.6e+02     614         max_eval         update_μ\n",
      "[ Info:      9  -1.8e-01   4.1e+01   6.0e-03   1.0e+06   6.6e+03     618         max_eval         update_y\n",
      "[ Info:     10  -1.8e-01   4.1e+01   6.0e-03   1.0e+07   6.6e+03     622         max_eval         update_μ\n",
      "[ Info:     11  -1.8e-01   1.9e+02   6.0e-03   1.0e+07   6.6e+04     626         max_eval         update_y\n",
      "[ Info:     12  -1.8e-01   1.9e+02   6.0e-03   1.0e+08   6.6e+04     630         max_eval         update_μ\n",
      "[ Info:     13  -1.8e-01   1.8e+03   6.0e-03   1.0e+08   6.6e+05     634         max_eval         update_y\n",
      "[ Info:     14  -1.8e-01   1.8e+03   6.0e-03   1.0e+09   6.6e+05     638         max_eval         update_μ\n",
      "[ Info:     15  -1.8e-01   1.8e+04   6.0e-03   1.0e+09   6.6e+06     642         max_eval         update_y\n",
      "[ Info:     16  -1.8e-01   1.8e+04   6.0e-03   1.0e+10   6.6e+06     646         max_eval         update_μ\n",
      "[ Info:     17  -1.8e-01   1.8e+05   6.0e-03   1.0e+10   6.6e+07     650         max_eval         update_y\n",
      "[ Info:     18  -1.8e-01   1.8e+05   6.0e-03   1.0e+11   6.6e+07     654         max_eval         update_μ\n",
      "[ Info:     19  -1.8e-01   1.8e+06   6.0e-03   1.0e+11   6.6e+08     658         max_eval         update_y\n",
      "[ Info:     20  -1.8e-01   1.8e+06   6.0e-03   1.0e+12   6.6e+08     662         max_eval         update_μ\n",
      "[ Info:     21  -1.8e-01   1.8e+07   6.0e-03   1.0e+12   6.6e+09     666         max_eval         update_y\n",
      "[ Info:     22  -1.8e-01   1.8e+07   6.0e-03   1.0e+13   6.6e+09     670         max_eval         update_μ\n",
      "[ Info:     23  -1.8e-01   1.8e+08   6.0e-03   1.0e+13   6.6e+10     674         max_eval         update_y\n",
      "[ Info:     24  -1.8e-01   1.8e+08   6.0e-03   1.0e+14   6.6e+10     678         max_eval         update_μ\n",
      "[ Info:     25  -1.8e-01   1.8e+09   6.0e-03   1.0e+14   6.6e+11     682         max_eval         update_y\n",
      "[ Info:     26  -1.8e-01   1.8e+09   6.0e-03   1.0e+15   6.6e+11     686         max_eval         update_μ\n",
      "[ Info:     27  -1.8e-01   1.8e+10   6.0e-03   1.0e+15   6.6e+12     690         max_eval         update_y\n",
      "[ Info:     28  -1.8e-01   1.8e+10   6.0e-03   1.0e+16   6.6e+12     694         max_eval         update_μ\n",
      "[ Info:     29  -1.8e-01   1.8e+11   6.0e-03   1.0e+16   6.6e+13     698         max_eval         update_y\n",
      "[ Info:     30  -1.8e-01   1.8e+11   6.0e-03   1.0e+17   6.6e+13     702         max_eval         update_μ\n",
      "[ Info:   iter        fx    normgp    normcx         μ     normy    sumc     inner_status        iter_type  \n",
      "[ Info:      0  -1.8e-01   8.0e+01   1.4e+00   1.0e+01   8.0e+01       5\n",
      "[ Info:      1  -1.8e-01   8.0e+01   1.4e+00   1.0e+02   8.0e+01       9      first_order         update_μ\n",
      "[ Info:      2  -1.4e-01   8.0e+01   8.3e-01   1.0e+03   8.0e+01      37      first_order         update_μ\n",
      "[ Info:      3  -4.4e-02   3.4e-02   8.1e-02   1.0e+03   4.6e+00     196      first_order         update_y\n",
      "[ Info:      4  -2.7e-02   2.9e-02   1.8e-03   1.0e+04   4.6e+00     596         max_eval         update_μ\n",
      "[ Info:      5  -2.7e-02   1.5e+01   1.8e-03   1.0e+04   1.6e+01     600         max_eval         update_y\n",
      "[ Info:      6  -2.7e-02   1.5e+01   1.8e-03   1.0e+05   1.6e+01     604         max_eval         update_μ\n",
      "[ Info:      7  -2.7e-02   1.9e+02   1.8e-03   1.0e+05   1.9e+02     608         max_eval         update_y\n",
      "[ Info:      8  -2.7e-02   1.9e+02   1.8e-03   1.0e+06   1.9e+02     612         max_eval         update_μ\n",
      "[ Info:      9  -2.7e-02   1.9e+03   1.8e-03   1.0e+06   2.0e+03     616         max_eval         update_y\n",
      "[ Info:     10  -2.7e-02   1.9e+03   1.8e-03   1.0e+07   2.0e+03     620         max_eval         update_μ\n",
      "[ Info:     11  -2.7e-02   1.9e+04   1.8e-03   1.0e+07   2.0e+04     624         max_eval         update_y\n",
      "[ Info:     12  -2.7e-02   1.9e+04   1.8e-03   1.0e+08   2.0e+04     628         max_eval         update_μ\n",
      "[ Info:     13  -2.7e-02   1.9e+05   1.8e-03   1.0e+08   2.0e+05     632         max_eval         update_y\n",
      "[ Info:     14  -2.7e-02   1.9e+05   1.8e-03   1.0e+09   2.0e+05     636         max_eval         update_μ\n",
      "[ Info:     15  -2.7e-02   1.9e+06   1.8e-03   1.0e+09   2.0e+06     640         max_eval         update_y\n",
      "[ Info:     16  -2.7e-02   1.9e+06   1.8e-03   1.0e+10   2.0e+06     644         max_eval         update_μ\n",
      "[ Info:     17  -2.7e-02   1.9e+07   1.8e-03   1.0e+10   2.0e+07     648         max_eval         update_y\n",
      "[ Info:     18  -2.7e-02   1.9e+07   1.8e-03   1.0e+11   2.0e+07     652         max_eval         update_μ\n",
      "[ Info:     19  -2.7e-02   1.9e+08   1.8e-03   1.0e+11   2.0e+08     656         max_eval         update_y\n",
      "[ Info:     20  -2.7e-02   1.9e+08   1.8e-03   1.0e+12   2.0e+08     660         max_eval         update_μ\n",
      "[ Info:     21  -2.7e-02   1.9e+09   1.8e-03   1.0e+12   2.0e+09     664         max_eval         update_y\n",
      "[ Info:     22  -2.7e-02   1.9e+09   1.8e-03   1.0e+13   2.0e+09     668         max_eval         update_μ\n",
      "[ Info:     23  -2.7e-02   1.9e+10   1.8e-03   1.0e+13   2.0e+10     672         max_eval         update_y\n",
      "[ Info:     24  -2.7e-02   1.9e+10   1.8e-03   1.0e+14   2.0e+10     676         max_eval         update_μ\n",
      "[ Info:     25  -2.7e-02   1.9e+11   1.8e-03   1.0e+14   2.0e+11     680         max_eval         update_y\n",
      "[ Info:     26  -2.7e-02   1.9e+11   1.8e-03   1.0e+15   2.0e+11     684         max_eval         update_μ\n",
      "[ Info:     27  -2.7e-02   1.9e+12   1.8e-03   1.0e+15   2.0e+12     688         max_eval         update_y\n",
      "[ Info:     28  -2.7e-02   1.9e+12   1.8e-03   1.0e+16   2.0e+12     692         max_eval         update_μ\n",
      "[ Info:     29  -2.7e-02   1.9e+13   1.8e-03   1.0e+16   2.0e+13     696         max_eval         update_y\n",
      "[ Info:     30  -2.7e-02   1.9e+13   1.8e-03   1.0e+17   2.0e+13     700         max_eval         update_μ\n",
      "[ Info:   iter        fx    normgp    normcx         μ     normy    sumc     inner_status        iter_type  \n",
      "[ Info:      0  -2.7e-02   8.0e+01   1.2e+00   1.0e+01   8.0e+01       5\n",
      "[ Info:      1  -2.7e-02   8.0e+01   1.2e+00   1.0e+02   8.0e+01       9      first_order         update_μ\n",
      "[ Info:      2  -2.8e-02   8.0e+01   8.0e-01   1.0e+03   8.0e+01      21      first_order         update_μ\n",
      "[ Info:      3   5.5e-02   1.8e-02   8.0e-02   1.0e+03   3.0e+00     156      first_order         update_y\n",
      "[ Info:      4   6.4e-02   1.7e-02   1.2e-03   1.0e+04   3.0e+00     598         max_eval         update_μ\n",
      "[ Info:      5   6.4e-02   1.4e+00   1.2e-03   1.0e+04   1.4e+01     602         max_eval         update_y\n",
      "[ Info:      6   6.4e-02   1.4e+00   1.2e-03   1.0e+05   1.4e+01     606         max_eval         update_μ\n",
      "[ Info:      7   6.4e-02   1.8e+01   1.2e-03   1.0e+05   1.3e+02     610         max_eval         update_y\n",
      "[ Info:      8   6.4e-02   1.8e+01   1.2e-03   1.0e+06   1.3e+02     614         max_eval         update_μ\n",
      "[ Info:      9   6.4e-02   1.9e+02   1.2e-03   1.0e+06   1.3e+03     618         max_eval         update_y\n",
      "[ Info:     10   6.4e-02   1.9e+02   1.2e-03   1.0e+07   1.3e+03     622         max_eval         update_μ\n",
      "[ Info:     11   6.4e-02   1.9e+03   1.2e-03   1.0e+07   1.3e+04     626         max_eval         update_y\n",
      "[ Info:     12   6.4e-02   1.9e+03   1.2e-03   1.0e+08   1.3e+04     630         max_eval         update_μ\n",
      "[ Info:     13   6.4e-02   1.9e+04   1.2e-03   1.0e+08   1.3e+05     634         max_eval         update_y\n",
      "[ Info:     14   6.4e-02   1.9e+04   1.2e-03   1.0e+09   1.3e+05     638         max_eval         update_μ\n",
      "[ Info:     15   6.4e-02   1.9e+05   1.2e-03   1.0e+09   1.3e+06     642         max_eval         update_y\n",
      "[ Info:     16   6.4e-02   1.9e+05   1.2e-03   1.0e+10   1.3e+06     646         max_eval         update_μ\n",
      "[ Info:     17   6.4e-02   1.9e+06   1.2e-03   1.0e+10   1.3e+07     650         max_eval         update_y\n",
      "[ Info:     18   6.4e-02   1.9e+06   1.2e-03   1.0e+11   1.3e+07     654         max_eval         update_μ\n",
      "[ Info:     19   6.4e-02   1.9e+07   1.2e-03   1.0e+11   1.3e+08     658         max_eval         update_y\n",
      "[ Info:     20   6.4e-02   1.9e+07   1.2e-03   1.0e+12   1.3e+08     662         max_eval         update_μ\n",
      "[ Info:     21   6.4e-02   1.9e+08   1.2e-03   1.0e+12   1.3e+09     666         max_eval         update_y\n",
      "[ Info:     22   6.4e-02   1.9e+08   1.2e-03   1.0e+13   1.3e+09     670         max_eval         update_μ\n",
      "[ Info:     23   6.4e-02   1.9e+09   1.2e-03   1.0e+13   1.3e+10     674         max_eval         update_y\n",
      "[ Info:     24   6.4e-02   1.9e+09   1.2e-03   1.0e+14   1.3e+10     678         max_eval         update_μ\n",
      "[ Info:     25   6.4e-02   1.9e+10   1.2e-03   1.0e+14   1.3e+11     682         max_eval         update_y\n",
      "[ Info:     26   6.4e-02   1.9e+10   1.2e-03   1.0e+15   1.3e+11     686         max_eval         update_μ\n",
      "[ Info:     27   6.4e-02   1.9e+11   1.2e-03   1.0e+15   1.3e+12     690         max_eval         update_y\n",
      "[ Info:     28   6.4e-02   1.9e+11   1.2e-03   1.0e+16   1.3e+12     694         max_eval         update_μ\n",
      "[ Info:     29   6.4e-02   1.9e+12   1.2e-03   1.0e+16   1.3e+13     698         max_eval         update_y\n",
      "[ Info:     30   6.4e-02   1.9e+12   1.2e-03   1.0e+17   1.3e+13     702         max_eval         update_μ\n"
     ]
    },
    {
     "output_type": "execute_result",
     "data": {
      "text/plain": "152.81843777185875"
     },
     "metadata": {},
     "execution_count": 4
    }
   ],
   "cell_type": "code",
   "source": [
    "x0 = fill(0.5, 160 * 40) # initial design\n",
    "N = length(x0)\n",
    "penalty = TopOpt.PowerPenalty(1.0)\n",
    "solver = FEASolver(Direct, problem; xmin=xmin, penalty=penalty)\n",
    "stress = TopOpt.von_mises_stress_function(solver)\n",
    "filter = DensityFilter(solver; rmin=rmin)\n",
    "volfrac = TopOpt.Volume(solver)\n",
    "\n",
    "obj = x -> volfrac(filter(PseudoDensities(x))) - V\n",
    "thr = 150 # stress threshold\n",
    "constr = x -> begin\n",
    "    s = stress(filter(PseudoDensities(x)))\n",
    "    return (s .- thr) / length(s)\n",
    "end\n",
    "alg = PercivalAlg()\n",
    "options = PercivalOptions()\n",
    "model = Model(obj)\n",
    "addvar!(model, zeros(N), ones(N))\n",
    "add_ineq_constraint!(model, constr)\n",
    "\n",
    "x = copy(x0)\n",
    "for p in [1.0, 2.0, 3.0]\n",
    "    TopOpt.setpenalty!(solver, p)\n",
    "    global r = optimize(model, alg, x; options)\n",
    "    global x = r.minimizer\n",
    "end\n",
    "\n",
    "maximum(stress(filter(PseudoDensities(x0))))\n",
    "maximum(stress(filter(PseudoDensities(x))))"
   ],
   "metadata": {},
   "execution_count": 4
  },
  {
   "cell_type": "markdown",
   "source": [
    "### (Optional) Visualize the result using Makie.jl\n",
    "Need to run `using Pkg; Pkg.add([\"Makie\", \"GLMakie\"])` first\n",
    "```julia\n",
    "using Makie, GLMakie\n",
    "using TopOpt.TopOptProblems.Visualization: visualize\n",
    "fig = visualize(\n",
    "   problem; topology = r.minimizer, default_exagg_scale = 0.07,\n",
    "   scale_range = 10.0, vector_linewidth = 3, vector_arrowsize = 0.5,\n",
    ")\n",
    "Makie.display(fig)\n",
    "```"
   ],
   "metadata": {}
  },
  {
   "cell_type": "markdown",
   "source": [
    "---\n",
    "\n",
    "*This notebook was generated using [Literate.jl](https://github.com/fredrikekre/Literate.jl).*"
   ],
   "metadata": {}
  }
 ],
 "nbformat_minor": 3,
 "metadata": {
  "language_info": {
   "file_extension": ".jl",
   "mimetype": "application/julia",
   "name": "julia",
   "version": "1.10.2"
  },
  "kernelspec": {
   "name": "julia-1.10",
   "display_name": "Julia 1.10.2",
   "language": "julia"
  }
 },
 "nbformat": 4
}
