{
 "cells": [
  {
   "cell_type": "markdown",
   "source": [
    "using Revise"
   ],
   "metadata": {}
  },
  {
   "outputs": [
    {
     "output_type": "execute_result",
     "data": {
      "text/plain": "3.0"
     },
     "metadata": {},
     "execution_count": 1
    }
   ],
   "cell_type": "code",
   "source": [
    "using TopOpt, LinearAlgebra, StatsFuns\n",
    "using StatsFuns: logsumexp\n",
    "\n",
    "E = 1.0 # Young’s modulus\n",
    "v = 0.3 # Poisson’s ratio\n",
    "f = 1.0 # downward force\n",
    "rmin = 3.0"
   ],
   "metadata": {},
   "execution_count": 1
  },
  {
   "cell_type": "markdown",
   "source": [
    "### Define the problem"
   ],
   "metadata": {}
  },
  {
   "outputs": [
    {
     "output_type": "execute_result",
     "data": {
      "text/plain": ""
     },
     "metadata": {},
     "execution_count": 2
    }
   ],
   "cell_type": "code",
   "source": [
    "problem = PointLoadCantilever(Val{:Linear}, (160, 40), (1.0, 1.0), E, v, f)"
   ],
   "metadata": {},
   "execution_count": 2
  },
  {
   "cell_type": "markdown",
   "source": [
    "### Parameter settings"
   ],
   "metadata": {}
  },
  {
   "outputs": [
    {
     "output_type": "execute_result",
     "data": {
      "text/plain": "40"
     },
     "metadata": {},
     "execution_count": 3
    }
   ],
   "cell_type": "code",
   "source": [
    "V = 0.5 # volume fraction\n",
    "xmin = 0.0001 # minimum density\n",
    "steps = 40 # maximum number of penalty steps, delta_p0 = 0.1"
   ],
   "metadata": {},
   "execution_count": 3
  },
  {
   "cell_type": "markdown",
   "source": [
    "### Continuation SIMP"
   ],
   "metadata": {}
  },
  {
   "outputs": [
    {
     "name": "stdout",
     "output_type": "stream",
     "text": [
      "[ Info:   iter        fx    normgp    normcx         μ     normy    sumc     inner_status        iter_type  \n",
      "[ Info:      0  -3.3e-16   8.0e+01   1.3e+00   1.0e+01   8.0e+01       5\n",
      "[ Info:      1   7.1e-15   8.0e+01   1.3e+00   1.0e+02   8.0e+01       9      first_order         update_μ\n",
      "[ Info:      2  -3.4e-04   8.0e+01   8.0e-01   1.0e+03   8.0e+01      21      first_order         update_μ\n",
      "[ Info:      3  -1.7e-04   1.3e-02   8.0e-02   1.0e+03   4.3e-03      32      first_order         update_y\n",
      "[ Info:      4  -8.4e-02   2.7e-01   3.8e-04   1.0e+03   3.8e-01     600         max_eval         update_y\n",
      "[ Info:      5  -8.4e-02   2.7e-01   3.8e-04   1.0e+04   3.8e-01     604         max_eval         update_μ\n",
      "[ Info:      6  -8.4e-02   1.2e+00   3.8e-04   1.0e+04   4.2e+00     608         max_eval         update_y\n",
      "[ Info:      7  -8.4e-02   1.2e+00   3.8e-04   1.0e+05   4.2e+00     612         max_eval         update_μ\n",
      "[ Info:      8  -8.4e-02   9.9e+00   3.8e-04   1.0e+05   4.2e+01     616         max_eval         update_y\n",
      "[ Info:      9  -8.4e-02   9.9e+00   3.8e-04   1.0e+06   4.2e+01     620         max_eval         update_μ\n",
      "[ Info:     10  -8.4e-02   9.9e+01   3.8e-04   1.0e+06   4.2e+02     624         max_eval         update_y\n",
      "[ Info:     11  -8.4e-02   9.9e+01   3.8e-04   1.0e+07   4.2e+02     628         max_eval         update_μ\n",
      "[ Info:     12  -8.4e-02   9.8e+02   3.8e-04   1.0e+07   4.2e+03     632         max_eval         update_y\n",
      "[ Info:     13  -8.4e-02   9.8e+02   3.8e-04   1.0e+08   4.2e+03     636         max_eval         update_μ\n",
      "[ Info:     14  -8.4e-02   9.8e+03   3.8e-04   1.0e+08   4.2e+04     640         max_eval         update_y\n",
      "[ Info:     15  -8.4e-02   9.8e+03   3.8e-04   1.0e+09   4.2e+04     644         max_eval         update_μ\n",
      "[ Info:     16  -8.4e-02   9.8e+04   3.8e-04   1.0e+09   4.2e+05     648         max_eval         update_y\n",
      "[ Info:     17  -8.4e-02   9.8e+04   3.8e-04   1.0e+10   4.2e+05     652         max_eval         update_μ\n",
      "[ Info:     18  -8.4e-02   9.8e+05   3.8e-04   1.0e+10   4.2e+06     656         max_eval         update_y\n",
      "[ Info:     19  -8.4e-02   9.8e+05   3.8e-04   1.0e+11   4.2e+06     660         max_eval         update_μ\n",
      "[ Info:     20  -8.4e-02   9.8e+06   3.8e-04   1.0e+11   4.2e+07     664         max_eval         update_y\n",
      "[ Info:     21  -8.4e-02   9.8e+06   3.8e-04   1.0e+12   4.2e+07     668         max_eval         update_μ\n",
      "[ Info:     22  -8.4e-02   9.8e+07   3.8e-04   1.0e+12   4.2e+08     672         max_eval         update_y\n",
      "[ Info:     23  -8.4e-02   9.8e+07   3.8e-04   1.0e+13   4.2e+08     676         max_eval         update_μ\n",
      "[ Info:     24  -8.4e-02   9.8e+08   3.8e-04   1.0e+13   4.2e+09     680         max_eval         update_y\n",
      "[ Info:     25  -8.4e-02   9.8e+08   3.8e-04   1.0e+14   4.2e+09     684         max_eval         update_μ\n",
      "[ Info:     26  -8.4e-02   9.8e+09   3.8e-04   1.0e+14   4.2e+10     688         max_eval         update_y\n",
      "[ Info:     27  -8.4e-02   9.8e+09   3.8e-04   1.0e+15   4.2e+10     692         max_eval         update_μ\n",
      "[ Info:     28  -8.4e-02   9.8e+10   3.8e-04   1.0e+15   4.2e+11     696         max_eval         update_y\n",
      "[ Info:     29  -8.4e-02   9.8e+10   3.8e-04   1.0e+16   4.2e+11     700         max_eval         update_μ\n",
      "[ Info:     30  -8.4e-02   9.8e+11   3.8e-04   1.0e+16   4.2e+12     704         max_eval         update_y\n",
      "[ Info:     31  -8.4e-02   9.8e+11   3.8e-04   1.0e+17   4.2e+12     708         max_eval         update_μ\n",
      "[ Info:   iter        fx    normgp    normcx         μ     normy    sumc     inner_status        iter_type  \n",
      "[ Info:      0  -8.4e-02   8.0e+01   1.3e+00   1.0e+01   8.0e+01       5\n",
      "[ Info:      1  -8.4e-02   8.0e+01   1.3e+00   1.0e+02   8.0e+01       9      first_order         update_μ\n",
      "[ Info:      2  -8.5e-02   8.0e+01   8.1e-01   1.0e+03   8.0e+01      21      first_order         update_μ\n",
      "[ Info:      3  -1.5e-02   2.3e-02   8.0e-02   1.0e+03   2.7e+00     153      first_order         update_y\n",
      "[ Info:      4  -1.7e-02   2.2e-02   2.4e-03   1.0e+04   2.7e+00     598         max_eval         update_μ\n",
      "[ Info:      5  -1.7e-02   7.9e-01   2.4e-03   1.0e+04   2.7e+01     602         max_eval         update_y\n",
      "[ Info:      6  -1.7e-02   7.9e-01   2.4e-03   1.0e+05   2.7e+01     606         max_eval         update_μ\n",
      "[ Info:      7  -1.7e-02   9.4e+00   2.4e-03   1.0e+05   2.7e+02     610         max_eval         update_y\n",
      "[ Info:      8  -1.7e-02   9.4e+00   2.4e-03   1.0e+06   2.7e+02     614         max_eval         update_μ\n",
      "[ Info:      9  -1.7e-02   9.5e+01   2.4e-03   1.0e+06   2.7e+03     618         max_eval         update_y\n",
      "[ Info:     10  -1.7e-02   9.5e+01   2.4e-03   1.0e+07   2.7e+03     622         max_eval         update_μ\n",
      "[ Info:     11  -1.7e-02   9.4e+02   2.4e-03   1.0e+07   2.7e+04     626         max_eval         update_y\n",
      "[ Info:     12  -1.7e-02   9.4e+02   2.4e-03   1.0e+08   2.7e+04     630         max_eval         update_μ\n",
      "[ Info:     13  -1.7e-02   9.4e+03   2.4e-03   1.0e+08   2.7e+05     634         max_eval         update_y\n",
      "[ Info:     14  -1.7e-02   9.4e+03   2.4e-03   1.0e+09   2.7e+05     638         max_eval         update_μ\n",
      "[ Info:     15  -1.7e-02   9.4e+04   2.4e-03   1.0e+09   2.7e+06     642         max_eval         update_y\n",
      "[ Info:     16  -1.7e-02   9.4e+04   2.4e-03   1.0e+10   2.7e+06     646         max_eval         update_μ\n",
      "[ Info:     17  -1.7e-02   9.4e+05   2.4e-03   1.0e+10   2.7e+07     650         max_eval         update_y\n",
      "[ Info:     18  -1.7e-02   9.4e+05   2.4e-03   1.0e+11   2.7e+07     654         max_eval         update_μ\n",
      "[ Info:     19  -1.7e-02   9.4e+06   2.4e-03   1.0e+11   2.7e+08     658         max_eval         update_y\n",
      "[ Info:     20  -1.7e-02   9.4e+06   2.4e-03   1.0e+12   2.7e+08     662         max_eval         update_μ\n",
      "[ Info:     21  -1.7e-02   9.4e+07   2.4e-03   1.0e+12   2.7e+09     666         max_eval         update_y\n",
      "[ Info:     22  -1.7e-02   9.4e+07   2.4e-03   1.0e+13   2.7e+09     670         max_eval         update_μ\n",
      "[ Info:     23  -1.7e-02   9.4e+08   2.4e-03   1.0e+13   2.7e+10     674         max_eval         update_y\n",
      "[ Info:     24  -1.7e-02   9.4e+08   2.4e-03   1.0e+14   2.7e+10     678         max_eval         update_μ\n",
      "[ Info:     25  -1.7e-02   9.4e+09   2.4e-03   1.0e+14   2.7e+11     682         max_eval         update_y\n",
      "[ Info:     26  -1.7e-02   9.4e+09   2.4e-03   1.0e+15   2.7e+11     686         max_eval         update_μ\n",
      "[ Info:     27  -1.7e-02   9.4e+10   2.4e-03   1.0e+15   2.7e+12     690         max_eval         update_y\n",
      "[ Info:     28  -1.7e-02   9.4e+10   2.4e-03   1.0e+16   2.7e+12     694         max_eval         update_μ\n",
      "[ Info:     29  -1.7e-02   9.4e+11   2.4e-03   1.0e+16   2.7e+13     698         max_eval         update_y\n",
      "[ Info:     30  -1.7e-02   9.4e+11   2.4e-03   1.0e+17   2.7e+13     702         max_eval         update_μ\n",
      "[ Info:   iter        fx    normgp    normcx         μ     normy    sumc     inner_status        iter_type  \n",
      "[ Info:      0  -1.7e-02   8.0e+01   1.2e+00   1.0e+01   8.0e+01       5\n",
      "[ Info:      1  -1.7e-02   8.0e+01   1.2e+00   1.0e+02   8.0e+01       9      first_order         update_μ\n",
      "[ Info:      2  -1.8e-02   8.0e+01   8.1e-01   1.0e+03   8.0e+01      21      first_order         update_μ\n",
      "[ Info:      3   6.2e-02   2.4e-02   8.0e-02   1.0e+03   4.2e+00     156      first_order         update_y\n",
      "[ Info:      4   7.6e-02   1.9e-02   1.6e-03   1.0e+04   4.2e+00     598         max_eval         update_μ\n",
      "[ Info:      5   7.6e-02   1.3e+01   1.6e-03   1.0e+04   1.5e+01     602         max_eval         update_y\n",
      "[ Info:      6   7.6e-02   1.3e+01   1.6e-03   1.0e+05   1.5e+01     606         max_eval         update_μ\n",
      "[ Info:      7   7.6e-02   1.6e+02   1.6e-03   1.0e+05   1.7e+02     610         max_eval         update_y\n",
      "[ Info:      8   7.6e-02   1.6e+02   1.6e-03   1.0e+06   1.7e+02     614         max_eval         update_μ\n",
      "[ Info:      9   7.6e-02   1.6e+03   1.6e-03   1.0e+06   1.7e+03     618         max_eval         update_y\n",
      "[ Info:     10   7.6e-02   1.6e+03   1.6e-03   1.0e+07   1.7e+03     622         max_eval         update_μ\n",
      "[ Info:     11   7.6e-02   1.6e+04   1.6e-03   1.0e+07   1.7e+04     626         max_eval         update_y\n",
      "[ Info:     12   7.6e-02   1.6e+04   1.6e-03   1.0e+08   1.7e+04     630         max_eval         update_μ\n",
      "[ Info:     13   7.6e-02   1.6e+05   1.6e-03   1.0e+08   1.7e+05     634         max_eval         update_y\n",
      "[ Info:     14   7.6e-02   1.6e+05   1.6e-03   1.0e+09   1.7e+05     638         max_eval         update_μ\n",
      "[ Info:     15   7.6e-02   1.6e+06   1.6e-03   1.0e+09   1.7e+06     642         max_eval         update_y\n",
      "[ Info:     16   7.6e-02   1.6e+06   1.6e-03   1.0e+10   1.7e+06     646         max_eval         update_μ\n",
      "[ Info:     17   7.6e-02   1.6e+07   1.6e-03   1.0e+10   1.7e+07     650         max_eval         update_y\n",
      "[ Info:     18   7.6e-02   1.6e+07   1.6e-03   1.0e+11   1.7e+07     654         max_eval         update_μ\n",
      "[ Info:     19   7.6e-02   1.6e+08   1.6e-03   1.0e+11   1.7e+08     658         max_eval         update_y\n",
      "[ Info:     20   7.6e-02   1.6e+08   1.6e-03   1.0e+12   1.7e+08     662         max_eval         update_μ\n",
      "[ Info:     21   7.6e-02   1.6e+09   1.6e-03   1.0e+12   1.7e+09     666         max_eval         update_y\n",
      "[ Info:     22   7.6e-02   1.6e+09   1.6e-03   1.0e+13   1.7e+09     670         max_eval         update_μ\n",
      "[ Info:     23   7.6e-02   1.6e+10   1.6e-03   1.0e+13   1.7e+10     674         max_eval         update_y\n",
      "[ Info:     24   7.6e-02   1.6e+10   1.6e-03   1.0e+14   1.7e+10     678         max_eval         update_μ\n",
      "[ Info:     25   7.6e-02   1.6e+11   1.6e-03   1.0e+14   1.7e+11     682         max_eval         update_y\n",
      "[ Info:     26   7.6e-02   1.6e+11   1.6e-03   1.0e+15   1.7e+11     686         max_eval         update_μ\n",
      "[ Info:     27   7.6e-02   1.6e+12   1.6e-03   1.0e+15   1.7e+12     690         max_eval         update_y\n",
      "[ Info:     28   7.6e-02   1.6e+12   1.6e-03   1.0e+16   1.7e+12     694         max_eval         update_μ\n",
      "[ Info:     29   7.6e-02   1.6e+13   1.6e-03   1.0e+16   1.7e+13     698         max_eval         update_y\n",
      "[ Info:     30   7.6e-02   1.6e+13   1.6e-03   1.0e+17   1.7e+13     702         max_eval         update_μ\n"
     ]
    },
    {
     "output_type": "execute_result",
     "data": {
      "text/plain": "151.97523885594254"
     },
     "metadata": {},
     "execution_count": 4
    }
   ],
   "cell_type": "code",
   "source": [
    "x0 = fill(0.5, 160 * 40) # initial design\n",
    "N = length(x0)\n",
    "penalty = TopOpt.PowerPenalty(1.0)\n",
    "solver = FEASolver(Direct, problem; xmin=xmin, penalty=penalty)\n",
    "stress = TopOpt.von_mises_stress_function(solver)\n",
    "filter = DensityFilter(solver; rmin=rmin)\n",
    "volfrac = TopOpt.Volume(solver)\n",
    "\n",
    "obj = x -> volfrac(filter(PseudoDensities(x))) - V\n",
    "thr = 150 # stress threshold\n",
    "constr = x -> begin\n",
    "    s = stress(filter(PseudoDensities(x)))\n",
    "    return (s .- thr) / length(s)\n",
    "end\n",
    "alg = PercivalAlg()\n",
    "options = PercivalOptions()\n",
    "model = Model(obj)\n",
    "addvar!(model, zeros(N), ones(N))\n",
    "add_ineq_constraint!(model, constr)\n",
    "\n",
    "x = copy(x0)\n",
    "for p in [1.0, 2.0, 3.0]\n",
    "    TopOpt.setpenalty!(solver, p)\n",
    "    global r = optimize(model, alg, x; options)\n",
    "    global x = r.minimizer\n",
    "end\n",
    "\n",
    "maximum(stress(filter(PseudoDensities(x0))))\n",
    "maximum(stress(filter(PseudoDensities(x))))"
   ],
   "metadata": {},
   "execution_count": 4
  },
  {
   "cell_type": "markdown",
   "source": [
    "### (Optional) Visualize the result using Makie.jl\n",
    "Need to run `using Pkg; Pkg.add([\"Makie\", \"GLMakie\"])` first\n",
    "```julia\n",
    "using Makie, GLMakie\n",
    "using TopOpt.TopOptProblems.Visualization: visualize\n",
    "fig = visualize(\n",
    "   problem; topology = r.minimizer, default_exagg_scale = 0.07,\n",
    "   scale_range = 10.0, vector_linewidth = 3, vector_arrowsize = 0.5,\n",
    ")\n",
    "Makie.display(fig)\n",
    "```"
   ],
   "metadata": {}
  },
  {
   "cell_type": "markdown",
   "source": [
    "---\n",
    "\n",
    "*This notebook was generated using [Literate.jl](https://github.com/fredrikekre/Literate.jl).*"
   ],
   "metadata": {}
  }
 ],
 "nbformat_minor": 3,
 "metadata": {
  "language_info": {
   "file_extension": ".jl",
   "mimetype": "application/julia",
   "name": "julia",
   "version": "1.9.2"
  },
  "kernelspec": {
   "name": "julia-1.9",
   "display_name": "Julia 1.9.2",
   "language": "julia"
  }
 },
 "nbformat": 4
}
