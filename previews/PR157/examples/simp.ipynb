{
 "cells": [
  {
   "cell_type": "markdown",
   "source": [
    "# SIMP example: Point Load Cantilever"
   ],
   "metadata": {}
  },
  {
   "cell_type": "markdown",
   "source": [
    "## Commented Program\n",
    "\n",
    "What follows is a program spliced with comments."
   ],
   "metadata": {}
  },
  {
   "outputs": [],
   "cell_type": "code",
   "source": [
    "using TopOpt"
   ],
   "metadata": {},
   "execution_count": 1
  },
  {
   "cell_type": "markdown",
   "source": [
    "### Define the problem"
   ],
   "metadata": {}
  },
  {
   "outputs": [],
   "cell_type": "code",
   "source": [
    "E = 1.0 # Young’s modulus\n",
    "v = 0.3 # Poisson’s ratio\n",
    "f = 1.0; # downward force\n",
    "\n",
    "nels = (30, 10, 10)\n",
    "problem = PointLoadCantilever(Val{:Linear}, nels, (1.0, 1.0, 1.0), E, v, f);"
   ],
   "metadata": {},
   "execution_count": 2
  },
  {
   "cell_type": "markdown",
   "source": [
    "See also the detailed API of `PointLoadCantilever`:"
   ],
   "metadata": {}
  },
  {
   "cell_type": "markdown",
   "source": [
    "### Parameter settings"
   ],
   "metadata": {}
  },
  {
   "outputs": [],
   "cell_type": "code",
   "source": [
    "V = 0.3 # volume fraction\n",
    "xmin = 1e-6 # minimum density\n",
    "rmin = 2.0; # density filter radius"
   ],
   "metadata": {},
   "execution_count": 3
  },
  {
   "cell_type": "markdown",
   "source": [
    "### Define a finite element solver"
   ],
   "metadata": {}
  },
  {
   "outputs": [
    {
     "output_type": "execute_result",
     "data": {
      "text/plain": ""
     },
     "metadata": {},
     "execution_count": 4
    }
   ],
   "cell_type": "code",
   "source": [
    "penalty = TopOpt.PowerPenalty(3.0)\n",
    "solver = FEASolver(Direct, problem; xmin=xmin, penalty=penalty)"
   ],
   "metadata": {},
   "execution_count": 4
  },
  {
   "cell_type": "markdown",
   "source": [
    "### Define compliance objective"
   ],
   "metadata": {}
  },
  {
   "outputs": [
    {
     "output_type": "execute_result",
     "data": {
      "text/plain": "#1 (generic function with 1 method)"
     },
     "metadata": {},
     "execution_count": 5
    }
   ],
   "cell_type": "code",
   "source": [
    "comp = TopOpt.Compliance(solver)\n",
    "filter = DensityFilter(solver; rmin=rmin)\n",
    "obj = x -> comp(filter(PseudoDensities(x)))"
   ],
   "metadata": {},
   "execution_count": 5
  },
  {
   "cell_type": "markdown",
   "source": [
    "### Define volume constraint"
   ],
   "metadata": {}
  },
  {
   "outputs": [
    {
     "output_type": "execute_result",
     "data": {
      "text/plain": "#3 (generic function with 1 method)"
     },
     "metadata": {},
     "execution_count": 6
    }
   ],
   "cell_type": "code",
   "source": [
    "volfrac = TopOpt.Volume(solver)\n",
    "constr = x -> volfrac(filter(PseudoDensities(x))) - V"
   ],
   "metadata": {},
   "execution_count": 6
  },
  {
   "cell_type": "markdown",
   "source": [
    "### Define subproblem optimizer"
   ],
   "metadata": {}
  },
  {
   "outputs": [
    {
     "name": "stdout",
     "output_type": "stream",
     "text": [
      "[ Info:   iter       obj      Δobj  violation  kkt_residual  \n",
      "[ Info:      0   4.9e+02       Inf   0.0e+00   3.0e+01\n",
      "[ Info:      1   3.6e+02   1.3e+02   0.0e+00   1.4e+02\n",
      "[ Info:      2   2.1e+02   1.5e+02   0.0e+00   7.6e+01\n",
      "[ Info:      3   1.4e+02   7.2e+01   0.0e+00   1.9e+01\n",
      "[ Info:      4   1.0e+02   3.5e+01   0.0e+00   8.0e+00\n",
      "[ Info:      5   8.2e+01   1.9e+01   0.0e+00   4.3e+00\n",
      "[ Info:      6   7.0e+01   1.2e+01   0.0e+00   2.9e+00\n",
      "[ Info:      7   6.2e+01   8.4e+00   0.0e+00   2.3e+00\n",
      "[ Info:      8   5.6e+01   5.7e+00   0.0e+00   1.4e+00\n",
      "[ Info:      9   5.3e+01   3.6e+00   0.0e+00   8.1e-01\n",
      "[ Info:     10   5.0e+01   2.4e+00   0.0e+00   5.6e-01\n",
      "[ Info:     11   4.8e+01   1.8e+00   0.0e+00   4.1e-01\n",
      "[ Info:     12   4.7e+01   1.3e+00   0.0e+00   3.0e-01\n",
      "[ Info:     13   4.6e+01   1.0e+00   0.0e+00   2.2e-01\n",
      "[ Info:     14   4.5e+01   8.6e-01   0.0e+00   2.0e-01\n",
      "[ Info:     15   4.4e+01   7.5e-01   0.0e+00   1.7e-01\n",
      "[ Info:     16   4.4e+01   6.4e-01   0.0e+00   1.4e-01\n",
      "[ Info:     17   4.3e+01   4.9e-01   0.0e+00   1.0e-01\n",
      "[ Info:     18   4.3e+01   3.4e-01   0.0e+00   7.2e-02\n",
      "[ Info:     19   4.3e+01   2.4e-01   0.0e+00   4.9e-02\n",
      "[ Info:     20   4.3e+01   1.4e-01   0.0e+00   2.5e-02\n",
      "[ Info:     21   4.3e+01   8.1e-02   0.0e+00   1.8e-02\n",
      "[ Info:     22   4.2e+01   7.0e-02   0.0e+00   1.7e-02\n",
      "[ Info:     23   4.2e+01   5.7e-02   0.0e+00   1.3e-02\n",
      "[ Info:     24   4.2e+01   4.3e-02   0.0e+00   1.2e-02\n",
      "[ Info:     25   4.2e+01   2.8e-02   0.0e+00   1.2e-02\n",
      "[ Info:     26   4.2e+01   1.9e-02   0.0e+00   1.1e-02\n",
      "[ Info:     27   4.2e+01   1.5e-02   0.0e+00   1.2e-02\n",
      "[ Info:     28   4.2e+01   1.4e-02   0.0e+00   1.1e-02\n",
      "[ Info:     29   4.2e+01   1.3e-02   0.0e+00   9.4e-03\n",
      "[ Info:     30   4.2e+01   1.0e-02   0.0e+00   7.2e-03\n",
      "[ Info:     31   4.2e+01   7.8e-03   0.0e+00   6.8e-03\n",
      "[ Info:     32   4.2e+01   5.7e-03   0.0e+00   7.3e-03\n",
      "[ Info:     33   4.2e+01   5.0e-03   0.0e+00   5.3e-03\n",
      "[ Info:     34   4.2e+01   4.1e-03   0.0e+00   3.4e-03\n",
      "[ Info:     35   4.2e+01   3.0e-03   0.0e+00   3.4e-03\n",
      "[ Info:     36   4.2e+01   3.0e-03   0.0e+00   3.4e-03\n",
      "[ Info:     37   4.2e+01   3.1e-03   0.0e+00   3.3e-03\n",
      "[ Info:     38   4.2e+01   2.8e-03   0.0e+00   3.0e-03\n",
      "[ Info:     39   4.2e+01   2.1e-03   0.0e+00   3.0e-03\n",
      "[ Info:     40   4.2e+01   1.9e-03   0.0e+00   2.9e-03\n",
      "[ Info:     41   4.2e+01   1.3e-03   0.0e+00   2.0e-03\n",
      "[ Info:     42   4.2e+01   9.7e-04   0.0e+00   1.9e-03\n",
      "[ Info:     43   4.2e+01   7.5e-04   0.0e+00   1.2e-03\n",
      "[ Info:     44   4.2e+01   3.9e-04   0.0e+00   1.0e-03\n",
      "[ Info:     45   4.2e+01   2.8e-04   0.0e+00   9.1e-04\n",
      "obj(r.minimizer) = 42.23812907385093\n"
     ]
    },
    {
     "output_type": "execute_result",
     "data": {
      "text/plain": "42.23812907385093"
     },
     "metadata": {},
     "execution_count": 7
    }
   ],
   "cell_type": "code",
   "source": [
    "x0 = fill(V, length(solver.vars))\n",
    "model = Model(obj)\n",
    "addvar!(model, zeros(length(x0)), ones(length(x0)))\n",
    "add_ineq_constraint!(model, constr)\n",
    "alg = MMA87()\n",
    "convcriteria = Nonconvex.KKTCriteria()\n",
    "options = MMAOptions(;\n",
    "    maxiter=3000, tol=Nonconvex.Tolerance(; x=1e-3, f=1e-3, kkt=0.001), convcriteria\n",
    ")\n",
    "r = optimize(model, alg, x0; options)\n",
    "\n",
    "@show obj(r.minimizer)"
   ],
   "metadata": {},
   "execution_count": 7
  },
  {
   "cell_type": "markdown",
   "source": [
    "### (Optional) Visualize the result using Makie.jl\n",
    "Need to run `using Pkg; Pkg.add([\"Makie\", \"GLMakie\"])` first\n",
    "```julia\n",
    "using Makie, GLMakie\n",
    "using TopOpt.TopOptProblems.Visualization: visualize\n",
    "fig = visualize(\n",
    "    problem; topology = r.minimizer,\n",
    "    default_exagg_scale = 0.07, scale_range = 10.0,\n",
    "    vector_linewidth = 3, vector_arrowsize = 0.5,\n",
    ")\n",
    "Makie.display(fig)\n",
    "```"
   ],
   "metadata": {}
  },
  {
   "cell_type": "markdown",
   "source": [
    "or convert it to a Mesh\n",
    "Need to run `using Pkg; Pkg.add(GeometryBasics)` first\n",
    "```julia\n",
    "import Makie, GeometryBasics\n",
    "result_mesh = GeometryBasics.Mesh(problem, r.minimizer);\n",
    "Makie.mesh(result_mesh)\n",
    "```"
   ],
   "metadata": {}
  },
  {
   "cell_type": "markdown",
   "source": [
    "---\n",
    "\n",
    "*This notebook was generated using [Literate.jl](https://github.com/fredrikekre/Literate.jl).*"
   ],
   "metadata": {}
  }
 ],
 "nbformat_minor": 3,
 "metadata": {
  "language_info": {
   "file_extension": ".jl",
   "mimetype": "application/julia",
   "name": "julia",
   "version": "1.9.2"
  },
  "kernelspec": {
   "name": "julia-1.9",
   "display_name": "Julia 1.9.2",
   "language": "julia"
  }
 },
 "nbformat": 4
}
