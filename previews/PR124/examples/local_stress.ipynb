{
 "cells": [
  {
   "cell_type": "markdown",
   "source": [
    "using Revise"
   ],
   "metadata": {}
  },
  {
   "outputs": [
    {
     "output_type": "execute_result",
     "data": {
      "text/plain": "3.0"
     },
     "metadata": {},
     "execution_count": 1
    }
   ],
   "cell_type": "code",
   "source": [
    "using TopOpt, LinearAlgebra, StatsFuns\n",
    "using StatsFuns: logsumexp\n",
    "\n",
    "E = 1.0 # Young’s modulus\n",
    "v = 0.3 # Poisson’s ratio\n",
    "f = 1.0 # downward force\n",
    "rmin = 3.0"
   ],
   "metadata": {},
   "execution_count": 1
  },
  {
   "cell_type": "markdown",
   "source": [
    "### Define the problem"
   ],
   "metadata": {}
  },
  {
   "outputs": [
    {
     "output_type": "execute_result",
     "data": {
      "text/plain": ""
     },
     "metadata": {},
     "execution_count": 2
    }
   ],
   "cell_type": "code",
   "source": [
    "problem = PointLoadCantilever(Val{:Linear}, (160, 40), (1.0, 1.0), E, v, f)"
   ],
   "metadata": {},
   "execution_count": 2
  },
  {
   "cell_type": "markdown",
   "source": [
    "### Parameter settings"
   ],
   "metadata": {}
  },
  {
   "outputs": [
    {
     "output_type": "execute_result",
     "data": {
      "text/plain": "40"
     },
     "metadata": {},
     "execution_count": 3
    }
   ],
   "cell_type": "code",
   "source": [
    "V = 0.5 # volume fraction\n",
    "xmin = 0.0001 # minimum density\n",
    "steps = 40 # maximum number of penalty steps, delta_p0 = 0.1"
   ],
   "metadata": {},
   "execution_count": 3
  },
  {
   "cell_type": "markdown",
   "source": [
    "### Continuation SIMP"
   ],
   "metadata": {}
  },
  {
   "outputs": [
    {
     "name": "stdout",
     "output_type": "stream",
     "text": [
      "[ Info:   iter        fx    normgp    normcx         μ     normy    sumc     inner_status        iter_type  \n",
      "[ Info:      0  -5.5e-05   8.0e+01   1.3e+00   1.0e+01   8.0e+01       5\n",
      "[ Info:      1  -5.5e-05   8.0e+01   1.3e+00   1.0e+02   8.0e+01       9      first_order         update_μ\n",
      "[ Info:      2  -3.9e-04   8.0e+01   8.0e-01   1.0e+03   8.0e+01      22      first_order         update_μ\n",
      "[ Info:      3  -2.3e-04   1.3e-02   8.0e-02   1.0e+03   4.3e-03      33      first_order         update_y\n",
      "[ Info:      4  -1.3e-01   2.2e-01   3.8e-04   1.0e+03   3.9e-01     598         max_eval         update_y\n",
      "[ Info:      5  -1.3e-01   2.2e-01   3.8e-04   1.0e+04   3.9e-01     602         max_eval         update_μ\n",
      "[ Info:      6  -1.3e-01   2.0e+00   3.8e-04   1.0e+04   4.2e+00     606         max_eval         update_y\n",
      "[ Info:      7  -1.3e-01   2.0e+00   3.8e-04   1.0e+05   4.2e+00     610         max_eval         update_μ\n",
      "[ Info:      8  -1.3e-01   2.0e+01   3.8e-04   1.0e+05   4.3e+01     614         max_eval         update_y\n",
      "[ Info:      9  -1.3e-01   2.0e+01   3.8e-04   1.0e+06   4.3e+01     618         max_eval         update_μ\n",
      "[ Info:     10  -1.3e-01   2.0e+02   3.8e-04   1.0e+06   4.3e+02     622         max_eval         update_y\n",
      "[ Info:     11  -1.3e-01   2.0e+02   3.8e-04   1.0e+07   4.3e+02     626         max_eval         update_μ\n",
      "[ Info:     12  -1.3e-01   2.0e+03   3.8e-04   1.0e+07   4.3e+03     630         max_eval         update_y\n",
      "[ Info:     13  -1.3e-01   2.0e+03   3.8e-04   1.0e+08   4.3e+03     634         max_eval         update_μ\n",
      "[ Info:     14  -1.3e-01   2.0e+04   3.8e-04   1.0e+08   4.3e+04     638         max_eval         update_y\n",
      "[ Info:     15  -1.3e-01   2.0e+04   3.8e-04   1.0e+09   4.3e+04     642         max_eval         update_μ\n",
      "[ Info:     16  -1.3e-01   2.0e+05   3.8e-04   1.0e+09   4.3e+05     646         max_eval         update_y\n",
      "[ Info:     17  -1.3e-01   2.0e+05   3.8e-04   1.0e+10   4.3e+05     650         max_eval         update_μ\n",
      "[ Info:     18  -1.3e-01   2.0e+06   3.8e-04   1.0e+10   4.3e+06     654         max_eval         update_y\n",
      "[ Info:     19  -1.3e-01   2.0e+06   3.8e-04   1.0e+11   4.3e+06     658         max_eval         update_μ\n",
      "[ Info:     20  -1.3e-01   2.0e+07   3.8e-04   1.0e+11   4.3e+07     662         max_eval         update_y\n",
      "[ Info:     21  -1.3e-01   2.0e+07   3.8e-04   1.0e+12   4.3e+07     666         max_eval         update_μ\n",
      "[ Info:     22  -1.3e-01   2.0e+08   3.8e-04   1.0e+12   4.3e+08     670         max_eval         update_y\n",
      "[ Info:     23  -1.3e-01   2.0e+08   3.8e-04   1.0e+13   4.3e+08     674         max_eval         update_μ\n",
      "[ Info:     24  -1.3e-01   2.0e+09   3.8e-04   1.0e+13   4.3e+09     678         max_eval         update_y\n",
      "[ Info:     25  -1.3e-01   2.0e+09   3.8e-04   1.0e+14   4.3e+09     682         max_eval         update_μ\n",
      "[ Info:     26  -1.3e-01   2.0e+10   3.8e-04   1.0e+14   4.3e+10     686         max_eval         update_y\n",
      "[ Info:     27  -1.3e-01   2.0e+10   3.8e-04   1.0e+15   4.3e+10     690         max_eval         update_μ\n",
      "[ Info:     28  -1.3e-01   2.0e+11   3.8e-04   1.0e+15   4.3e+11     694         max_eval         update_y\n",
      "[ Info:     29  -1.3e-01   2.0e+11   3.8e-04   1.0e+16   4.3e+11     698         max_eval         update_μ\n",
      "[ Info:     30  -1.3e-01   2.0e+12   3.8e-04   1.0e+16   4.3e+12     702         max_eval         update_y\n",
      "[ Info:     31  -1.3e-01   2.0e+12   3.8e-04   1.0e+17   4.3e+12     706         max_eval         update_μ\n",
      "[ Info:   iter        fx    normgp    normcx         μ     normy    sumc     inner_status        iter_type  \n",
      "[ Info:      0  -1.3e-01   8.0e+01   1.3e+00   1.0e+01   8.0e+01       5\n",
      "[ Info:      1  -1.3e-01   8.0e+01   1.3e+00   1.0e+02   8.0e+01       9      first_order         update_μ\n",
      "[ Info:      2  -1.3e-01   8.0e+01   8.6e-01   1.0e+03   8.0e+01      21      first_order         update_μ\n",
      "[ Info:      3  -3.1e-02   2.0e-02   8.0e-02   1.0e+03   3.4e+00     153      first_order         update_y\n",
      "[ Info:      4  -2.2e-02   1.7e-02   1.3e-03   1.0e+04   3.4e+00     598         max_eval         update_μ\n",
      "[ Info:      5  -2.2e-02   6.9e+00   1.3e-03   1.0e+04   1.5e+01     602         max_eval         update_y\n",
      "[ Info:      6  -2.2e-02   6.9e+00   1.3e-03   1.0e+05   1.5e+01     606         max_eval         update_μ\n",
      "[ Info:      7  -2.2e-02   8.3e+01   1.3e-03   1.0e+05   1.4e+02     610         max_eval         update_y\n",
      "[ Info:      8  -2.2e-02   8.3e+01   1.3e-03   1.0e+06   1.4e+02     614         max_eval         update_μ\n",
      "[ Info:      9  -2.2e-02   8.5e+02   1.3e-03   1.0e+06   1.4e+03     618         max_eval         update_y\n",
      "[ Info:     10  -2.2e-02   8.5e+02   1.3e-03   1.0e+07   1.4e+03     622         max_eval         update_μ\n",
      "[ Info:     11  -2.2e-02   8.5e+03   1.3e-03   1.0e+07   1.4e+04     626         max_eval         update_y\n",
      "[ Info:     12  -2.2e-02   8.5e+03   1.3e-03   1.0e+08   1.4e+04     630         max_eval         update_μ\n",
      "[ Info:     13  -2.2e-02   8.5e+04   1.3e-03   1.0e+08   1.4e+05     634         max_eval         update_y\n",
      "[ Info:     14  -2.2e-02   8.5e+04   1.3e-03   1.0e+09   1.4e+05     638         max_eval         update_μ\n",
      "[ Info:     15  -2.2e-02   8.5e+05   1.3e-03   1.0e+09   1.4e+06     642         max_eval         update_y\n",
      "[ Info:     16  -2.2e-02   8.5e+05   1.3e-03   1.0e+10   1.4e+06     646         max_eval         update_μ\n",
      "[ Info:     17  -2.2e-02   8.5e+06   1.3e-03   1.0e+10   1.4e+07     650         max_eval         update_y\n",
      "[ Info:     18  -2.2e-02   8.5e+06   1.3e-03   1.0e+11   1.4e+07     654         max_eval         update_μ\n",
      "[ Info:     19  -2.2e-02   8.5e+07   1.3e-03   1.0e+11   1.4e+08     658         max_eval         update_y\n",
      "[ Info:     20  -2.2e-02   8.5e+07   1.3e-03   1.0e+12   1.4e+08     662         max_eval         update_μ\n",
      "[ Info:     21  -2.2e-02   8.5e+08   1.3e-03   1.0e+12   1.4e+09     666         max_eval         update_y\n",
      "[ Info:     22  -2.2e-02   8.5e+08   1.3e-03   1.0e+13   1.4e+09     670         max_eval         update_μ\n",
      "[ Info:     23  -2.2e-02   8.5e+09   1.3e-03   1.0e+13   1.4e+10     674         max_eval         update_y\n",
      "[ Info:     24  -2.2e-02   8.5e+09   1.3e-03   1.0e+14   1.4e+10     678         max_eval         update_μ\n",
      "[ Info:     25  -2.2e-02   8.5e+10   1.3e-03   1.0e+14   1.4e+11     682         max_eval         update_y\n",
      "[ Info:     26  -2.2e-02   8.5e+10   1.3e-03   1.0e+15   1.4e+11     686         max_eval         update_μ\n",
      "[ Info:     27  -2.2e-02   8.5e+11   1.3e-03   1.0e+15   1.4e+12     690         max_eval         update_y\n",
      "[ Info:     28  -2.2e-02   8.5e+11   1.3e-03   1.0e+16   1.4e+12     694         max_eval         update_μ\n",
      "[ Info:     29  -2.2e-02   8.5e+12   1.3e-03   1.0e+16   1.4e+13     698         max_eval         update_y\n",
      "[ Info:     30  -2.2e-02   8.5e+12   1.3e-03   1.0e+17   1.4e+13     702         max_eval         update_μ\n",
      "[ Info:   iter        fx    normgp    normcx         μ     normy    sumc     inner_status        iter_type  \n",
      "[ Info:      0  -2.2e-02   8.0e+01   1.2e+00   1.0e+01   8.0e+01       5\n",
      "[ Info:      1  -2.2e-02   8.0e+01   1.2e+00   1.0e+02   8.0e+01       9      first_order         update_μ\n",
      "[ Info:      2  -2.3e-02   8.0e+01   8.1e-01   1.0e+03   8.0e+01      21      first_order         update_μ\n",
      "[ Info:      3   6.1e-02   2.5e-02   8.0e-02   1.0e+03   3.0e+00     171      first_order         update_y\n",
      "[ Info:      4   6.8e-02   2.4e-02   1.5e-03   1.0e+04   3.0e+00     598         max_eval         update_μ\n",
      "[ Info:      5   6.8e-02   5.8e-01   1.5e-03   1.0e+04   1.8e+01     602         max_eval         update_y\n",
      "[ Info:      6   6.8e-02   5.8e-01   1.5e-03   1.0e+05   1.8e+01     606         max_eval         update_μ\n",
      "[ Info:      7   6.8e-02   2.9e+00   1.5e-03   1.0e+05   1.7e+02     610         max_eval         update_y\n",
      "[ Info:      8   6.8e-02   2.9e+00   1.5e-03   1.0e+06   1.7e+02     614         max_eval         update_μ\n",
      "[ Info:      9   6.8e-02   2.7e+01   1.5e-03   1.0e+06   1.6e+03     618         max_eval         update_y\n",
      "[ Info:     10   6.8e-02   2.7e+01   1.5e-03   1.0e+07   1.6e+03     622         max_eval         update_μ\n",
      "[ Info:     11   6.8e-02   2.5e+02   1.5e-03   1.0e+07   1.6e+04     626         max_eval         update_y\n",
      "[ Info:     12   6.8e-02   2.5e+02   1.5e-03   1.0e+08   1.6e+04     630         max_eval         update_μ\n",
      "[ Info:     13   6.8e-02   2.5e+03   1.5e-03   1.0e+08   1.6e+05     634         max_eval         update_y\n",
      "[ Info:     14   6.8e-02   2.5e+03   1.5e-03   1.0e+09   1.6e+05     638         max_eval         update_μ\n",
      "[ Info:     15   6.8e-02   2.5e+04   1.5e-03   1.0e+09   1.6e+06     642         max_eval         update_y\n",
      "[ Info:     16   6.8e-02   2.5e+04   1.5e-03   1.0e+10   1.6e+06     646         max_eval         update_μ\n",
      "[ Info:     17   6.8e-02   2.5e+05   1.5e-03   1.0e+10   1.6e+07     650         max_eval         update_y\n",
      "[ Info:     18   6.8e-02   2.5e+05   1.5e-03   1.0e+11   1.6e+07     654         max_eval         update_μ\n",
      "[ Info:     19   6.8e-02   2.5e+06   1.5e-03   1.0e+11   1.6e+08     658         max_eval         update_y\n",
      "[ Info:     20   6.8e-02   2.5e+06   1.5e-03   1.0e+12   1.6e+08     662         max_eval         update_μ\n",
      "[ Info:     21   6.8e-02   2.5e+07   1.5e-03   1.0e+12   1.6e+09     666         max_eval         update_y\n",
      "[ Info:     22   6.8e-02   2.5e+07   1.5e-03   1.0e+13   1.6e+09     670         max_eval         update_μ\n",
      "[ Info:     23   6.8e-02   2.5e+08   1.5e-03   1.0e+13   1.6e+10     674         max_eval         update_y\n",
      "[ Info:     24   6.8e-02   2.5e+08   1.5e-03   1.0e+14   1.6e+10     678         max_eval         update_μ\n",
      "[ Info:     25   6.8e-02   2.5e+09   1.5e-03   1.0e+14   1.6e+11     682         max_eval         update_y\n",
      "[ Info:     26   6.8e-02   2.5e+09   1.5e-03   1.0e+15   1.6e+11     686         max_eval         update_μ\n",
      "[ Info:     27   6.8e-02   2.5e+10   1.5e-03   1.0e+15   1.6e+12     690         max_eval         update_y\n",
      "[ Info:     28   6.8e-02   2.5e+10   1.5e-03   1.0e+16   1.6e+12     694         max_eval         update_μ\n",
      "[ Info:     29   6.8e-02   2.5e+11   1.5e-03   1.0e+16   1.6e+13     698         max_eval         update_y\n",
      "[ Info:     30   6.8e-02   2.5e+11   1.5e-03   1.0e+17   1.6e+13     702         max_eval         update_μ\n"
     ]
    },
    {
     "output_type": "execute_result",
     "data": {
      "text/plain": "153.12334381579024"
     },
     "metadata": {},
     "execution_count": 4
    }
   ],
   "cell_type": "code",
   "source": [
    "x0 = fill(0.5, 160 * 40) # initial design\n",
    "x = copy(x0)\n",
    "for p in [1.0, 2.0, 3.0]\n",
    "    global penalty, stress, filter, result, stress, x\n",
    "    penalty = TopOpt.PowerPenalty(p)\n",
    "    solver = FEASolver(Direct, problem; xmin=xmin, penalty=penalty)\n",
    "    stress = TopOpt.von_mises_stress_function(solver)\n",
    "    filter = DensityFilter(solver; rmin=rmin)\n",
    "    volfrac = TopOpt.Volume(solver)\n",
    "\n",
    "    obj = x -> volfrac(filter(PseudoDensities(x))) - V\n",
    "    thr = 150 # stress threshold\n",
    "    constr = x -> begin\n",
    "        s = stress(filter(PseudoDensities(x)))\n",
    "        return (s .- thr) / length(s)\n",
    "    end\n",
    "    alg = PercivalAlg()\n",
    "    options = PercivalOptions()\n",
    "    optimizer = Optimizer(obj, constr, x, alg; options=options)\n",
    "    simp = SIMP(optimizer, solver, p)\n",
    "    result = simp(x)\n",
    "    x = result.topology\n",
    "end\n",
    "\n",
    "maximum(stress(filter(PseudoDensities(x0))))\n",
    "maximum(stress(filter(PseudoDensities(x))))"
   ],
   "metadata": {},
   "execution_count": 4
  },
  {
   "cell_type": "markdown",
   "source": [
    "### (Optional) Visualize the result using Makie.jl\n",
    "Need to run `using Pkg; Pkg.add(Makie)` first\n",
    "```julia\n",
    "using Makie\n",
    "using TopOpt.TopOptProblems.Visualization: visualize\n",
    "fig = visualize(\n",
    "   problem; topology = penalty.(filter(result.topology)), default_exagg_scale = 0.07,\n",
    "   scale_range = 10.0, vector_linewidth = 3, vector_arrowsize = 0.5,\n",
    ")\n",
    "Makie.display(fig)\n",
    "```"
   ],
   "metadata": {}
  },
  {
   "cell_type": "markdown",
   "source": [
    "---\n",
    "\n",
    "*This notebook was generated using [Literate.jl](https://github.com/fredrikekre/Literate.jl).*"
   ],
   "metadata": {}
  }
 ],
 "nbformat_minor": 3,
 "metadata": {
  "language_info": {
   "file_extension": ".jl",
   "mimetype": "application/julia",
   "name": "julia",
   "version": "1.7.3"
  },
  "kernelspec": {
   "name": "julia-1.7",
   "display_name": "Julia 1.7.3",
   "language": "julia"
  }
 },
 "nbformat": 4
}
