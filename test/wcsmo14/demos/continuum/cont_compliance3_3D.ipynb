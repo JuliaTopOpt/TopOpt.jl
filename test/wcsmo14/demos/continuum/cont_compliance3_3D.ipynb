{
 "cells": [
  {
   "cell_type": "code",
   "execution_count": 12,
   "id": "unsigned-authentication",
   "metadata": {},
   "outputs": [],
   "source": [
    "using Makie, TopOpt, LinearAlgebra, StatsFuns\n",
    "using TopOpt.TopOptProblems.Visualization: visualize"
   ]
  },
  {
   "cell_type": "markdown",
   "id": "prescription-snowboard",
   "metadata": {},
   "source": [
    "## Parameter setup"
   ]
  },
  {
   "cell_type": "code",
   "execution_count": 13,
   "id": "sealed-mother",
   "metadata": {},
   "outputs": [],
   "source": [
    "E = 1.0 # Young’s modulus\n",
    "v = 0.3 # Poisson’s ratio\n",
    "f = 1.0 # downward force\n",
    "rmin = 4.0 # filter radius\n",
    "xmin = 0.0001 # minimum density\n",
    "problem_size = (30, 10, 10)\n",
    "V = 0.5 # maximum volume fraction\n",
    "p = 4.0 # penalty\n",
    "\n",
    "x0 = fill(V, prod(problem_size)); # initial design"
   ]
  },
  {
   "cell_type": "markdown",
   "id": "desperate-villa",
   "metadata": {},
   "source": [
    "## Define a new problem"
   ]
  },
  {
   "cell_type": "code",
   "execution_count": null,
   "id": "proprietary-termination",
   "metadata": {},
   "outputs": [],
   "source": [
    "using Ferrite\n",
    "using TopOpt\n",
    "using TopOpt.TopOptProblems: RectilinearGrid, Metadata\n",
    "using TopOpt.TopOptProblems: left, right, bottom, middley, middlez,\n",
    "    nnodespercell, nfacespercell, find_black_and_white, find_varind\n",
    "using TopOpt.Utilities: @params\n",
    "\n",
    "@params struct NewPointLoadCantilever{dim, T, N, M} <: StiffnessTopOptProblem{dim, T}\n",
    "    rect_grid::RectilinearGrid{dim, T, N, M}\n",
    "    E::T\n",
    "    ν::T\n",
    "    ch::ConstraintHandler{<:DofHandler{dim, <:Cell{dim,N,M}, T}, T}\n",
    "    load_dict::Dict{Int, Vector{T}}\n",
    "    black::AbstractVector\n",
    "    white::AbstractVector\n",
    "    varind::AbstractVector{Int}\n",
    "    metadata::Metadata\n",
    "end\n",
    "\n",
    "function NewPointLoadCantilever(::Type{Val{CellType}}, nels::NTuple{dim,Int}, sizes::NTuple{dim}, \n",
    "    E = 1.0, ν = 0.3, force = 1.0) where {dim, CellType}\n",
    "    iseven(nels[2]) && (length(nels) < 3 || iseven(nels[3])) || throw(\"Grid does not have an even number of elements along the y and/or z axes.\")\n",
    "\n",
    "    _T = promote_type(eltype(sizes), typeof(E), typeof(ν), typeof(force))\n",
    "    if _T <: Integer\n",
    "        T = Float64\n",
    "    else\n",
    "        T = _T\n",
    "    end\n",
    "    if CellType === :Linear || dim === 3\n",
    "        rect_grid = RectilinearGrid(Val{:Linear}, nels, T.(sizes))\n",
    "    else\n",
    "        rect_grid = RectilinearGrid(Val{:Quadratic}, nels, T.(sizes))\n",
    "    end\n",
    "\n",
    "    if haskey(rect_grid.grid.facesets, \"fixed_all\") \n",
    "        pop!(rect_grid.grid.facesets, \"fixed_all\")\n",
    "    end\n",
    "    addnodeset!(rect_grid.grid, \"fixed_all\", x -> left(rect_grid, x));\n",
    "    \n",
    "    if haskey(rect_grid.grid.nodesets, \"down_force\") \n",
    "        pop!(rect_grid.grid.nodesets, \"down_force\")\n",
    "    end\n",
    "    if dim == 3\n",
    "        addnodeset!(rect_grid.grid, \"down_force\", x -> right(rect_grid, x) && \n",
    "            bottom(rect_grid, x));\n",
    "            #  && middlez(rect_grid, x));\n",
    "    else\n",
    "        addnodeset!(rect_grid.grid, \"down_force\", x -> right(rect_grid, x) && \n",
    "            right(rect_grid, x) && middley(rect_grid, x));\n",
    "    end\n",
    "\n",
    "    # Create displacement field u\n",
    "    dh = DofHandler(rect_grid.grid)\n",
    "    if CellType === :Linear || dim === 3\n",
    "        push!(dh, :u, dim) # Add a displacement field\n",
    "    else\n",
    "        ip = Lagrange{2, RefCube, 2}()\n",
    "        push!(dh, :u, dim, ip) # Add a displacement field        \n",
    "    end\n",
    "    close!(dh)\n",
    "    \n",
    "    ch = ConstraintHandler(dh)\n",
    "\n",
    "    dbc = Dirichlet(:u, getnodeset(rect_grid.grid, \"fixed_all\"), (x,t) -> zeros(T, dim), collect(1:dim))\n",
    "    add!(ch, dbc)\n",
    "    close!(ch)\n",
    "    t = T(0)\n",
    "    Ferrite.update!(ch, t)\n",
    "\n",
    "    metadata = Metadata(dh)\n",
    "    load_dict = Dict{Int, Vector{T}}()\n",
    "    for fnode in getnodeset(rect_grid.grid, \"down_force\")\n",
    "    \tload_dict[fnode] = [0, -force, 0]\n",
    "    end\n",
    "\n",
    "    N = nnodespercell(rect_grid)\n",
    "    M = nfacespercell(rect_grid)\n",
    "\n",
    "    black, white = find_black_and_white(dh)\n",
    "    varind = find_varind(black, white)\n",
    "    \n",
    "    return NewPointLoadCantilever(rect_grid, E, ν, ch, load_dict, black, white, varind, metadata)\n",
    "end\n",
    "\n",
    "# used in FEA to determine default quad order\n",
    "# we don't assume the problem struct has `rect_grid` to define its grid\n",
    "TopOptProblems.nnodespercell(p::NewPointLoadCantilever) = nnodespercell(p.rect_grid)\n",
    "\n",
    "# ! important, used for specification!\n",
    "function TopOptProblems.getcloaddict(p::NewPointLoadCantilever{dim, T}) where {dim, T}\n",
    "    # f = T[0, -p.force, 0]\n",
    "    # fnode = Tuple(getnodeset(p.rect_grid.grid, \"down_force\"))[1]\n",
    "    # return Dict{Int, Vector{T}}(fnode => f)\n",
    "    return p.load_dict\n",
    "end"
   ]
  },
  {
   "cell_type": "code",
   "execution_count": 15,
   "id": "stunning-emission",
   "metadata": {},
   "outputs": [],
   "source": [
    "problem = NewPointLoadCantilever(Val{:Linear}, problem_size, (1.0, 1.0, 1.0), E, v, f);"
   ]
  },
  {
   "cell_type": "markdown",
   "id": "upset-function",
   "metadata": {},
   "source": [
    "## FEA solvers"
   ]
  },
  {
   "cell_type": "code",
   "execution_count": 16,
   "id": "cardiovascular-roller",
   "metadata": {},
   "outputs": [],
   "source": [
    "solver = FEASolver(Displacement, Direct, problem, xmin = xmin);"
   ]
  },
  {
   "cell_type": "code",
   "execution_count": 17,
   "id": "measured-ballot",
   "metadata": {},
   "outputs": [
    {
     "data": {
      "text/plain": [
       "11253-element Vector{Float64}:\n",
       "    0.0\n",
       "    0.0\n",
       "    0.0\n",
       "   -2.2099446376081686\n",
       "   -0.9999034775224457\n",
       "   -1.4202725587371576\n",
       "   -1.5759577627647248\n",
       "   -0.42196268331009407\n",
       "   -1.140815179503329\n",
       "    0.0\n",
       "    0.0\n",
       "    0.0\n",
       "    0.0\n",
       "    ⋮\n",
       "   28.54202289729392\n",
       " -106.73217916326222\n",
       "   -0.19481464550894279\n",
       "   28.60298050880803\n",
       " -112.64039125867208\n",
       "   -0.1259155145335127\n",
       "   28.61626113360229\n",
       " -118.4816362695016\n",
       "   -0.08202963419333631\n",
       "   28.614817608618498\n",
       " -124.26831756075559\n",
       "   -0.05206099717716567"
      ]
     },
     "execution_count": 17,
     "metadata": {},
     "output_type": "execute_result"
    }
   ],
   "source": [
    "solver()\n",
    "u0 = solver.u"
   ]
  },
  {
   "cell_type": "code",
   "execution_count": 24,
   "id": "hollywood-renaissance",
   "metadata": {},
   "outputs": [
    {
     "data": {
      "text/plain": [
       "GLMakie.Screen(...)"
      ]
     },
     "execution_count": 24,
     "metadata": {},
     "output_type": "execute_result"
    }
   ],
   "source": [
    "# visualize the deformation!\n",
    "fig = visualize(problem, u0, default_exagg_scale=0.001)\n",
    "Makie.display(fig)"
   ]
  },
  {
   "cell_type": "code",
   "execution_count": null,
   "id": "empirical-joining",
   "metadata": {},
   "outputs": [],
   "source": [
    "# cg_assembly_solver = FEASolver(Displacement, CG, Assembly, problem, xmin = xmin)\n",
    "# cg_matrix_free_solver = FEASolver(Displacement, CG, MatrixFree, problem, xmin = xmin)"
   ]
  },
  {
   "cell_type": "markdown",
   "id": "agreed-senator",
   "metadata": {},
   "source": [
    "## Construct objective and constraints (function definitions)"
   ]
  },
  {
   "cell_type": "code",
   "execution_count": 9,
   "id": "upset-actor",
   "metadata": {},
   "outputs": [],
   "source": [
    "cheqfilter = DensityFilter(solver, rmin = rmin)\n",
    "stress = TopOpt.MicroVonMisesStress(solver)\n",
    "comp = TopOpt.Compliance(problem, solver)\n",
    "\n",
    "# minimize compliance\n",
    "function obj(x)\n",
    "    return comp(cheqfilter(x))\n",
    "end\n",
    "\n",
    "# volume bound\n",
    "function constr(x)\n",
    "    return sum(cheqfilter(x)) / length(x) - V\n",
    "end;"
   ]
  },
  {
   "cell_type": "markdown",
   "id": "spatial-cisco",
   "metadata": {},
   "source": [
    "## Run optimization"
   ]
  },
  {
   "cell_type": "code",
   "execution_count": 10,
   "id": "necessary-avenue",
   "metadata": {},
   "outputs": [
    {
     "name": "stdout",
     "output_type": "stream",
     "text": [
      "153.589693 seconds (110.44 M allocations: 42.868 GiB, 1.61% gc time, 3.74% compilation time)\n"
     ]
    }
   ],
   "source": [
    "m = Model(obj)\n",
    "addvar!(m, zeros(length(x0)), ones(length(x0)))\n",
    "Nonconvex.add_ineq_constraint!(m, constr)\n",
    "\n",
    "## enable printout\n",
    "# Nonconvex.show_residuals[] = true\n",
    "\n",
    "options = MMAOptions(\n",
    "    maxiter=300, tol = Tolerance(kkt = 1e-3, x=1e-3, f = 1e-3),\n",
    ")\n",
    "TopOpt.setpenalty!(solver, p)\n",
    "\n",
    "@time r = Nonconvex.optimize(\n",
    "    m, MMA87(dualoptimizer = ConjugateGradient()),\n",
    "    x0, options = options,\n",
    ");"
   ]
  },
  {
   "cell_type": "code",
   "execution_count": 25,
   "id": "regulated-maria",
   "metadata": {},
   "outputs": [
    {
     "name": "stdout",
     "output_type": "stream",
     "text": [
      "obj(r.minimizer) = 5672.452630609205\n",
      "constr(r.minimizer) = -4.863027863732938e-8\n",
      "maximum(stress(cheqfilter(r.minimizer))) = 15.145781730644202\n"
     ]
    },
    {
     "data": {
      "text/plain": [
       "GLMakie.Screen(...)"
      ]
     },
     "execution_count": 25,
     "metadata": {},
     "output_type": "execute_result"
    }
   ],
   "source": [
    "# show the optimized results!\n",
    "@show obj(r.minimizer)\n",
    "@show constr(r.minimizer)\n",
    "@show maximum(stress(cheqfilter(r.minimizer)))\n",
    "\n",
    "topology = cheqfilter(r.minimizer);\n",
    "fig = visualize(problem; topology = topology)\n",
    "Makie.display(fig)"
   ]
  },
  {
   "cell_type": "markdown",
   "id": "unusual-montgomery",
   "metadata": {},
   "source": [
    "## Call FEA solver on a specific topology"
   ]
  },
  {
   "cell_type": "code",
   "execution_count": 26,
   "id": "smoking-allen",
   "metadata": {},
   "outputs": [
    {
     "data": {
      "text/plain": [
       "3000-element Vector{Float64}:\n",
       " 0.6455569842632476\n",
       " 0.4236545451239455\n",
       " 0.044862805566958874\n",
       " 0.9542087370192458\n",
       " 0.6504642288969307\n",
       " 0.4306438151326333\n",
       " 0.23930747761032745\n",
       " 0.08764429913373872\n",
       " 0.5953852761898275\n",
       " 0.9897591439954303\n",
       " 0.41688293061446346\n",
       " 0.0980683803328739\n",
       " 0.42263995694345\n",
       " ⋮\n",
       " 0.34500498556873804\n",
       " 0.5654966731690434\n",
       " 0.4270373733445141\n",
       " 0.24745180946706524\n",
       " 0.43101732106461377\n",
       " 0.5791902531241242\n",
       " 0.3536543711626272\n",
       " 0.5379279488753244\n",
       " 0.0940426776830654\n",
       " 0.6341951911058701\n",
       " 0.5582246946586948\n",
       " 0.34212377175901887"
      ]
     },
     "execution_count": 26,
     "metadata": {},
     "output_type": "execute_result"
    }
   ],
   "source": [
    "x1 = rand(length(solver.vars))"
   ]
  },
  {
   "cell_type": "code",
   "execution_count": 27,
   "id": "solar-referral",
   "metadata": {},
   "outputs": [
    {
     "data": {
      "text/plain": [
       "11253-element Vector{Float64}:\n",
       "    0.0\n",
       "    0.0\n",
       "    0.0\n",
       "   -3.5927948854669203\n",
       "   -2.395509384266713\n",
       "   -3.032531643501644\n",
       "   -2.625186954413685\n",
       "   -1.196913337647371\n",
       "   -2.391732435785961\n",
       "    0.0\n",
       "    0.0\n",
       "    0.0\n",
       "    0.0\n",
       "    ⋮\n",
       "   68.02072617245192\n",
       " -247.91872212704914\n",
       "   -4.662442856754097\n",
       "   68.12015900053154\n",
       " -261.64344363297784\n",
       "   -4.734501196903846\n",
       "   68.1293043245727\n",
       " -275.41561402718025\n",
       "   -4.785771622625838\n",
       "   68.08539197609508\n",
       " -289.0238991356753\n",
       "   -4.8434094988081915"
      ]
     },
     "execution_count": 27,
     "metadata": {},
     "output_type": "execute_result"
    }
   ],
   "source": [
    "solver.vars = x1\n",
    "solver()\n",
    "u1 = solver.u"
   ]
  },
  {
   "cell_type": "code",
   "execution_count": 28,
   "id": "sought-gamma",
   "metadata": {},
   "outputs": [
    {
     "data": {
      "text/plain": [
       "GLMakie.Screen(...)"
      ]
     },
     "execution_count": 28,
     "metadata": {},
     "output_type": "execute_result"
    }
   ],
   "source": [
    "# visualize the deformation!\n",
    "fig = visualize(problem, u1; topology=x1, default_exagg_scale=0.001)\n",
    "Makie.display(fig)"
   ]
  }
 ],
 "metadata": {
  "kernelspec": {
   "display_name": "Julia 1.6.0-rc1",
   "language": "julia",
   "name": "julia-1.6"
  },
  "language_info": {
   "file_extension": ".jl",
   "mimetype": "application/julia",
   "name": "julia",
   "version": "1.6.0"
  }
 },
 "nbformat": 4,
 "nbformat_minor": 5
}
